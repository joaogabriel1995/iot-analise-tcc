{
 "cells": [
  {
   "cell_type": "code",
   "execution_count": 16,
   "id": "134f65e3",
   "metadata": {},
   "outputs": [],
   "source": [
    "import pandas as pd\n",
    "import re\n",
    "import matplotlib.pyplot as plt\n",
    "import scipy\n",
    "import numpy as np\n",
    "import seaborn as sns"
   ]
  },
  {
   "attachments": {},
   "cell_type": "markdown",
   "id": "d098bd74",
   "metadata": {},
   "source": [
    "Objetivos do Script:\n",
    "\n",
    "Esse script tem como objetivo ler os dados que foram capturados da nossa amostra piloto e realizar alguns estudos em cima desses dados. \n",
    "\n",
    "Os 6 primeiros tópicos que eu separei abaixo são utilizados na grande maioria dos scripts de tratamento de dados desse estudo. \n",
    "Deixei padronizado para que seja possivel tratar simulações com um dispositivo ou vários.\n",
    "\n",
    "Sumário:\n",
    "  - Leitura dos dados\n",
    "  - Separar publicações e confirmação de entrega por dispositivo simulado.\n",
    "  - Criação de um dataframe com informações capturadas. \n",
    "  - Medidas de tendência centrar por dispositivo\n",
    "  - Medidas de tendência centrar de todos os dispositivos.\n",
    "  - Gráfico de dispersão da amostra.\n",
    "  - Calculo do tamanho da amostra.\n",
    "\n",
    "Como estamos trabalhando com uma amostra piloto temos como objetivo calcular o tamanho das amostras isso será realizado na ultima parte desse script.\n"
   ]
  },
  {
   "cell_type": "code",
   "execution_count": 17,
   "id": "f47c21fe",
   "metadata": {},
   "outputs": [
    {
     "data": {
      "text/html": [
       "<div>\n",
       "<style scoped>\n",
       "    .dataframe tbody tr th:only-of-type {\n",
       "        vertical-align: middle;\n",
       "    }\n",
       "\n",
       "    .dataframe tbody tr th {\n",
       "        vertical-align: top;\n",
       "    }\n",
       "\n",
       "    .dataframe thead th {\n",
       "        text-align: right;\n",
       "    }\n",
       "</style>\n",
       "<table border=\"1\" class=\"dataframe\">\n",
       "  <thead>\n",
       "    <tr style=\"text-align: right;\">\n",
       "      <th></th>\n",
       "      <th>No.</th>\n",
       "      <th>Time</th>\n",
       "      <th>Source</th>\n",
       "      <th>Destination</th>\n",
       "      <th>Protocol</th>\n",
       "      <th>Length</th>\n",
       "      <th>Source Port</th>\n",
       "      <th>Message Identifier</th>\n",
       "      <th>Destination Port</th>\n",
       "      <th>Info</th>\n",
       "    </tr>\n",
       "  </thead>\n",
       "  <tbody>\n",
       "    <tr>\n",
       "      <th>0</th>\n",
       "      <td>27</td>\n",
       "      <td>2.912368</td>\n",
       "      <td>192.168.15.8</td>\n",
       "      <td>130.185.238.170</td>\n",
       "      <td>MQTT</td>\n",
       "      <td>89</td>\n",
       "      <td>59595</td>\n",
       "      <td>NaN</td>\n",
       "      <td>1883</td>\n",
       "      <td>Connect Command</td>\n",
       "    </tr>\n",
       "    <tr>\n",
       "      <th>1</th>\n",
       "      <td>31</td>\n",
       "      <td>2.992240</td>\n",
       "      <td>192.168.15.8</td>\n",
       "      <td>130.185.238.170</td>\n",
       "      <td>MQTT</td>\n",
       "      <td>103</td>\n",
       "      <td>59595</td>\n",
       "      <td>1,2</td>\n",
       "      <td>1883</td>\n",
       "      <td>Subscribe Request (id=1) [devices-1], Publish ...</td>\n",
       "    </tr>\n",
       "    <tr>\n",
       "      <th>2</th>\n",
       "      <td>32</td>\n",
       "      <td>2.992206</td>\n",
       "      <td>130.185.238.170</td>\n",
       "      <td>192.168.15.8</td>\n",
       "      <td>MQTT</td>\n",
       "      <td>70</td>\n",
       "      <td>1883</td>\n",
       "      <td>NaN</td>\n",
       "      <td>59595</td>\n",
       "      <td>Connect Ack</td>\n",
       "    </tr>\n",
       "    <tr>\n",
       "      <th>3</th>\n",
       "      <td>35</td>\n",
       "      <td>3.071512</td>\n",
       "      <td>130.185.238.170</td>\n",
       "      <td>192.168.15.8</td>\n",
       "      <td>MQTT</td>\n",
       "      <td>71</td>\n",
       "      <td>1883</td>\n",
       "      <td>1</td>\n",
       "      <td>59595</td>\n",
       "      <td>Subscribe Ack (id=1)</td>\n",
       "    </tr>\n",
       "    <tr>\n",
       "      <th>4</th>\n",
       "      <td>37</td>\n",
       "      <td>3.151560</td>\n",
       "      <td>130.185.238.170</td>\n",
       "      <td>192.168.15.8</td>\n",
       "      <td>MQTT</td>\n",
       "      <td>89</td>\n",
       "      <td>1883</td>\n",
       "      <td>2</td>\n",
       "      <td>59595</td>\n",
       "      <td>Publish Message [devices-1], Publish Ack (id=2)</td>\n",
       "    </tr>\n",
       "    <tr>\n",
       "      <th>...</th>\n",
       "      <td>...</td>\n",
       "      <td>...</td>\n",
       "      <td>...</td>\n",
       "      <td>...</td>\n",
       "      <td>...</td>\n",
       "      <td>...</td>\n",
       "      <td>...</td>\n",
       "      <td>...</td>\n",
       "      <td>...</td>\n",
       "      <td>...</td>\n",
       "    </tr>\n",
       "    <tr>\n",
       "      <th>3194</th>\n",
       "      <td>100821</td>\n",
       "      <td>1151.566650</td>\n",
       "      <td>130.185.238.170</td>\n",
       "      <td>192.168.15.8</td>\n",
       "      <td>MQTT</td>\n",
       "      <td>68</td>\n",
       "      <td>1883</td>\n",
       "      <td>NaN</td>\n",
       "      <td>32823</td>\n",
       "      <td>Ping Response</td>\n",
       "    </tr>\n",
       "    <tr>\n",
       "      <th>3195</th>\n",
       "      <td>100831</td>\n",
       "      <td>1152.473063</td>\n",
       "      <td>192.168.15.8</td>\n",
       "      <td>130.185.238.170</td>\n",
       "      <td>MQTT</td>\n",
       "      <td>68</td>\n",
       "      <td>59039</td>\n",
       "      <td>NaN</td>\n",
       "      <td>1883</td>\n",
       "      <td>Ping Request</td>\n",
       "    </tr>\n",
       "    <tr>\n",
       "      <th>3196</th>\n",
       "      <td>100832</td>\n",
       "      <td>1152.555783</td>\n",
       "      <td>130.185.238.170</td>\n",
       "      <td>192.168.15.8</td>\n",
       "      <td>MQTT</td>\n",
       "      <td>68</td>\n",
       "      <td>1883</td>\n",
       "      <td>NaN</td>\n",
       "      <td>59039</td>\n",
       "      <td>Ping Response</td>\n",
       "    </tr>\n",
       "    <tr>\n",
       "      <th>3197</th>\n",
       "      <td>100850</td>\n",
       "      <td>1153.459064</td>\n",
       "      <td>192.168.15.8</td>\n",
       "      <td>130.185.238.170</td>\n",
       "      <td>MQTT</td>\n",
       "      <td>68</td>\n",
       "      <td>44115</td>\n",
       "      <td>NaN</td>\n",
       "      <td>1883</td>\n",
       "      <td>Ping Request</td>\n",
       "    </tr>\n",
       "    <tr>\n",
       "      <th>3198</th>\n",
       "      <td>100851</td>\n",
       "      <td>1153.538674</td>\n",
       "      <td>130.185.238.170</td>\n",
       "      <td>192.168.15.8</td>\n",
       "      <td>MQTT</td>\n",
       "      <td>68</td>\n",
       "      <td>1883</td>\n",
       "      <td>NaN</td>\n",
       "      <td>44115</td>\n",
       "      <td>Ping Response</td>\n",
       "    </tr>\n",
       "  </tbody>\n",
       "</table>\n",
       "<p>3199 rows × 10 columns</p>\n",
       "</div>"
      ],
      "text/plain": [
       "         No.         Time           Source      Destination Protocol  Length  \\\n",
       "0         27     2.912368     192.168.15.8  130.185.238.170     MQTT      89   \n",
       "1         31     2.992240     192.168.15.8  130.185.238.170     MQTT     103   \n",
       "2         32     2.992206  130.185.238.170     192.168.15.8     MQTT      70   \n",
       "3         35     3.071512  130.185.238.170     192.168.15.8     MQTT      71   \n",
       "4         37     3.151560  130.185.238.170     192.168.15.8     MQTT      89   \n",
       "...      ...          ...              ...              ...      ...     ...   \n",
       "3194  100821  1151.566650  130.185.238.170     192.168.15.8     MQTT      68   \n",
       "3195  100831  1152.473063     192.168.15.8  130.185.238.170     MQTT      68   \n",
       "3196  100832  1152.555783  130.185.238.170     192.168.15.8     MQTT      68   \n",
       "3197  100850  1153.459064     192.168.15.8  130.185.238.170     MQTT      68   \n",
       "3198  100851  1153.538674  130.185.238.170     192.168.15.8     MQTT      68   \n",
       "\n",
       "      Source Port Message Identifier  Destination Port  \\\n",
       "0           59595                NaN              1883   \n",
       "1           59595                1,2              1883   \n",
       "2            1883                NaN             59595   \n",
       "3            1883                  1             59595   \n",
       "4            1883                  2             59595   \n",
       "...           ...                ...               ...   \n",
       "3194         1883                NaN             32823   \n",
       "3195        59039                NaN              1883   \n",
       "3196         1883                NaN             59039   \n",
       "3197        44115                NaN              1883   \n",
       "3198         1883                NaN             44115   \n",
       "\n",
       "                                                   Info  \n",
       "0                                       Connect Command  \n",
       "1     Subscribe Request (id=1) [devices-1], Publish ...  \n",
       "2                                           Connect Ack  \n",
       "3                                  Subscribe Ack (id=1)  \n",
       "4       Publish Message [devices-1], Publish Ack (id=2)  \n",
       "...                                                 ...  \n",
       "3194                                      Ping Response  \n",
       "3195                                       Ping Request  \n",
       "3196                                      Ping Response  \n",
       "3197                                       Ping Request  \n",
       "3198                                      Ping Response  \n",
       "\n",
       "[3199 rows x 10 columns]"
      ]
     },
     "execution_count": 17,
     "metadata": {},
     "output_type": "execute_result"
    }
   ],
   "source": [
    "data = pd.read_csv(\"./data.csv\")\n",
    "ports = data[\"Source Port\"].unique()\n",
    "ports = ports[ports !=1883]\n",
    "data"
   ]
  },
  {
   "cell_type": "code",
   "execution_count": 18,
   "id": "68b8dfc9",
   "metadata": {},
   "outputs": [],
   "source": [
    "#  - Separar publicações e confirmação de entrega por dispositivo simulado.\n",
    "devices = {}\n",
    "#  : devices será um dicionario que irá ter uma chave referente ao device e o valor será um dataframe referente aos respectivos devices \n",
    "for port in ports:  \n",
    "  data = data.loc[ ~(data[\"Message Identifier\"] == \"1,2\")]\n",
    "  # data[\"Message Identifier\"].dropna(replace=True)\n",
    "  array_publish = data.loc[data[\"Source Port\"] == port].dropna(subset=['Message Identifier'])\n",
    "  array_publish_ack = data.loc[data[\"Destination Port\"] == port].dropna(subset=['Message Identifier'])\n",
    "  device = {\"publish\":array_publish, \"publish_ack\" : array_publish_ack}\n",
    "  devices[port] = device"
   ]
  },
  {
   "cell_type": "code",
   "execution_count": 19,
   "id": "9cce969d",
   "metadata": {},
   "outputs": [],
   "source": [
    "devicesNew = devices.copy()\n",
    "for index in devices:\n",
    "    if len(devices[index][\"publish\"]) <= 0:\n",
    "        ports = ports[ports !=index]\n",
    "\n"
   ]
  },
  {
   "cell_type": "code",
   "execution_count": 20,
   "id": "40fdeb08",
   "metadata": {},
   "outputs": [],
   "source": [
    "# - Criação de um dataframe com informações capturadas acima. \n",
    "data = {}\n",
    "for port in ports:\n",
    "    RTT = pd.DataFrame(columns=[\"Time_publish\", \"Time_ack\"])\n",
    "    for index, row in devices[port][\"publish\"].iterrows():\n",
    "        id = int(row[\"Message Identifier\"])\n",
    "        time_publish = row[\"Time\"]\n",
    "        RTT.loc[id, \"Time_publish\"] = time_publish \n",
    "\n",
    "    for index, row in devices[port][\"publish_ack\"].iterrows():\n",
    "        id = int(row[\"Message Identifier\"])\n",
    "        time_publish = row[\"Time\"]\n",
    "        RTT.loc[id, \"Time_ack\"] = time_publish\n",
    "    RTT.loc[id, \"Time_ack\"] = time_publish\n",
    "    RTT[\"RTT\"]  =(RTT[\"Time_ack\"] - RTT[\"Time_publish\"] )* 1000\n",
    "    data[port] = RTT\n"
   ]
  },
  {
   "attachments": {},
   "cell_type": "markdown",
   "id": "c3c46f2a",
   "metadata": {},
   "source": [
    "## Medidas de Tendência Central Por Device"
   ]
  },
  {
   "cell_type": "code",
   "execution_count": 21,
   "id": "fab98b67",
   "metadata": {},
   "outputs": [
    {
     "name": "stdout",
     "output_type": "stream",
     "text": [
      "(Device-1)Mean Round Trip Time = 158.6188952412027\n",
      "(Device-1)Median Round Trip Time = 158.2952449999766\n",
      "(Device-1)Standard deviation  Round Trip Time = 3.2214943171149177\n",
      "(Device-1)Min Round Trip Time = 153.42493099990406\n",
      "(Device-1)Max Round Trip Time = 199.7707710000043\n",
      "---------------------------------------------------------------\n",
      "(Device-2)Mean Round Trip Time = 153.2964506030165\n",
      "(Device-2)Median Round Trip Time = 152.35144700000092\n",
      "(Device-2)Standard deviation  Round Trip Time = 6.356644956146378\n",
      "(Device-2)Min Round Trip Time = 150.24938999999904\n",
      "(Device-2)Max Round Trip Time = 220.198607000043\n",
      "---------------------------------------------------------------\n",
      "(Device-3)Mean Round Trip Time = 162.30024654773754\n",
      "(Device-3)Median Round Trip Time = 161.59279299999872\n",
      "(Device-3)Standard deviation  Round Trip Time = 5.090533399446312\n",
      "(Device-3)Min Round Trip Time = 159.34283699994012\n",
      "(Device-3)Max Round Trip Time = 212.6043549999963\n",
      "---------------------------------------------------------------\n",
      "(Device-4)Mean Round Trip Time = 164.46376487939736\n",
      "(Device-4)Median Round Trip Time = 152.29904800000327\n",
      "(Device-4)Standard deviation  Round Trip Time = 158.14899025358065\n",
      "(Device-4)Min Round Trip Time = 149.14735199999996\n",
      "(Device-4)Max Round Trip Time = 2382.0160060000717\n",
      "---------------------------------------------------------------\n",
      "(Device-5)Mean Round Trip Time = 159.3150435728613\n",
      "(Device-5)Median Round Trip Time = 159.0937379999673\n",
      "(Device-5)Standard deviation  Round Trip Time = 3.9409378087372384\n",
      "(Device-5)Min Round Trip Time = 156.79191499999945\n",
      "(Device-5)Max Round Trip Time = 204.83516199999485\n",
      "---------------------------------------------------------------\n"
     ]
    }
   ],
   "source": [
    "i=1\n",
    "data_mean = []\n",
    "data_median = []\n",
    "data_std = []\n",
    "data_min = []\n",
    "data_max = []\n",
    "\n",
    "for port in ports:\n",
    "  data_mean.append(data[port][\"RTT\"].mean())\n",
    "  data_median.append(data[port][\"RTT\"].mean())\n",
    "  data_std.append(data[port][\"RTT\"].mean())\n",
    "  data_min.append(data[port][\"RTT\"].mean())\n",
    "  data_max.append(data[port][\"RTT\"].mean())\n",
    "\n",
    "  print(\"(Device-{})Mean Round Trip Time = {}\".format(i ,data[port][\"RTT\"].mean()))\n",
    "  print(\"(Device-{})Median Round Trip Time = {}\".format(i ,data[port][\"RTT\"].median()))\n",
    "  print(\"(Device-{})Standard deviation  Round Trip Time = {}\".format(i ,data[port][\"RTT\"].std()))\n",
    "  print(\"(Device-{})Min Round Trip Time = {}\".format(i ,data[port][\"RTT\"].min()))\n",
    "  print(\"(Device-{})Max Round Trip Time = {}\".format(i ,data[port][\"RTT\"].max()))\n",
    "  print(\"---------------------------------------------------------------\")\n",
    "\n",
    "  i+=1"
   ]
  },
  {
   "attachments": {},
   "cell_type": "markdown",
   "id": "834aa520",
   "metadata": {},
   "source": [
    "# CÁLCULO DO TAMANHO DA AMOSTRA"
   ]
  },
  {
   "cell_type": "code",
   "execution_count": 22,
   "id": "f4d34346",
   "metadata": {},
   "outputs": [],
   "source": [
    "nivel_de_significancia = 0.05"
   ]
  },
  {
   "cell_type": "code",
   "execution_count": 23,
   "id": "7b90fe59",
   "metadata": {},
   "outputs": [
    {
     "data": {
      "text/plain": [
       "0.95"
      ]
     },
     "execution_count": 23,
     "metadata": {},
     "output_type": "execute_result"
    }
   ],
   "source": [
    "nivel_de_confiança = 1 - nivel_de_significancia\n",
    "nivel_de_confiança"
   ]
  },
  {
   "cell_type": "code",
   "execution_count": 24,
   "id": "d1513a87",
   "metadata": {},
   "outputs": [
    {
     "data": {
      "text/plain": [
       "1.959963984540054"
      ]
     },
     "execution_count": 24,
     "metadata": {},
     "output_type": "execute_result"
    }
   ],
   "source": [
    "#Calculando o z com scipy\n",
    "z = scipy.stats.norm.ppf(0.975)\n",
    "z"
   ]
  },
  {
   "attachments": {},
   "cell_type": "markdown",
   "id": "036a09cd",
   "metadata": {},
   "source": [
    "Com nosso z calculado podemos seguir adiante\n",
    "\n",
    "### $$z = 1.959963984540054 $$\n",
    "\n",
    "Abaixo segue algumas formulas que iremos utilizar para calcular o numero de amostra\n",
    "\n"
   ]
  },
  {
   "attachments": {},
   "cell_type": "markdown",
   "id": "5fbb9cf5",
   "metadata": {},
   "source": [
    "### Calculando o tamanho da nossa amostra"
   ]
  },
  {
   "cell_type": "code",
   "execution_count": 25,
   "id": "fda1c58f",
   "metadata": {},
   "outputs": [
    {
     "data": {
      "text/plain": [
       "302.5185705299654"
      ]
     },
     "execution_count": 25,
     "metadata": {},
     "output_type": "execute_result"
    }
   ],
   "source": [
    "df_concatenado = pd.concat(data.values())\n",
    "desvio_padrao_amostral = df_concatenado[\"RTT\"].std()\n",
    "media = df_concatenado[\"RTT\"].mean()\n",
    "e = 0.05 * media\n",
    "n = (z * ( desvio_padrao_amostral/e) )**2\n",
    "n"
   ]
  },
  {
   "cell_type": "code",
   "execution_count": 26,
   "id": "23faa149",
   "metadata": {},
   "outputs": [],
   "source": [
    "e = df_concatenado[\"RTT\"].mean() * 0.05"
   ]
  },
  {
   "cell_type": "code",
   "execution_count": 27,
   "id": "424d31ab",
   "metadata": {},
   "outputs": [
    {
     "data": {
      "text/plain": [
       "70.81540983096086"
      ]
     },
     "execution_count": 27,
     "metadata": {},
     "output_type": "execute_result"
    }
   ],
   "source": [
    "desvio_padrao_amostral"
   ]
  },
  {
   "cell_type": "code",
   "execution_count": 28,
   "id": "c8e4fd9b",
   "metadata": {},
   "outputs": [
    {
     "data": {
      "image/png": "[encoded data removed]",
      "text/plain": [
       "<Figure size 720x360 with 1 Axes>"
      ]
     },
     "metadata": {},
     "output_type": "display_data"
    }
   ],
   "source": [
    "import matplotlib \n",
    "i=1\n",
    "fig, ax = plt.subplots(figsize=(10,5),dpi=72)\n",
    "for port in ports:\n",
    "  ax.scatter(data[port][\"RTT\"].index,data[port][\"RTT\"], label='Dispositivo-{}'.format(i))\n",
    "  ax.set_ylabel('Round Trip Time (ms)')\n",
    "  ax.set_xlabel('Quantidade de Publicação')\n",
    "  ax.set_title('Gráfico de dispersão (Round Trip Time)')\n",
    "#   ax.hlines(data[port][\"RTT\"].max(),  xmin=0, xmax=620, colors=\"red\", linestyles=\"dashed\", label=\"Maior Medição\")\n",
    "#   ax.hlines(data[port][\"RTT\"].min(),  xmin=0, xmax=620, colors=\"green\", linestyles=\"dashed\", label=\"Menor Medição\")\n",
    "  ax.legend()\n",
    "  i+=1"
   ]
  },
  {
   "cell_type": "code",
   "execution_count": 29,
   "id": "62640c8b",
   "metadata": {},
   "outputs": [
    {
     "data": {
      "text/plain": [
       "159.59888016884315"
      ]
     },
     "execution_count": 29,
     "metadata": {},
     "output_type": "execute_result"
    }
   ],
   "source": [
    "df_concatenado[\"RTT\"].mean()"
   ]
  },
  {
   "cell_type": "code",
   "execution_count": 30,
   "id": "82bc1c10",
   "metadata": {},
   "outputs": [],
   "source": [
    "df_concatenado[\"RTT\"].to_csv(\"dados.csv\", index=False)"
   ]
  }
 ],
 "metadata": {
  "kernelspec": {
   "display_name": "Python 3 (ipykernel)",
   "language": "python",
   "name": "python3"
  },
  "language_info": {
   "codemirror_mode": {
    "name": "ipython",
    "version": 3
   },
   "file_extension": ".py",
   "mimetype": "text/x-python",
   "name": "python",
   "nbconvert_exporter": "python",
   "pygments_lexer": "ipython3",
   "version": "3.10.6"
  }
 },
 "nbformat": 4,
 "nbformat_minor": 5
}
