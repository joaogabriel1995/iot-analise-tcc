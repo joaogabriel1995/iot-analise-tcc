{
 "cells": [
  {
   "cell_type": "code",
   "execution_count": 1,
   "id": "134f65e3",
   "metadata": {},
   "outputs": [],
   "source": [
    "import pandas as pd\n",
    "import re\n",
    "import matplotlib.pyplot as plt\n",
    "import scipy\n",
    "import numpy as np\n",
    "import seaborn as sns"
   ]
  },
  {
   "attachments": {},
   "cell_type": "markdown",
   "id": "d098bd74",
   "metadata": {},
   "source": [
    "Objetivos do Script:\n",
    "\n",
    "Esse script tem como objetivo ler os dados que foram capturados da nossa amostra piloto e realizar alguns estudos em cima desses dados. \n",
    "\n",
    "Os 6 primeiros tópicos que eu separei abaixo são utilizados na grande maioria dos scripts de tratamento de dados desse estudo. \n",
    "Deixei padronizado para que seja possivel tratar simulações com um dispositivo ou vários.\n",
    "\n",
    "Sumário:\n",
    "  - Leitura dos dados\n",
    "  - Separar publicações e confirmação de entrega por dispositivo simulado.\n",
    "  - Criação de um dataframe com informações capturadas. \n",
    "  - Medidas de tendência centrar por dispositivo\n",
    "  - Medidas de tendência centrar de todos os dispositivos.\n",
    "  - Gráfico de dispersão da amostra.\n",
    "  - Calculo do tamanho da amostra.\n",
    "\n",
    "Como estamos trabalhando com uma amostra piloto temos como objetivo calcular o tamanho das amostras isso será realizado na ultima parte desse script.\n"
   ]
  },
  {
   "cell_type": "code",
   "execution_count": 2,
   "id": "f47c21fe",
   "metadata": {},
   "outputs": [
    {
     "data": {
      "text/html": [
       "<div>\n",
       "<style scoped>\n",
       "    .dataframe tbody tr th:only-of-type {\n",
       "        vertical-align: middle;\n",
       "    }\n",
       "\n",
       "    .dataframe tbody tr th {\n",
       "        vertical-align: top;\n",
       "    }\n",
       "\n",
       "    .dataframe thead th {\n",
       "        text-align: right;\n",
       "    }\n",
       "</style>\n",
       "<table border=\"1\" class=\"dataframe\">\n",
       "  <thead>\n",
       "    <tr style=\"text-align: right;\">\n",
       "      <th></th>\n",
       "      <th>No.</th>\n",
       "      <th>Time</th>\n",
       "      <th>Source</th>\n",
       "      <th>Destination</th>\n",
       "      <th>Protocol</th>\n",
       "      <th>Length</th>\n",
       "      <th>Source Port</th>\n",
       "      <th>Message Identifier</th>\n",
       "      <th>Destination Port</th>\n",
       "      <th>Info</th>\n",
       "    </tr>\n",
       "  </thead>\n",
       "  <tbody>\n",
       "    <tr>\n",
       "      <th>0</th>\n",
       "      <td>213</td>\n",
       "      <td>19.166036</td>\n",
       "      <td>192.168.15.8</td>\n",
       "      <td>130.185.238.170</td>\n",
       "      <td>MQTT</td>\n",
       "      <td>68</td>\n",
       "      <td>55897</td>\n",
       "      <td>NaN</td>\n",
       "      <td>1883</td>\n",
       "      <td>Ping Request</td>\n",
       "    </tr>\n",
       "    <tr>\n",
       "      <th>1</th>\n",
       "      <td>214</td>\n",
       "      <td>19.252044</td>\n",
       "      <td>130.185.238.170</td>\n",
       "      <td>192.168.15.8</td>\n",
       "      <td>MQTT</td>\n",
       "      <td>68</td>\n",
       "      <td>1883</td>\n",
       "      <td>NaN</td>\n",
       "      <td>55897</td>\n",
       "      <td>Ping Response</td>\n",
       "    </tr>\n",
       "    <tr>\n",
       "      <th>2</th>\n",
       "      <td>243</td>\n",
       "      <td>20.865097</td>\n",
       "      <td>192.168.15.8</td>\n",
       "      <td>130.185.238.170</td>\n",
       "      <td>MQTT</td>\n",
       "      <td>68</td>\n",
       "      <td>45035</td>\n",
       "      <td>NaN</td>\n",
       "      <td>1883</td>\n",
       "      <td>Ping Request</td>\n",
       "    </tr>\n",
       "    <tr>\n",
       "      <th>3</th>\n",
       "      <td>245</td>\n",
       "      <td>20.945240</td>\n",
       "      <td>130.185.238.170</td>\n",
       "      <td>192.168.15.8</td>\n",
       "      <td>MQTT</td>\n",
       "      <td>68</td>\n",
       "      <td>1883</td>\n",
       "      <td>NaN</td>\n",
       "      <td>45035</td>\n",
       "      <td>Ping Response</td>\n",
       "    </tr>\n",
       "    <tr>\n",
       "      <th>4</th>\n",
       "      <td>247</td>\n",
       "      <td>21.004982</td>\n",
       "      <td>192.168.15.8</td>\n",
       "      <td>130.185.238.170</td>\n",
       "      <td>MQTT</td>\n",
       "      <td>68</td>\n",
       "      <td>58693</td>\n",
       "      <td>NaN</td>\n",
       "      <td>1883</td>\n",
       "      <td>Ping Request</td>\n",
       "    </tr>\n",
       "    <tr>\n",
       "      <th>...</th>\n",
       "      <td>...</td>\n",
       "      <td>...</td>\n",
       "      <td>...</td>\n",
       "      <td>...</td>\n",
       "      <td>...</td>\n",
       "      <td>...</td>\n",
       "      <td>...</td>\n",
       "      <td>...</td>\n",
       "      <td>...</td>\n",
       "      <td>...</td>\n",
       "    </tr>\n",
       "    <tr>\n",
       "      <th>12525</th>\n",
       "      <td>39244</td>\n",
       "      <td>806.981741</td>\n",
       "      <td>130.185.238.170</td>\n",
       "      <td>192.168.15.8</td>\n",
       "      <td>MQTT</td>\n",
       "      <td>337</td>\n",
       "      <td>1883</td>\n",
       "      <td>NaN</td>\n",
       "      <td>36243</td>\n",
       "      <td>Publish Message [devices-20]</td>\n",
       "    </tr>\n",
       "    <tr>\n",
       "      <th>12526</th>\n",
       "      <td>39246</td>\n",
       "      <td>807.060753</td>\n",
       "      <td>130.185.238.170</td>\n",
       "      <td>192.168.15.8</td>\n",
       "      <td>MQTT</td>\n",
       "      <td>70</td>\n",
       "      <td>1883</td>\n",
       "      <td>200</td>\n",
       "      <td>36243</td>\n",
       "      <td>Publish Ack (id=200)</td>\n",
       "    </tr>\n",
       "    <tr>\n",
       "      <th>12527</th>\n",
       "      <td>39279</td>\n",
       "      <td>808.751297</td>\n",
       "      <td>192.168.15.8</td>\n",
       "      <td>130.185.238.170</td>\n",
       "      <td>MQTT</td>\n",
       "      <td>339</td>\n",
       "      <td>36243</td>\n",
       "      <td>201</td>\n",
       "      <td>1883</td>\n",
       "      <td>Publish Message (id=201) [devices-20]</td>\n",
       "    </tr>\n",
       "    <tr>\n",
       "      <th>12528</th>\n",
       "      <td>39280</td>\n",
       "      <td>808.832865</td>\n",
       "      <td>130.185.238.170</td>\n",
       "      <td>192.168.15.8</td>\n",
       "      <td>MQTT</td>\n",
       "      <td>337</td>\n",
       "      <td>1883</td>\n",
       "      <td>NaN</td>\n",
       "      <td>36243</td>\n",
       "      <td>Publish Message [devices-20]</td>\n",
       "    </tr>\n",
       "    <tr>\n",
       "      <th>12529</th>\n",
       "      <td>39282</td>\n",
       "      <td>808.913772</td>\n",
       "      <td>130.185.238.170</td>\n",
       "      <td>192.168.15.8</td>\n",
       "      <td>MQTT</td>\n",
       "      <td>70</td>\n",
       "      <td>1883</td>\n",
       "      <td>201</td>\n",
       "      <td>36243</td>\n",
       "      <td>Publish Ack (id=201)</td>\n",
       "    </tr>\n",
       "  </tbody>\n",
       "</table>\n",
       "<p>12530 rows × 10 columns</p>\n",
       "</div>"
      ],
      "text/plain": [
       "         No.        Time           Source      Destination Protocol  Length  \\\n",
       "0        213   19.166036     192.168.15.8  130.185.238.170     MQTT      68   \n",
       "1        214   19.252044  130.185.238.170     192.168.15.8     MQTT      68   \n",
       "2        243   20.865097     192.168.15.8  130.185.238.170     MQTT      68   \n",
       "3        245   20.945240  130.185.238.170     192.168.15.8     MQTT      68   \n",
       "4        247   21.004982     192.168.15.8  130.185.238.170     MQTT      68   \n",
       "...      ...         ...              ...              ...      ...     ...   \n",
       "12525  39244  806.981741  130.185.238.170     192.168.15.8     MQTT     337   \n",
       "12526  39246  807.060753  130.185.238.170     192.168.15.8     MQTT      70   \n",
       "12527  39279  808.751297     192.168.15.8  130.185.238.170     MQTT     339   \n",
       "12528  39280  808.832865  130.185.238.170     192.168.15.8     MQTT     337   \n",
       "12529  39282  808.913772  130.185.238.170     192.168.15.8     MQTT      70   \n",
       "\n",
       "       Source Port Message Identifier  Destination Port  \\\n",
       "0            55897                NaN              1883   \n",
       "1             1883                NaN             55897   \n",
       "2            45035                NaN              1883   \n",
       "3             1883                NaN             45035   \n",
       "4            58693                NaN              1883   \n",
       "...            ...                ...               ...   \n",
       "12525         1883                NaN             36243   \n",
       "12526         1883                200             36243   \n",
       "12527        36243                201              1883   \n",
       "12528         1883                NaN             36243   \n",
       "12529         1883                201             36243   \n",
       "\n",
       "                                        Info  \n",
       "0                               Ping Request  \n",
       "1                              Ping Response  \n",
       "2                               Ping Request  \n",
       "3                              Ping Response  \n",
       "4                               Ping Request  \n",
       "...                                      ...  \n",
       "12525           Publish Message [devices-20]  \n",
       "12526                   Publish Ack (id=200)  \n",
       "12527  Publish Message (id=201) [devices-20]  \n",
       "12528           Publish Message [devices-20]  \n",
       "12529                   Publish Ack (id=201)  \n",
       "\n",
       "[12530 rows x 10 columns]"
      ]
     },
     "execution_count": 2,
     "metadata": {},
     "output_type": "execute_result"
    }
   ],
   "source": [
    "data = pd.read_csv(\"./data.csv\")\n",
    "ports = data[\"Source Port\"].unique()\n",
    "ports = ports[ports !=1883]\n",
    "data"
   ]
  },
  {
   "cell_type": "code",
   "execution_count": 3,
   "id": "68b8dfc9",
   "metadata": {},
   "outputs": [],
   "source": [
    "#  - Separar publicações e confirmação de entrega por dispositivo simulado.\n",
    "devices = {}\n",
    "#  : devices será um dicionario que irá ter uma chave referente ao device e o valor será um dataframe referente aos respectivos devices \n",
    "for port in ports:  \n",
    "  data = data.loc[ ~(data[\"Message Identifier\"] == \"1,2\")]\n",
    "  # data[\"Message Identifier\"].dropna(replace=True)\n",
    "  array_publish = data.loc[data[\"Source Port\"] == port].dropna(subset=['Message Identifier'])\n",
    "  array_publish_ack = data.loc[data[\"Destination Port\"] == port].dropna(subset=['Message Identifier'])\n",
    "  device = {\"publish\":array_publish, \"publish_ack\" : array_publish_ack}\n",
    "  devices[port] = device"
   ]
  },
  {
   "cell_type": "code",
   "execution_count": 4,
   "id": "9cce969d",
   "metadata": {},
   "outputs": [],
   "source": [
    "devicesNew = devices.copy()\n",
    "for index in devices:\n",
    "    if len(devices[index][\"publish\"]) <= 0:\n",
    "        ports = ports[ports !=index]\n",
    "\n"
   ]
  },
  {
   "cell_type": "code",
   "execution_count": 5,
   "id": "40fdeb08",
   "metadata": {},
   "outputs": [],
   "source": [
    "# - Criação de um dataframe com informações capturadas acima. \n",
    "data = {}\n",
    "for port in ports:\n",
    "    RTT = pd.DataFrame(columns=[\"Time_publish\", \"Time_ack\"])\n",
    "    for index, row in devices[port][\"publish\"].iterrows():\n",
    "        id = int(row[\"Message Identifier\"])\n",
    "        time_publish = row[\"Time\"]\n",
    "        RTT.loc[id, \"Time_publish\"] = time_publish \n",
    "\n",
    "    for index, row in devices[port][\"publish_ack\"].iterrows():\n",
    "        id = int(row[\"Message Identifier\"])\n",
    "        time_publish = row[\"Time\"]\n",
    "        RTT.loc[id, \"Time_ack\"] = time_publish\n",
    "    RTT.loc[id, \"Time_ack\"] = time_publish\n",
    "    RTT[\"RTT\"]  =(RTT[\"Time_ack\"] - RTT[\"Time_publish\"] )* 1000\n",
    "    data[port] = RTT\n"
   ]
  },
  {
   "attachments": {},
   "cell_type": "markdown",
   "id": "c3c46f2a",
   "metadata": {},
   "source": [
    "## Medidas de Tendência Central Por Device"
   ]
  },
  {
   "cell_type": "code",
   "execution_count": 6,
   "id": "fab98b67",
   "metadata": {},
   "outputs": [
    {
     "name": "stdout",
     "output_type": "stream",
     "text": [
      "(Device-1)Mean Round Trip Time = 152.7188694723605\n",
      "(Device-1)Median Round Trip Time = 152.37972699992497\n",
      "(Device-1)Standard deviation  Round Trip Time = 3.1360159328138226\n",
      "(Device-1)Min Round Trip Time = 149.898874999991\n",
      "(Device-1)Max Round Trip Time = 192.57566300007056\n",
      "---------------------------------------------------------------\n",
      "(Device-2)Mean Round Trip Time = 145.46084213065458\n",
      "(Device-2)Median Round Trip Time = 144.67365699999846\n",
      "(Device-2)Standard deviation  Round Trip Time = 7.6658739712196935\n",
      "(Device-2)Min Round Trip Time = 142.32857999999737\n",
      "(Device-2)Max Round Trip Time = 232.03608199997916\n",
      "---------------------------------------------------------------\n",
      "(Device-3)Mean Round Trip Time = 151.12483996985043\n",
      "(Device-3)Median Round Trip Time = 150.5979239999533\n",
      "(Device-3)Standard deviation  Round Trip Time = 5.006978909813594\n",
      "(Device-3)Min Round Trip Time = 146.27415299997892\n",
      "(Device-3)Max Round Trip Time = 213.66027700003087\n",
      "---------------------------------------------------------------\n",
      "(Device-4)Mean Round Trip Time = 160.62158335678188\n",
      "(Device-4)Median Round Trip Time = 160.5526889999993\n",
      "(Device-4)Standard deviation  Round Trip Time = 1.3904669951221205\n",
      "(Device-4)Min Round Trip Time = 158.09481899998445\n",
      "(Device-4)Max Round Trip Time = 166.39867099999606\n",
      "---------------------------------------------------------------\n",
      "(Device-5)Mean Round Trip Time = 153.3549716532735\n",
      "(Device-5)Median Round Trip Time = 152.5987629999861\n",
      "(Device-5)Standard deviation  Round Trip Time = 6.134321095027122\n",
      "(Device-5)Min Round Trip Time = 150.27907500001447\n",
      "(Device-5)Max Round Trip Time = 228.669463000017\n",
      "---------------------------------------------------------------\n",
      "(Device-6)Mean Round Trip Time = 154.12984488944892\n",
      "(Device-6)Median Round Trip Time = 153.92628500001138\n",
      "(Device-6)Standard deviation  Round Trip Time = 2.410270883053983\n",
      "(Device-6)Min Round Trip Time = 151.51224800001728\n",
      "(Device-6)Max Round Trip Time = 178.09660500000746\n",
      "---------------------------------------------------------------\n",
      "(Device-7)Mean Round Trip Time = 161.96446025125744\n",
      "(Device-7)Median Round Trip Time = 161.45363300006466\n",
      "(Device-7)Standard deviation  Round Trip Time = 5.108807667355125\n",
      "(Device-7)Min Round Trip Time = 159.0286800000058\n",
      "(Device-7)Max Round Trip Time = 219.89379100000406\n",
      "---------------------------------------------------------------\n",
      "(Device-8)Mean Round Trip Time = 162.42577247236383\n",
      "(Device-8)Median Round Trip Time = 161.99465900001542\n",
      "(Device-8)Standard deviation  Round Trip Time = 4.177603374624868\n",
      "(Device-8)Min Round Trip Time = 159.4916669999975\n",
      "(Device-8)Max Round Trip Time = 203.71705600001633\n",
      "---------------------------------------------------------------\n",
      "(Device-9)Mean Round Trip Time = 154.60650631658183\n",
      "(Device-9)Median Round Trip Time = 153.73611200000425\n",
      "(Device-9)Standard deviation  Round Trip Time = 6.620336698777426\n",
      "(Device-9)Min Round Trip Time = 151.1970070000075\n",
      "(Device-9)Max Round Trip Time = 211.28680300000724\n",
      "---------------------------------------------------------------\n",
      "(Device-10)Mean Round Trip Time = 158.2471280653241\n",
      "(Device-10)Median Round Trip Time = 158.2365670000172\n",
      "(Device-10)Standard deviation  Round Trip Time = 1.713480055813277\n",
      "(Device-10)Min Round Trip Time = 152.24025400002006\n",
      "(Device-10)Max Round Trip Time = 169.68154099998856\n",
      "---------------------------------------------------------------\n",
      "(Device-11)Mean Round Trip Time = 152.66032157286728\n",
      "(Device-11)Median Round Trip Time = 151.9888440000159\n",
      "(Device-11)Standard deviation  Round Trip Time = 5.615287203984381\n",
      "(Device-11)Min Round Trip Time = 149.7249760000159\n",
      "(Device-11)Max Round Trip Time = 210.34648200009087\n",
      "---------------------------------------------------------------\n",
      "(Device-12)Mean Round Trip Time = 154.23548040703773\n",
      "(Device-12)Median Round Trip Time = 153.73585899999398\n",
      "(Device-12)Standard deviation  Round Trip Time = 3.9775499219910753\n",
      "(Device-12)Min Round Trip Time = 151.43327900000259\n",
      "(Device-12)Max Round Trip Time = 203.11889800001381\n",
      "---------------------------------------------------------------\n",
      "(Device-13)Mean Round Trip Time = 159.93501923618058\n",
      "(Device-13)Median Round Trip Time = 159.51895599999943\n",
      "(Device-13)Standard deviation  Round Trip Time = 3.512485393737762\n",
      "(Device-13)Min Round Trip Time = 157.48737000001256\n",
      "(Device-13)Max Round Trip Time = 205.275376999964\n",
      "---------------------------------------------------------------\n",
      "(Device-14)Mean Round Trip Time = 146.47324707034906\n",
      "(Device-14)Median Round Trip Time = 145.9557020000375\n",
      "(Device-14)Standard deviation  Round Trip Time = 4.566623606889938\n",
      "(Device-14)Min Round Trip Time = 143.50695999996788\n",
      "(Device-14)Max Round Trip Time = 203.89858199999367\n",
      "---------------------------------------------------------------\n",
      "(Device-15)Mean Round Trip Time = 161.25378593969802\n",
      "(Device-15)Median Round Trip Time = 161.18224299998474\n",
      "(Device-15)Standard deviation  Round Trip Time = 1.4876157575018734\n",
      "(Device-15)Min Round Trip Time = 158.59043399996153\n",
      "(Device-15)Max Round Trip Time = 166.45453999990423\n",
      "---------------------------------------------------------------\n",
      "(Device-16)Mean Round Trip Time = 153.84778638190718\n",
      "(Device-16)Median Round Trip Time = 153.36082900000747\n",
      "(Device-16)Standard deviation  Round Trip Time = 5.082506775458041\n",
      "(Device-16)Min Round Trip Time = 150.69710400001668\n",
      "(Device-16)Max Round Trip Time = 221.59253600000284\n",
      "---------------------------------------------------------------\n",
      "(Device-17)Mean Round Trip Time = 162.57780021105566\n",
      "(Device-17)Median Round Trip Time = 161.56740700000682\n",
      "(Device-17)Standard deviation  Round Trip Time = 7.546995497842825\n",
      "(Device-17)Min Round Trip Time = 158.96551599996656\n",
      "(Device-17)Max Round Trip Time = 235.29817700000422\n",
      "---------------------------------------------------------------\n",
      "(Device-18)Mean Round Trip Time = 153.220151643215\n",
      "(Device-18)Median Round Trip Time = 152.53112100000976\n",
      "(Device-18)Standard deviation  Round Trip Time = 5.317502648945957\n",
      "(Device-18)Min Round Trip Time = 150.4812539999989\n",
      "(Device-18)Max Round Trip Time = 204.5098689999918\n",
      "---------------------------------------------------------------\n",
      "(Device-19)Mean Round Trip Time = 162.16719790451845\n",
      "(Device-19)Median Round Trip Time = 161.56998300004943\n",
      "(Device-19)Standard deviation  Round Trip Time = 4.980421558365007\n",
      "(Device-19)Min Round Trip Time = 159.35187299999143\n",
      "(Device-19)Max Round Trip Time = 213.56426599993483\n",
      "---------------------------------------------------------------\n",
      "(Device-20)Mean Round Trip Time = 161.8487239447253\n",
      "(Device-20)Median Round Trip Time = 161.21077399998285\n",
      "(Device-20)Standard deviation  Round Trip Time = 6.861313988662176\n",
      "(Device-20)Min Round Trip Time = 158.9396630000124\n",
      "(Device-20)Max Round Trip Time = 239.08376200000703\n",
      "---------------------------------------------------------------\n"
     ]
    }
   ],
   "source": [
    "i=1\n",
    "data_mean = []\n",
    "data_median = []\n",
    "data_std = []\n",
    "data_min = []\n",
    "data_max = []\n",
    "\n",
    "for port in ports:\n",
    "  data_mean.append(data[port][\"RTT\"].mean())\n",
    "  data_median.append(data[port][\"RTT\"].mean())\n",
    "  data_std.append(data[port][\"RTT\"].mean())\n",
    "  data_min.append(data[port][\"RTT\"].mean())\n",
    "  data_max.append(data[port][\"RTT\"].mean())\n",
    "\n",
    "  print(\"(Device-{})Mean Round Trip Time = {}\".format(i ,data[port][\"RTT\"].mean()))\n",
    "  print(\"(Device-{})Median Round Trip Time = {}\".format(i ,data[port][\"RTT\"].median()))\n",
    "  print(\"(Device-{})Standard deviation  Round Trip Time = {}\".format(i ,data[port][\"RTT\"].std()))\n",
    "  print(\"(Device-{})Min Round Trip Time = {}\".format(i ,data[port][\"RTT\"].min()))\n",
    "  print(\"(Device-{})Max Round Trip Time = {}\".format(i ,data[port][\"RTT\"].max()))\n",
    "  print(\"---------------------------------------------------------------\")\n",
    "\n",
    "  i+=1"
   ]
  },
  {
   "attachments": {},
   "cell_type": "markdown",
   "id": "834aa520",
   "metadata": {},
   "source": [
    "# CÁLCULO DO TAMANHO DA AMOSTRA"
   ]
  },
  {
   "cell_type": "code",
   "execution_count": 7,
   "id": "f4d34346",
   "metadata": {},
   "outputs": [],
   "source": [
    "nivel_de_significancia = 0.05"
   ]
  },
  {
   "cell_type": "code",
   "execution_count": 8,
   "id": "7b90fe59",
   "metadata": {},
   "outputs": [
    {
     "data": {
      "text/plain": [
       "0.95"
      ]
     },
     "execution_count": 8,
     "metadata": {},
     "output_type": "execute_result"
    }
   ],
   "source": [
    "nivel_de_confiança = 1 - nivel_de_significancia\n",
    "nivel_de_confiança"
   ]
  },
  {
   "cell_type": "code",
   "execution_count": 9,
   "id": "d1513a87",
   "metadata": {},
   "outputs": [
    {
     "data": {
      "text/plain": [
       "1.959963984540054"
      ]
     },
     "execution_count": 9,
     "metadata": {},
     "output_type": "execute_result"
    }
   ],
   "source": [
    "#Calculando o z com scipy\n",
    "z = scipy.stats.norm.ppf(0.975)\n",
    "z"
   ]
  },
  {
   "attachments": {},
   "cell_type": "markdown",
   "id": "036a09cd",
   "metadata": {},
   "source": [
    "Com nosso z calculado podemos seguir adiante\n",
    "\n",
    "### $$z = 1.959963984540054 $$\n",
    "\n",
    "Abaixo segue algumas formulas que iremos utilizar para calcular o numero de amostra\n",
    "\n"
   ]
  },
  {
   "attachments": {},
   "cell_type": "markdown",
   "id": "5fbb9cf5",
   "metadata": {},
   "source": [
    "### Calculando o tamanho da nossa amostra"
   ]
  },
  {
   "cell_type": "code",
   "execution_count": 10,
   "id": "fda1c58f",
   "metadata": {},
   "outputs": [
    {
     "data": {
      "text/plain": [
       "3.244861566347946"
      ]
     },
     "execution_count": 10,
     "metadata": {},
     "output_type": "execute_result"
    }
   ],
   "source": [
    "df_concatenado = pd.concat(data.values())\n",
    "desvio_padrao_amostral = df_concatenado[\"RTT\"].std()\n",
    "media = df_concatenado[\"RTT\"].mean()\n",
    "e = 0.05 * media\n",
    "n = (z * ( desvio_padrao_amostral/e) )**2\n",
    "n"
   ]
  },
  {
   "cell_type": "code",
   "execution_count": 11,
   "id": "23faa149",
   "metadata": {},
   "outputs": [],
   "source": [
    "e = df_concatenado[\"RTT\"].mean() * 0.05"
   ]
  },
  {
   "cell_type": "code",
   "execution_count": 12,
   "id": "424d31ab",
   "metadata": {},
   "outputs": [
    {
     "data": {
      "text/plain": [
       "7.17537350416424"
      ]
     },
     "execution_count": 12,
     "metadata": {},
     "output_type": "execute_result"
    }
   ],
   "source": [
    "desvio_padrao_amostral"
   ]
  },
  {
   "cell_type": "code",
   "execution_count": 13,
   "id": "c8e4fd9b",
   "metadata": {},
   "outputs": [
    {
     "data": {
      "image/png": "[encoded data removed]",
      "text/plain": [
       "<Figure size 720x360 with 1 Axes>"
      ]
     },
     "metadata": {},
     "output_type": "display_data"
    }
   ],
   "source": [
    "import matplotlib \n",
    "i=1\n",
    "fig, ax = plt.subplots(figsize=(10,5),dpi=72)\n",
    "for port in ports:\n",
    "  ax.scatter(data[port][\"RTT\"].index,data[port][\"RTT\"], label='Dispositivo-{}'.format(i))\n",
    "  ax.set_ylabel('Round Trip Time (ms)')\n",
    "  ax.set_xlabel('Quantidade de Publicação')\n",
    "  ax.set_title('Gráfico de dispersão (Round Trip Time)')\n",
    "#   ax.hlines(data[port][\"RTT\"].max(),  xmin=0, xmax=620, colors=\"red\", linestyles=\"dashed\", label=\"Maior Medição\")\n",
    "#   ax.hlines(data[port][\"RTT\"].min(),  xmin=0, xmax=620, colors=\"green\", linestyles=\"dashed\", label=\"Menor Medição\")\n",
    "  ax.legend()\n",
    "  i+=1"
   ]
  },
  {
   "cell_type": "code",
   "execution_count": 14,
   "id": "62640c8b",
   "metadata": {},
   "outputs": [
    {
     "data": {
      "text/plain": [
       "156.14371664447197"
      ]
     },
     "execution_count": 14,
     "metadata": {},
     "output_type": "execute_result"
    }
   ],
   "source": [
    "df_concatenado[\"RTT\"].mean()"
   ]
  },
  {
   "cell_type": "code",
   "execution_count": 15,
   "id": "82bc1c10",
   "metadata": {},
   "outputs": [],
   "source": [
    "df_concatenado[\"RTT\"].to_csv(\"dados.csv\", index=False)"
   ]
  }
 ],
 "metadata": {
  "kernelspec": {
   "display_name": "Python 3 (ipykernel)",
   "language": "python",
   "name": "python3"
  },
  "language_info": {
   "codemirror_mode": {
    "name": "ipython",
    "version": 3
   },
   "file_extension": ".py",
   "mimetype": "text/x-python",
   "name": "python",
   "nbconvert_exporter": "python",
   "pygments_lexer": "ipython3",
   "version": "3.10.6"
  }
 },
 "nbformat": 4,
 "nbformat_minor": 5
}
