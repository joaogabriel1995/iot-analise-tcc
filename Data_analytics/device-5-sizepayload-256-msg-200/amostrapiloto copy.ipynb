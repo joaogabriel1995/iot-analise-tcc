{
 "cells": [
  {
   "cell_type": "code",
   "execution_count": 21,
   "id": "134f65e3",
   "metadata": {},
   "outputs": [],
   "source": [
    "import pandas as pd\n",
    "import re\n",
    "import matplotlib.pyplot as plt\n",
    "import scipy\n",
    "import numpy as np\n",
    "import seaborn as sns"
   ]
  },
  {
   "attachments": {},
   "cell_type": "markdown",
   "id": "d098bd74",
   "metadata": {},
   "source": [
    "Objetivos do Script:\n",
    "\n",
    "Esse script tem como objetivo ler os dados que foram capturados da nossa amostra piloto e realizar alguns estudos em cima desses dados. \n",
    "\n",
    "Os 6 primeiros tópicos que eu separei abaixo são utilizados na grande maioria dos scripts de tratamento de dados desse estudo. \n",
    "Deixei padronizado para que seja possivel tratar simulações com um dispositivo ou vários.\n",
    "\n",
    "Sumário:\n",
    "  - Leitura dos dados\n",
    "  - Separar publicações e confirmação de entrega por dispositivo simulado.\n",
    "  - Criação de um dataframe com informações capturadas. \n",
    "  - Medidas de tendência centrar por dispositivo\n",
    "  - Medidas de tendência centrar de todos os dispositivos.\n",
    "  - Gráfico de dispersão da amostra.\n",
    "  - Calculo do tamanho da amostra.\n",
    "\n",
    "Como estamos trabalhando com uma amostra piloto temos como objetivo calcular o tamanho das amostras isso será realizado na ultima parte desse script.\n"
   ]
  },
  {
   "cell_type": "code",
   "execution_count": 29,
   "id": "f47c21fe",
   "metadata": {},
   "outputs": [
    {
     "data": {
      "text/html": [
       "<div>\n",
       "<style scoped>\n",
       "    .dataframe tbody tr th:only-of-type {\n",
       "        vertical-align: middle;\n",
       "    }\n",
       "\n",
       "    .dataframe tbody tr th {\n",
       "        vertical-align: top;\n",
       "    }\n",
       "\n",
       "    .dataframe thead th {\n",
       "        text-align: right;\n",
       "    }\n",
       "</style>\n",
       "<table border=\"1\" class=\"dataframe\">\n",
       "  <thead>\n",
       "    <tr style=\"text-align: right;\">\n",
       "      <th></th>\n",
       "      <th>No.</th>\n",
       "      <th>Time</th>\n",
       "      <th>Source</th>\n",
       "      <th>Destination</th>\n",
       "      <th>Protocol</th>\n",
       "      <th>Length</th>\n",
       "      <th>Message Type</th>\n",
       "      <th>Destination Port</th>\n",
       "      <th>Source Port</th>\n",
       "      <th>Message</th>\n",
       "      <th>Message Identifier</th>\n",
       "      <th>Info</th>\n",
       "    </tr>\n",
       "  </thead>\n",
       "  <tbody>\n",
       "    <tr>\n",
       "      <th>0</th>\n",
       "      <td>1515</td>\n",
       "      <td>59.859623</td>\n",
       "      <td>192.168.15.2</td>\n",
       "      <td>45.179.91.194</td>\n",
       "      <td>MQTT</td>\n",
       "      <td>124</td>\n",
       "      <td>Connect Command</td>\n",
       "      <td>1883</td>\n",
       "      <td>50645</td>\n",
       "      <td>NaN</td>\n",
       "      <td>NaN</td>\n",
       "      <td>Connect Command</td>\n",
       "    </tr>\n",
       "    <tr>\n",
       "      <th>1</th>\n",
       "      <td>1516</td>\n",
       "      <td>59.870615</td>\n",
       "      <td>45.179.91.194</td>\n",
       "      <td>192.168.15.2</td>\n",
       "      <td>MQTT</td>\n",
       "      <td>70</td>\n",
       "      <td>Connect Ack</td>\n",
       "      <td>50645</td>\n",
       "      <td>1883</td>\n",
       "      <td>NaN</td>\n",
       "      <td>NaN</td>\n",
       "      <td>Connect Ack</td>\n",
       "    </tr>\n",
       "    <tr>\n",
       "      <th>2</th>\n",
       "      <td>1525</td>\n",
       "      <td>61.860998</td>\n",
       "      <td>192.168.15.2</td>\n",
       "      <td>45.179.91.194</td>\n",
       "      <td>MQTT</td>\n",
       "      <td>117</td>\n",
       "      <td>Subscribe Request</td>\n",
       "      <td>1883</td>\n",
       "      <td>50645</td>\n",
       "      <td>NaN</td>\n",
       "      <td>1.0</td>\n",
       "      <td>Subscribe Request (id=1) [devices-a66fcb80-bed...</td>\n",
       "    </tr>\n",
       "    <tr>\n",
       "      <th>3</th>\n",
       "      <td>1527</td>\n",
       "      <td>61.870248</td>\n",
       "      <td>192.168.15.2</td>\n",
       "      <td>45.179.91.194</td>\n",
       "      <td>MQTT</td>\n",
       "      <td>373</td>\n",
       "      <td>Publish Message</td>\n",
       "      <td>1883</td>\n",
       "      <td>50645</td>\n",
       "      <td>7b276d657373616765273a2027614838594a44344f5a74...</td>\n",
       "      <td>2.0</td>\n",
       "      <td>Publish Message (id=2) [devices-a66fcb80-bedb-...</td>\n",
       "    </tr>\n",
       "    <tr>\n",
       "      <th>4</th>\n",
       "      <td>1528</td>\n",
       "      <td>61.870291</td>\n",
       "      <td>45.179.91.194</td>\n",
       "      <td>192.168.15.2</td>\n",
       "      <td>MQTT</td>\n",
       "      <td>71</td>\n",
       "      <td>Subscribe Ack</td>\n",
       "      <td>50645</td>\n",
       "      <td>1883</td>\n",
       "      <td>NaN</td>\n",
       "      <td>1.0</td>\n",
       "      <td>Subscribe Ack (id=1)</td>\n",
       "    </tr>\n",
       "    <tr>\n",
       "      <th>...</th>\n",
       "      <td>...</td>\n",
       "      <td>...</td>\n",
       "      <td>...</td>\n",
       "      <td>...</td>\n",
       "      <td>...</td>\n",
       "      <td>...</td>\n",
       "      <td>...</td>\n",
       "      <td>...</td>\n",
       "      <td>...</td>\n",
       "      <td>...</td>\n",
       "      <td>...</td>\n",
       "      <td>...</td>\n",
       "    </tr>\n",
       "    <tr>\n",
       "      <th>619</th>\n",
       "      <td>66025</td>\n",
       "      <td>754.911751</td>\n",
       "      <td>45.179.91.194</td>\n",
       "      <td>192.168.15.2</td>\n",
       "      <td>MQTT</td>\n",
       "      <td>70</td>\n",
       "      <td>Publish Ack</td>\n",
       "      <td>50645</td>\n",
       "      <td>1883</td>\n",
       "      <td>NaN</td>\n",
       "      <td>199.0</td>\n",
       "      <td>Publish Ack (id=199)</td>\n",
       "    </tr>\n",
       "    <tr>\n",
       "      <th>620</th>\n",
       "      <td>66060</td>\n",
       "      <td>757.678326</td>\n",
       "      <td>192.168.15.2</td>\n",
       "      <td>45.179.91.194</td>\n",
       "      <td>MQTT</td>\n",
       "      <td>373</td>\n",
       "      <td>Publish Message</td>\n",
       "      <td>1883</td>\n",
       "      <td>50645</td>\n",
       "      <td>7b276d657373616765273a20274769483430633746636c...</td>\n",
       "      <td>200.0</td>\n",
       "      <td>Publish Message (id=200) [devices-a66fcb80-bed...</td>\n",
       "    </tr>\n",
       "    <tr>\n",
       "      <th>621</th>\n",
       "      <td>66061</td>\n",
       "      <td>757.688040</td>\n",
       "      <td>45.179.91.194</td>\n",
       "      <td>192.168.15.2</td>\n",
       "      <td>MQTT</td>\n",
       "      <td>371</td>\n",
       "      <td>Publish Message</td>\n",
       "      <td>50645</td>\n",
       "      <td>1883</td>\n",
       "      <td>7b276d657373616765273a20274769483430633746636c...</td>\n",
       "      <td>NaN</td>\n",
       "      <td>Publish Message [devices-a66fcb80-bedb-426f-99...</td>\n",
       "    </tr>\n",
       "    <tr>\n",
       "      <th>622</th>\n",
       "      <td>66063</td>\n",
       "      <td>757.699756</td>\n",
       "      <td>45.179.91.194</td>\n",
       "      <td>192.168.15.2</td>\n",
       "      <td>MQTT</td>\n",
       "      <td>70</td>\n",
       "      <td>Publish Ack</td>\n",
       "      <td>50645</td>\n",
       "      <td>1883</td>\n",
       "      <td>NaN</td>\n",
       "      <td>200.0</td>\n",
       "      <td>Publish Ack (id=200)</td>\n",
       "    </tr>\n",
       "    <tr>\n",
       "      <th>623</th>\n",
       "      <td>66070</td>\n",
       "      <td>758.701121</td>\n",
       "      <td>192.168.15.2</td>\n",
       "      <td>45.179.91.194</td>\n",
       "      <td>MQTT</td>\n",
       "      <td>68</td>\n",
       "      <td>Disconnect Req</td>\n",
       "      <td>1883</td>\n",
       "      <td>50645</td>\n",
       "      <td>NaN</td>\n",
       "      <td>NaN</td>\n",
       "      <td>Disconnect Req</td>\n",
       "    </tr>\n",
       "  </tbody>\n",
       "</table>\n",
       "<p>624 rows × 12 columns</p>\n",
       "</div>"
      ],
      "text/plain": [
       "       No.        Time         Source    Destination Protocol  Length  \\\n",
       "0     1515   59.859623   192.168.15.2  45.179.91.194     MQTT     124   \n",
       "1     1516   59.870615  45.179.91.194   192.168.15.2     MQTT      70   \n",
       "2     1525   61.860998   192.168.15.2  45.179.91.194     MQTT     117   \n",
       "3     1527   61.870248   192.168.15.2  45.179.91.194     MQTT     373   \n",
       "4     1528   61.870291  45.179.91.194   192.168.15.2     MQTT      71   \n",
       "..     ...         ...            ...            ...      ...     ...   \n",
       "619  66025  754.911751  45.179.91.194   192.168.15.2     MQTT      70   \n",
       "620  66060  757.678326   192.168.15.2  45.179.91.194     MQTT     373   \n",
       "621  66061  757.688040  45.179.91.194   192.168.15.2     MQTT     371   \n",
       "622  66063  757.699756  45.179.91.194   192.168.15.2     MQTT      70   \n",
       "623  66070  758.701121   192.168.15.2  45.179.91.194     MQTT      68   \n",
       "\n",
       "          Message Type  Destination Port  Source Port  \\\n",
       "0      Connect Command              1883        50645   \n",
       "1          Connect Ack             50645         1883   \n",
       "2    Subscribe Request              1883        50645   \n",
       "3      Publish Message              1883        50645   \n",
       "4        Subscribe Ack             50645         1883   \n",
       "..                 ...               ...          ...   \n",
       "619        Publish Ack             50645         1883   \n",
       "620    Publish Message              1883        50645   \n",
       "621    Publish Message             50645         1883   \n",
       "622        Publish Ack             50645         1883   \n",
       "623     Disconnect Req              1883        50645   \n",
       "\n",
       "                                               Message  Message Identifier  \\\n",
       "0                                                  NaN                 NaN   \n",
       "1                                                  NaN                 NaN   \n",
       "2                                                  NaN                 1.0   \n",
       "3    7b276d657373616765273a2027614838594a44344f5a74...                 2.0   \n",
       "4                                                  NaN                 1.0   \n",
       "..                                                 ...                 ...   \n",
       "619                                                NaN               199.0   \n",
       "620  7b276d657373616765273a20274769483430633746636c...               200.0   \n",
       "621  7b276d657373616765273a20274769483430633746636c...                 NaN   \n",
       "622                                                NaN               200.0   \n",
       "623                                                NaN                 NaN   \n",
       "\n",
       "                                                  Info  \n",
       "0                                      Connect Command  \n",
       "1                                          Connect Ack  \n",
       "2    Subscribe Request (id=1) [devices-a66fcb80-bed...  \n",
       "3    Publish Message (id=2) [devices-a66fcb80-bedb-...  \n",
       "4                                 Subscribe Ack (id=1)  \n",
       "..                                                 ...  \n",
       "619                               Publish Ack (id=199)  \n",
       "620  Publish Message (id=200) [devices-a66fcb80-bed...  \n",
       "621  Publish Message [devices-a66fcb80-bedb-426f-99...  \n",
       "622                               Publish Ack (id=200)  \n",
       "623                                     Disconnect Req  \n",
       "\n",
       "[624 rows x 12 columns]"
      ]
     },
     "execution_count": 29,
     "metadata": {},
     "output_type": "execute_result"
    }
   ],
   "source": [
    "data = pd.read_csv(\"./data.csv\", encoding='latin1')\n",
    "ports = data[\"Source Port\"].unique()\n",
    "ports = ports[ports !=1883]\n",
    "data"
   ]
  },
  {
   "cell_type": "code",
   "execution_count": 44,
   "id": "e8d0244b",
   "metadata": {},
   "outputs": [
    {
     "ename": "AttributeError",
     "evalue": "'dict' object has no attribute 'loc'",
     "output_type": "error",
     "traceback": [
      "\u001b[0;31m---------------------------------------------------------------------------\u001b[0m",
      "\u001b[0;31mAttributeError\u001b[0m                            Traceback (most recent call last)",
      "\u001b[1;32m/home/joao/desenvolvimento/iot-analise-tcc/Data_analytics/device-1-sizepayload-256-msg-200/amostrapiloto.ipynb Cell 4\u001b[0m line \u001b[0;36m1\n\u001b[0;32m----> <a href='vscode-notebook-cell:/home/joao/desenvolvimento/iot-analise-tcc/Data_analytics/device-1-sizepayload-256-msg-200/amostrapiloto.ipynb#X32sZmlsZQ%3D%3D?line=0'>1</a>\u001b[0m data\u001b[39m.\u001b[39;49mloc[\u001b[39m\"\u001b[39m\u001b[39mMessage\u001b[39m\u001b[39m\"\u001b[39m]\n",
      "\u001b[0;31mAttributeError\u001b[0m: 'dict' object has no attribute 'loc'"
     ]
    }
   ],
   "source": [
    "for i in data:\n",
    "    print(data)"
   ]
  },
  {
   "cell_type": "code",
   "execution_count": 30,
   "id": "68b8dfc9",
   "metadata": {},
   "outputs": [],
   "source": [
    "#  - Separar publicações e confirmação de entrega por dispositivo simulado.\n",
    "devices = {}\n",
    "#  : devices será um dicionario que irá ter uma chave referente ao device e o valor será um dataframe referente aos respectivos devices \n",
    "for port in ports:  \n",
    "  data = data.loc[ ~(data[\"Message Identifier\"] == \"1,2\")]\n",
    "  # data[\"Message Identifier\"].dropna(replace=True)\n",
    "  array_publish = data.loc[data[\"Source Port\"] == port].dropna(subset=['Message Identifier'])\n",
    "  array_publish_ack = data.loc[data[\"Destination Port\"] == port].dropna(subset=['Message Identifier'])\n",
    "  device = {\"publish\":array_publish, \"publish_ack\" : array_publish_ack}\n",
    "  devices[port] = device"
   ]
  },
  {
   "cell_type": "code",
   "execution_count": 31,
   "id": "9cce969d",
   "metadata": {},
   "outputs": [],
   "source": [
    "devicesNew = devices.copy()\n",
    "for index in devices:\n",
    "    if len(devices[index][\"publish\"]) <= 0:\n",
    "        ports = ports[ports !=index]\n",
    "\n"
   ]
  },
  {
   "cell_type": "code",
   "execution_count": 32,
   "id": "40fdeb08",
   "metadata": {},
   "outputs": [],
   "source": [
    "# - Criação de um dataframe com informações capturadas acima. \n",
    "data = {}\n",
    "for port in ports:\n",
    "    RTT = pd.DataFrame(columns=[\"Time_publish\", \"Time_ack\"])\n",
    "    for index, row in devices[port][\"publish\"].iterrows():\n",
    "        id = int(row[\"Message Identifier\"])\n",
    "        time_publish = row[\"Time\"]\n",
    "        RTT.loc[id, \"Time_publish\"] = time_publish \n",
    "\n",
    "    for index, row in devices[port][\"publish_ack\"].iterrows():\n",
    "        id = int(row[\"Message Identifier\"])\n",
    "        time_publish = row[\"Time\"]\n",
    "        RTT.loc[id, \"Time_ack\"] = time_publish\n",
    "    RTT.loc[id, \"Time_ack\"] = time_publish\n",
    "    RTT[\"RTT\"]  =(RTT[\"Time_ack\"] - RTT[\"Time_publish\"] )* 1000\n",
    "    data[port] = RTT\n"
   ]
  },
  {
   "attachments": {},
   "cell_type": "markdown",
   "id": "c3c46f2a",
   "metadata": {},
   "source": [
    "## Medidas de Tendência Central Por Device"
   ]
  },
  {
   "cell_type": "code",
   "execution_count": 33,
   "id": "fab98b67",
   "metadata": {},
   "outputs": [
    {
     "name": "stdout",
     "output_type": "stream",
     "text": [
      "(Device-1)Mean Round Trip Time = 23.014889825004126\n",
      "(Device-1)Median Round Trip Time = 22.933480499943926\n",
      "(Device-1)Standard deviation  Round Trip Time = 2.5823063796043724\n",
      "(Device-1)Min Round Trip Time = 9.292758999997375\n",
      "(Device-1)Max Round Trip Time = 50.439886000020806\n",
      "---------------------------------------------------------------\n"
     ]
    }
   ],
   "source": [
    "i=1\n",
    "data_mean = []\n",
    "data_median = []\n",
    "data_std = []\n",
    "data_min = []\n",
    "data_max = []\n",
    "\n",
    "for port in ports:\n",
    "  data_mean.append(data[port][\"RTT\"].mean())\n",
    "  data_median.append(data[port][\"RTT\"].mean())\n",
    "  data_std.append(data[port][\"RTT\"].mean())\n",
    "  data_min.append(data[port][\"RTT\"].mean())\n",
    "  data_max.append(data[port][\"RTT\"].mean())\n",
    "\n",
    "  print(\"(Device-{})Mean Round Trip Time = {}\".format(i ,data[port][\"RTT\"].mean()))\n",
    "  print(\"(Device-{})Median Round Trip Time = {}\".format(i ,data[port][\"RTT\"].median()))\n",
    "  print(\"(Device-{})Standard deviation  Round Trip Time = {}\".format(i ,data[port][\"RTT\"].std()))\n",
    "  print(\"(Device-{})Min Round Trip Time = {}\".format(i ,data[port][\"RTT\"].min()))\n",
    "  print(\"(Device-{})Max Round Trip Time = {}\".format(i ,data[port][\"RTT\"].max()))\n",
    "  print(\"---------------------------------------------------------------\")\n",
    "\n",
    "  i+=1"
   ]
  },
  {
   "attachments": {},
   "cell_type": "markdown",
   "id": "834aa520",
   "metadata": {},
   "source": [
    "# CÁLCULO DO TAMANHO DA AMOSTRA"
   ]
  },
  {
   "cell_type": "code",
   "execution_count": 34,
   "id": "f4d34346",
   "metadata": {},
   "outputs": [],
   "source": [
    "nivel_de_significancia = 0.05"
   ]
  },
  {
   "cell_type": "code",
   "execution_count": 35,
   "id": "7b90fe59",
   "metadata": {},
   "outputs": [
    {
     "data": {
      "text/plain": [
       "0.95"
      ]
     },
     "execution_count": 35,
     "metadata": {},
     "output_type": "execute_result"
    }
   ],
   "source": [
    "nivel_de_confiança = 1 - nivel_de_significancia\n",
    "nivel_de_confiança"
   ]
  },
  {
   "cell_type": "code",
   "execution_count": 36,
   "id": "d1513a87",
   "metadata": {},
   "outputs": [
    {
     "data": {
      "text/plain": [
       "1.959963984540054"
      ]
     },
     "execution_count": 36,
     "metadata": {},
     "output_type": "execute_result"
    }
   ],
   "source": [
    "#Calculando o z com scipy\n",
    "z = scipy.stats.norm.ppf(0.975)\n",
    "z"
   ]
  },
  {
   "attachments": {},
   "cell_type": "markdown",
   "id": "036a09cd",
   "metadata": {},
   "source": [
    "Com nosso z calculado podemos seguir adiante\n",
    "\n",
    "### $$z = 1.959963984540054 $$\n",
    "\n",
    "Abaixo segue algumas formulas que iremos utilizar para calcular o numero de amostra\n",
    "\n"
   ]
  },
  {
   "attachments": {},
   "cell_type": "markdown",
   "id": "5fbb9cf5",
   "metadata": {},
   "source": [
    "### Calculando o tamanho da nossa amostra"
   ]
  },
  {
   "cell_type": "code",
   "execution_count": 37,
   "id": "fda1c58f",
   "metadata": {},
   "outputs": [
    {
     "data": {
      "text/plain": [
       "19.344339663480504"
      ]
     },
     "execution_count": 37,
     "metadata": {},
     "output_type": "execute_result"
    }
   ],
   "source": [
    "df_concatenado = pd.concat(data.values())\n",
    "desvio_padrao_amostral = df_concatenado[\"RTT\"].std()\n",
    "media = df_concatenado[\"RTT\"].mean()\n",
    "e = 0.05 * media\n",
    "n = (z * ( desvio_padrao_amostral/e) )**2\n",
    "n"
   ]
  },
  {
   "cell_type": "code",
   "execution_count": 38,
   "id": "23faa149",
   "metadata": {},
   "outputs": [],
   "source": [
    "e = df_concatenado[\"RTT\"].mean() * 0.05"
   ]
  },
  {
   "cell_type": "code",
   "execution_count": 39,
   "id": "424d31ab",
   "metadata": {},
   "outputs": [
    {
     "data": {
      "text/plain": [
       "2.5823063796043724"
      ]
     },
     "execution_count": 39,
     "metadata": {},
     "output_type": "execute_result"
    }
   ],
   "source": [
    "desvio_padrao_amostral"
   ]
  },
  {
   "cell_type": "code",
   "execution_count": 40,
   "id": "c8e4fd9b",
   "metadata": {},
   "outputs": [
    {
     "data": {
      "image/png": "[encoded data removed]",
      "text/plain": [
       "<Figure size 720x360 with 1 Axes>"
      ]
     },
     "metadata": {},
     "output_type": "display_data"
    }
   ],
   "source": [
    "import matplotlib \n",
    "i=1\n",
    "fig, ax = plt.subplots(figsize=(10,5),dpi=72)\n",
    "for port in ports:\n",
    "  ax.scatter(data[port][\"RTT\"].index,data[port][\"RTT\"], label='Dispositivo-{}'.format(i))\n",
    "  ax.set_ylabel('Round Trip Time (ms)')\n",
    "  ax.set_xlabel('Quantidade de Publicação')\n",
    "  ax.set_title('Gráfico de dispersão (Round Trip Time)')\n",
    "#   ax.hlines(data[port][\"RTT\"].max(),  xmin=0, xmax=620, colors=\"red\", linestyles=\"dashed\", label=\"Maior Medição\")\n",
    "#   ax.hlines(data[port][\"RTT\"].min(),  xmin=0, xmax=620, colors=\"green\", linestyles=\"dashed\", label=\"Menor Medição\")\n",
    "  ax.legend()\n",
    "  i+=1"
   ]
  },
  {
   "cell_type": "code",
   "execution_count": 41,
   "id": "62640c8b",
   "metadata": {},
   "outputs": [
    {
     "data": {
      "text/plain": [
       "23.014889825004126"
      ]
     },
     "execution_count": 41,
     "metadata": {},
     "output_type": "execute_result"
    }
   ],
   "source": [
    "df_concatenado[\"RTT\"].mean()"
   ]
  },
  {
   "cell_type": "code",
   "execution_count": 42,
   "id": "82bc1c10",
   "metadata": {},
   "outputs": [],
   "source": [
    "df_concatenado[\"RTT\"].to_csv(\"dados.csv\", index=False)"
   ]
  },
  {
   "cell_type": "code",
   "execution_count": null,
   "id": "b941b424",
   "metadata": {},
   "outputs": [],
   "source": []
  }
 ],
 "metadata": {
  "kernelspec": {
   "display_name": "Python 3 (ipykernel)",
   "language": "python",
   "name": "python3"
  },
  "language_info": {
   "codemirror_mode": {
    "name": "ipython",
    "version": 3
   },
   "file_extension": ".py",
   "mimetype": "text/x-python",
   "name": "python",
   "nbconvert_exporter": "python",
   "pygments_lexer": "ipython3",
   "version": "3.10.12"
  }
 },
 "nbformat": 4,
 "nbformat_minor": 5
}
