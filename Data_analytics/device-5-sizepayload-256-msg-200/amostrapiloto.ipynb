{
 "cells": [
  {
   "cell_type": "code",
   "execution_count": 1,
   "id": "134f65e3",
   "metadata": {},
   "outputs": [],
   "source": [
    "import pandas as pd\n",
    "import re\n",
    "import matplotlib.pyplot as plt\n",
    "import scipy\n",
    "import numpy as np\n",
    "import seaborn as sns"
   ]
  },
  {
   "attachments": {},
   "cell_type": "markdown",
   "id": "d098bd74",
   "metadata": {},
   "source": [
    "Objetivos do Script:\n",
    "\n",
    "Esse script tem como objetivo ler os dados que foram capturados da nossa amostra piloto e realizar alguns estudos em cima desses dados. \n",
    "\n",
    "Os 6 primeiros tópicos que eu separei abaixo são utilizados na grande maioria dos scripts de tratamento de dados desse estudo. \n",
    "Deixei padronizado para que seja possivel tratar simulações com um dispositivo ou vários.\n",
    "\n",
    "Sumário:\n",
    "  - Leitura dos dados\n",
    "  - Separar publicações e confirmação de entrega por dispositivo simulado.\n",
    "  - Criação de um dataframe com informações capturadas. \n",
    "  - Medidas de tendência centrar por dispositivo\n",
    "  - Medidas de tendência centrar de todos os dispositivos.\n",
    "  - Gráfico de dispersão da amostra.\n",
    "  - Calculo do tamanho da amostra.\n",
    "\n",
    "Como estamos trabalhando com uma amostra piloto temos como objetivo calcular o tamanho das amostras isso será realizado na ultima parte desse script.\n"
   ]
  },
  {
   "cell_type": "code",
   "execution_count": 2,
   "id": "f47c21fe",
   "metadata": {},
   "outputs": [
    {
     "data": {
      "text/html": [
       "<div>\n",
       "<style scoped>\n",
       "    .dataframe tbody tr th:only-of-type {\n",
       "        vertical-align: middle;\n",
       "    }\n",
       "\n",
       "    .dataframe tbody tr th {\n",
       "        vertical-align: top;\n",
       "    }\n",
       "\n",
       "    .dataframe thead th {\n",
       "        text-align: right;\n",
       "    }\n",
       "</style>\n",
       "<table border=\"1\" class=\"dataframe\">\n",
       "  <thead>\n",
       "    <tr style=\"text-align: right;\">\n",
       "      <th></th>\n",
       "      <th>No.</th>\n",
       "      <th>Time</th>\n",
       "      <th>Source</th>\n",
       "      <th>Destination</th>\n",
       "      <th>Protocol</th>\n",
       "      <th>Length</th>\n",
       "      <th>Source Port</th>\n",
       "      <th>Message Identifier</th>\n",
       "      <th>Destination Port</th>\n",
       "      <th>Info</th>\n",
       "    </tr>\n",
       "  </thead>\n",
       "  <tbody>\n",
       "    <tr>\n",
       "      <th>0</th>\n",
       "      <td>318</td>\n",
       "      <td>19.032647</td>\n",
       "      <td>192.168.15.8</td>\n",
       "      <td>130.185.238.170</td>\n",
       "      <td>MQTT</td>\n",
       "      <td>89</td>\n",
       "      <td>55897</td>\n",
       "      <td>NaN</td>\n",
       "      <td>1883</td>\n",
       "      <td>Connect Command</td>\n",
       "    </tr>\n",
       "    <tr>\n",
       "      <th>1</th>\n",
       "      <td>320</td>\n",
       "      <td>19.112437</td>\n",
       "      <td>130.185.238.170</td>\n",
       "      <td>192.168.15.8</td>\n",
       "      <td>MQTT</td>\n",
       "      <td>70</td>\n",
       "      <td>1883</td>\n",
       "      <td>NaN</td>\n",
       "      <td>55897</td>\n",
       "      <td>Connect Ack</td>\n",
       "    </tr>\n",
       "    <tr>\n",
       "      <th>2</th>\n",
       "      <td>321</td>\n",
       "      <td>19.112473</td>\n",
       "      <td>192.168.15.8</td>\n",
       "      <td>130.185.238.170</td>\n",
       "      <td>MQTT</td>\n",
       "      <td>354</td>\n",
       "      <td>55897</td>\n",
       "      <td>1,2</td>\n",
       "      <td>1883</td>\n",
       "      <td>Subscribe Request (id=1) [devices-1], Publish ...</td>\n",
       "    </tr>\n",
       "    <tr>\n",
       "      <th>3</th>\n",
       "      <td>323</td>\n",
       "      <td>19.192029</td>\n",
       "      <td>130.185.238.170</td>\n",
       "      <td>192.168.15.8</td>\n",
       "      <td>MQTT</td>\n",
       "      <td>71</td>\n",
       "      <td>1883</td>\n",
       "      <td>1</td>\n",
       "      <td>55897</td>\n",
       "      <td>Subscribe Ack (id=1)</td>\n",
       "    </tr>\n",
       "    <tr>\n",
       "      <th>4</th>\n",
       "      <td>328</td>\n",
       "      <td>19.271864</td>\n",
       "      <td>130.185.238.170</td>\n",
       "      <td>192.168.15.8</td>\n",
       "      <td>MQTT</td>\n",
       "      <td>340</td>\n",
       "      <td>1883</td>\n",
       "      <td>2</td>\n",
       "      <td>55897</td>\n",
       "      <td>Publish Message [devices-1], Publish Ack (id=2)</td>\n",
       "    </tr>\n",
       "    <tr>\n",
       "      <th>...</th>\n",
       "      <td>...</td>\n",
       "      <td>...</td>\n",
       "      <td>...</td>\n",
       "      <td>...</td>\n",
       "      <td>...</td>\n",
       "      <td>...</td>\n",
       "      <td>...</td>\n",
       "      <td>...</td>\n",
       "      <td>...</td>\n",
       "      <td>...</td>\n",
       "    </tr>\n",
       "    <tr>\n",
       "      <th>3312</th>\n",
       "      <td>2816099</td>\n",
       "      <td>1888.334877</td>\n",
       "      <td>130.185.238.170</td>\n",
       "      <td>192.168.15.8</td>\n",
       "      <td>MQTT</td>\n",
       "      <td>68</td>\n",
       "      <td>1883</td>\n",
       "      <td>NaN</td>\n",
       "      <td>58693</td>\n",
       "      <td>Ping Response</td>\n",
       "    </tr>\n",
       "    <tr>\n",
       "      <th>3313</th>\n",
       "      <td>2816114</td>\n",
       "      <td>1889.444105</td>\n",
       "      <td>192.168.15.8</td>\n",
       "      <td>130.185.238.170</td>\n",
       "      <td>MQTT</td>\n",
       "      <td>68</td>\n",
       "      <td>55567</td>\n",
       "      <td>NaN</td>\n",
       "      <td>1883</td>\n",
       "      <td>Ping Request</td>\n",
       "    </tr>\n",
       "    <tr>\n",
       "      <th>3314</th>\n",
       "      <td>2816115</td>\n",
       "      <td>1889.522973</td>\n",
       "      <td>130.185.238.170</td>\n",
       "      <td>192.168.15.8</td>\n",
       "      <td>MQTT</td>\n",
       "      <td>68</td>\n",
       "      <td>1883</td>\n",
       "      <td>NaN</td>\n",
       "      <td>55567</td>\n",
       "      <td>Ping Response</td>\n",
       "    </tr>\n",
       "    <tr>\n",
       "      <th>3315</th>\n",
       "      <td>2816128</td>\n",
       "      <td>1891.085421</td>\n",
       "      <td>192.168.15.8</td>\n",
       "      <td>130.185.238.170</td>\n",
       "      <td>MQTT</td>\n",
       "      <td>68</td>\n",
       "      <td>59943</td>\n",
       "      <td>NaN</td>\n",
       "      <td>1883</td>\n",
       "      <td>Ping Request</td>\n",
       "    </tr>\n",
       "    <tr>\n",
       "      <th>3316</th>\n",
       "      <td>2816129</td>\n",
       "      <td>1891.162857</td>\n",
       "      <td>130.185.238.170</td>\n",
       "      <td>192.168.15.8</td>\n",
       "      <td>MQTT</td>\n",
       "      <td>68</td>\n",
       "      <td>1883</td>\n",
       "      <td>NaN</td>\n",
       "      <td>59943</td>\n",
       "      <td>Ping Response</td>\n",
       "    </tr>\n",
       "  </tbody>\n",
       "</table>\n",
       "<p>3317 rows × 10 columns</p>\n",
       "</div>"
      ],
      "text/plain": [
       "          No.         Time           Source      Destination Protocol  Length  \\\n",
       "0         318    19.032647     192.168.15.8  130.185.238.170     MQTT      89   \n",
       "1         320    19.112437  130.185.238.170     192.168.15.8     MQTT      70   \n",
       "2         321    19.112473     192.168.15.8  130.185.238.170     MQTT     354   \n",
       "3         323    19.192029  130.185.238.170     192.168.15.8     MQTT      71   \n",
       "4         328    19.271864  130.185.238.170     192.168.15.8     MQTT     340   \n",
       "...       ...          ...              ...              ...      ...     ...   \n",
       "3312  2816099  1888.334877  130.185.238.170     192.168.15.8     MQTT      68   \n",
       "3313  2816114  1889.444105     192.168.15.8  130.185.238.170     MQTT      68   \n",
       "3314  2816115  1889.522973  130.185.238.170     192.168.15.8     MQTT      68   \n",
       "3315  2816128  1891.085421     192.168.15.8  130.185.238.170     MQTT      68   \n",
       "3316  2816129  1891.162857  130.185.238.170     192.168.15.8     MQTT      68   \n",
       "\n",
       "      Source Port Message Identifier  Destination Port  \\\n",
       "0           55897                NaN              1883   \n",
       "1            1883                NaN             55897   \n",
       "2           55897                1,2              1883   \n",
       "3            1883                  1             55897   \n",
       "4            1883                  2             55897   \n",
       "...           ...                ...               ...   \n",
       "3312         1883                NaN             58693   \n",
       "3313        55567                NaN              1883   \n",
       "3314         1883                NaN             55567   \n",
       "3315        59943                NaN              1883   \n",
       "3316         1883                NaN             59943   \n",
       "\n",
       "                                                   Info  \n",
       "0                                       Connect Command  \n",
       "1                                           Connect Ack  \n",
       "2     Subscribe Request (id=1) [devices-1], Publish ...  \n",
       "3                                  Subscribe Ack (id=1)  \n",
       "4       Publish Message [devices-1], Publish Ack (id=2)  \n",
       "...                                                 ...  \n",
       "3312                                      Ping Response  \n",
       "3313                                       Ping Request  \n",
       "3314                                      Ping Response  \n",
       "3315                                       Ping Request  \n",
       "3316                                      Ping Response  \n",
       "\n",
       "[3317 rows x 10 columns]"
      ]
     },
     "execution_count": 2,
     "metadata": {},
     "output_type": "execute_result"
    }
   ],
   "source": [
    "data = pd.read_csv(\"./data.csv\")\n",
    "ports = data[\"Source Port\"].unique()\n",
    "ports = ports[ports !=1883]\n",
    "data"
   ]
  },
  {
   "cell_type": "code",
   "execution_count": 3,
   "id": "68b8dfc9",
   "metadata": {},
   "outputs": [],
   "source": [
    "#  - Separar publicações e confirmação de entrega por dispositivo simulado.\n",
    "devices = {}\n",
    "#  : devices será um dicionario que irá ter uma chave referente ao device e o valor será um dataframe referente aos respectivos devices \n",
    "for port in ports:  \n",
    "  data = data.loc[ ~(data[\"Message Identifier\"] == \"1,2\")]\n",
    "  # data[\"Message Identifier\"].dropna(replace=True)\n",
    "  array_publish = data.loc[data[\"Source Port\"] == port].dropna(subset=['Message Identifier'])\n",
    "  array_publish_ack = data.loc[data[\"Destination Port\"] == port].dropna(subset=['Message Identifier'])\n",
    "  device = {\"publish\":array_publish, \"publish_ack\" : array_publish_ack}\n",
    "  devices[port] = device"
   ]
  },
  {
   "cell_type": "code",
   "execution_count": 4,
   "id": "9cce969d",
   "metadata": {},
   "outputs": [],
   "source": [
    "devicesNew = devices.copy()\n",
    "for index in devices:\n",
    "    if len(devices[index][\"publish\"]) <= 0:\n",
    "        ports = ports.pop(index)\n",
    "\n"
   ]
  },
  {
   "cell_type": "code",
   "execution_count": 5,
   "id": "40fdeb08",
   "metadata": {},
   "outputs": [],
   "source": [
    "# - Criação de um dataframe com informações capturadas acima. \n",
    "data = {}\n",
    "for port in ports:\n",
    "    RTT = pd.DataFrame(columns=[\"Time_publish\", \"Time_ack\"])\n",
    "    for index, row in devices[port][\"publish\"].iterrows():\n",
    "        id = int(row[\"Message Identifier\"])\n",
    "        time_publish = row[\"Time\"]\n",
    "        RTT.loc[id, \"Time_publish\"] = time_publish \n",
    "\n",
    "    for index, row in devices[port][\"publish_ack\"].iterrows():\n",
    "        id = int(row[\"Message Identifier\"])\n",
    "        time_publish = row[\"Time\"]\n",
    "        RTT.loc[id, \"Time_ack\"] = time_publish\n",
    "    RTT.loc[id, \"Time_ack\"] = time_publish\n",
    "    RTT[\"RTT\"]  =(RTT[\"Time_ack\"] - RTT[\"Time_publish\"] )* 1000\n",
    "    data[port] = RTT\n"
   ]
  },
  {
   "attachments": {},
   "cell_type": "markdown",
   "id": "c3c46f2a",
   "metadata": {},
   "source": [
    "## Medidas de Tendência Central Por Device"
   ]
  },
  {
   "cell_type": "code",
   "execution_count": 6,
   "id": "fab98b67",
   "metadata": {},
   "outputs": [
    {
     "name": "stdout",
     "output_type": "stream",
     "text": [
      "(Device-1)Mean Round Trip Time = 169.2174383585823\n",
      "(Device-1)Median Round Trip Time = 164.25562550003292\n",
      "(Device-1)Standard deviation  Round Trip Time = 13.201068216074399\n",
      "(Device-1)Min Round Trip Time = 157.20754000005854\n",
      "(Device-1)Max Round Trip Time = 216.3231220000057\n",
      "---------------------------------------------------------------\n",
      "(Device-2)Mean Round Trip Time = 156.5066011758781\n",
      "(Device-2)Median Round Trip Time = 152.28359499997168\n",
      "(Device-2)Standard deviation  Round Trip Time = 10.734223072257764\n",
      "(Device-2)Min Round Trip Time = 146.21590199999446\n",
      "(Device-2)Max Round Trip Time = 217.44502499996088\n",
      "---------------------------------------------------------------\n",
      "(Device-3)Mean Round Trip Time = 160.44964718592814\n",
      "(Device-3)Median Round Trip Time = 154.60901900002\n",
      "(Device-3)Standard deviation  Round Trip Time = 11.889595189393052\n",
      "(Device-3)Min Round Trip Time = 150.8755720000181\n",
      "(Device-3)Max Round Trip Time = 233.72675799998888\n",
      "---------------------------------------------------------------\n",
      "(Device-4)Mean Round Trip Time = 162.97362412626174\n",
      "(Device-4)Median Round Trip Time = 156.80007199997448\n",
      "(Device-4)Standard deviation  Round Trip Time = 16.114022743219394\n",
      "(Device-4)Min Round Trip Time = 150.45273099997303\n",
      "(Device-4)Max Round Trip Time = 260.4149169999914\n",
      "---------------------------------------------------------------\n",
      "(Device-5)Mean Round Trip Time = 160.64382356281413\n",
      "(Device-5)Median Round Trip Time = 155.08326500003022\n",
      "(Device-5)Standard deviation  Round Trip Time = 11.791051611004587\n",
      "(Device-5)Min Round Trip Time = 150.95333700000424\n",
      "(Device-5)Max Round Trip Time = 220.25926199995638\n",
      "---------------------------------------------------------------\n"
     ]
    }
   ],
   "source": [
    "i=1\n",
    "data_mean = []\n",
    "data_median = []\n",
    "data_std = []\n",
    "data_min = []\n",
    "data_max = []\n",
    "\n",
    "for port in ports:\n",
    "  data_mean.append(data[port][\"RTT\"].mean())\n",
    "  data_median.append(data[port][\"RTT\"].mean())\n",
    "  data_std.append(data[port][\"RTT\"].mean())\n",
    "  data_min.append(data[port][\"RTT\"].mean())\n",
    "  data_max.append(data[port][\"RTT\"].mean())\n",
    "\n",
    "  print(\"(Device-{})Mean Round Trip Time = {}\".format(i ,data[port][\"RTT\"].mean()))\n",
    "  print(\"(Device-{})Median Round Trip Time = {}\".format(i ,data[port][\"RTT\"].median()))\n",
    "  print(\"(Device-{})Standard deviation  Round Trip Time = {}\".format(i ,data[port][\"RTT\"].std()))\n",
    "  print(\"(Device-{})Min Round Trip Time = {}\".format(i ,data[port][\"RTT\"].min()))\n",
    "  print(\"(Device-{})Max Round Trip Time = {}\".format(i ,data[port][\"RTT\"].max()))\n",
    "  print(\"---------------------------------------------------------------\")\n",
    "\n",
    "  i+=1"
   ]
  },
  {
   "attachments": {},
   "cell_type": "markdown",
   "id": "834aa520",
   "metadata": {},
   "source": [
    "# CÁLCULO DO TAMANHO DA AMOSTRA"
   ]
  },
  {
   "cell_type": "code",
   "execution_count": 7,
   "id": "f4d34346",
   "metadata": {},
   "outputs": [],
   "source": [
    "nivel_de_significancia = 0.05"
   ]
  },
  {
   "cell_type": "code",
   "execution_count": 8,
   "id": "7b90fe59",
   "metadata": {},
   "outputs": [
    {
     "data": {
      "text/plain": [
       "0.95"
      ]
     },
     "execution_count": 8,
     "metadata": {},
     "output_type": "execute_result"
    }
   ],
   "source": [
    "nivel_de_confiança = 1 - nivel_de_significancia\n",
    "nivel_de_confiança"
   ]
  },
  {
   "cell_type": "code",
   "execution_count": 9,
   "id": "d1513a87",
   "metadata": {},
   "outputs": [
    {
     "data": {
      "text/plain": [
       "1.959963984540054"
      ]
     },
     "execution_count": 9,
     "metadata": {},
     "output_type": "execute_result"
    }
   ],
   "source": [
    "#Calculando o z com scipy\n",
    "z = scipy.stats.norm.ppf(0.975)\n",
    "z"
   ]
  },
  {
   "attachments": {},
   "cell_type": "markdown",
   "id": "036a09cd",
   "metadata": {},
   "source": [
    "Com nosso z calculado podemos seguir adiante\n",
    "\n",
    "### $$z = 1.959963984540054 $$\n",
    "\n",
    "Abaixo segue algumas formulas que iremos utilizar para calcular o numero de amostra\n",
    "\n"
   ]
  },
  {
   "attachments": {},
   "cell_type": "markdown",
   "id": "5fbb9cf5",
   "metadata": {},
   "source": [
    "### Calculando o tamanho da nossa amostra"
   ]
  },
  {
   "cell_type": "code",
   "execution_count": 10,
   "id": "fda1c58f",
   "metadata": {},
   "outputs": [
    {
     "data": {
      "text/plain": [
       "10.69934448837131"
      ]
     },
     "execution_count": 10,
     "metadata": {},
     "output_type": "execute_result"
    }
   ],
   "source": [
    "df_concatenado = pd.concat(data.values())\n",
    "desvio_padrao_amostral = df_concatenado[\"RTT\"].std()\n",
    "media = df_concatenado[\"RTT\"].mean()\n",
    "e = 0.05 * media\n",
    "n = (z * (desvio_padrao_amostral/e))**2\n",
    "n"
   ]
  },
  {
   "cell_type": "code",
   "execution_count": 11,
   "id": "0a38b0e1",
   "metadata": {},
   "outputs": [
    {
     "data": {
      "text/plain": [
       "10.69934448837131"
      ]
     },
     "execution_count": 11,
     "metadata": {},
     "output_type": "execute_result"
    }
   ],
   "source": [
    "n = (z * (desvio_padrao_amostral/e))**2\n",
    "n"
   ]
  },
  {
   "cell_type": "code",
   "execution_count": 12,
   "id": "c269b109",
   "metadata": {},
   "outputs": [
    {
     "data": {
      "text/plain": [
       "13.513914492163389"
      ]
     },
     "execution_count": 12,
     "metadata": {},
     "output_type": "execute_result"
    }
   ],
   "source": [
    "desvio_padrao_amostral"
   ]
  },
  {
   "cell_type": "code",
   "execution_count": null,
   "id": "398d71cd",
   "metadata": {},
   "outputs": [],
   "source": []
  },
  {
   "cell_type": "code",
   "execution_count": null,
   "id": "3ccdeeaf",
   "metadata": {},
   "outputs": [],
   "source": []
  }
 ],
 "metadata": {
  "kernelspec": {
   "display_name": "Python 3 (ipykernel)",
   "language": "python",
   "name": "python3"
  },
  "language_info": {
   "codemirror_mode": {
    "name": "ipython",
    "version": 3
   },
   "file_extension": ".py",
   "mimetype": "text/x-python",
   "name": "python",
   "nbconvert_exporter": "python",
   "pygments_lexer": "ipython3",
   "version": "3.10.6"
  }
 },
 "nbformat": 4,
 "nbformat_minor": 5
}
