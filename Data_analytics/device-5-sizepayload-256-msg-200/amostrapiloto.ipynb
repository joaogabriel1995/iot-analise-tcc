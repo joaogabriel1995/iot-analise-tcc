{
 "cells": [
  {
   "cell_type": "code",
   "execution_count": 78,
   "id": "134f65e3",
   "metadata": {},
   "outputs": [],
   "source": [
    "import pandas as pd\n",
    "import re\n",
    "import matplotlib.pyplot as plt\n",
    "import scipy\n",
    "import numpy as np\n",
    "import seaborn as sns"
   ]
  },
  {
   "attachments": {},
   "cell_type": "markdown",
   "id": "d098bd74",
   "metadata": {},
   "source": [
    "Objetivos do Script:\n",
    "\n",
    "Esse script tem como objetivo ler os dados que foram capturados da nossa amostra piloto e realizar alguns estudos em cima desses dados. \n",
    "\n",
    "Os 6 primeiros tópicos que eu separei abaixo são utilizados na grande maioria dos scripts de tratamento de dados desse estudo. \n",
    "Deixei padronizado para que seja possivel tratar simulações com um dispositivo ou vários.\n",
    "\n",
    "Sumário:\n",
    "  - Leitura dos dados\n",
    "  - Separar publicações e confirmação de entrega por dispositivo simulado.\n",
    "  - Criação de um dataframe com informações capturadas. \n",
    "  - Medidas de tendência centrar por dispositivo\n",
    "  - Medidas de tendência centrar de todos os dispositivos.\n",
    "  - Gráfico de dispersão da amostra.\n",
    "  - Calculo do tamanho da amostra.\n",
    "\n",
    "Como estamos trabalhando com uma amostra piloto temos como objetivo calcular o tamanho das amostras isso será realizado na ultima parte desse script.\n"
   ]
  },
  {
   "cell_type": "code",
   "execution_count": 79,
   "id": "f47c21fe",
   "metadata": {},
   "outputs": [
    {
     "data": {
      "text/html": [
       "<div>\n",
       "<style scoped>\n",
       "    .dataframe tbody tr th:only-of-type {\n",
       "        vertical-align: middle;\n",
       "    }\n",
       "\n",
       "    .dataframe tbody tr th {\n",
       "        vertical-align: top;\n",
       "    }\n",
       "\n",
       "    .dataframe thead th {\n",
       "        text-align: right;\n",
       "    }\n",
       "</style>\n",
       "<table border=\"1\" class=\"dataframe\">\n",
       "  <thead>\n",
       "    <tr style=\"text-align: right;\">\n",
       "      <th></th>\n",
       "      <th>No.</th>\n",
       "      <th>Time</th>\n",
       "      <th>Source</th>\n",
       "      <th>Destination</th>\n",
       "      <th>Protocol</th>\n",
       "      <th>Length</th>\n",
       "      <th>Message Type</th>\n",
       "      <th>Destination Port</th>\n",
       "      <th>Source Port</th>\n",
       "      <th>Message</th>\n",
       "      <th>Message Identifier</th>\n",
       "      <th>Info</th>\n",
       "    </tr>\n",
       "  </thead>\n",
       "  <tbody>\n",
       "    <tr>\n",
       "      <th>0</th>\n",
       "      <td>484</td>\n",
       "      <td>52.137958</td>\n",
       "      <td>192.168.15.2</td>\n",
       "      <td>45.179.91.194</td>\n",
       "      <td>MQTT</td>\n",
       "      <td>124</td>\n",
       "      <td>Connect Command</td>\n",
       "      <td>1883</td>\n",
       "      <td>58875</td>\n",
       "      <td>NaN</td>\n",
       "      <td>NaN</td>\n",
       "      <td>Connect Command</td>\n",
       "    </tr>\n",
       "    <tr>\n",
       "      <th>1</th>\n",
       "      <td>487</td>\n",
       "      <td>52.138260</td>\n",
       "      <td>192.168.15.2</td>\n",
       "      <td>45.179.91.194</td>\n",
       "      <td>MQTT</td>\n",
       "      <td>124</td>\n",
       "      <td>Connect Command</td>\n",
       "      <td>1883</td>\n",
       "      <td>57975</td>\n",
       "      <td>NaN</td>\n",
       "      <td>NaN</td>\n",
       "      <td>Connect Command</td>\n",
       "    </tr>\n",
       "    <tr>\n",
       "      <th>2</th>\n",
       "      <td>492</td>\n",
       "      <td>52.145216</td>\n",
       "      <td>192.168.15.2</td>\n",
       "      <td>45.179.91.194</td>\n",
       "      <td>MQTT</td>\n",
       "      <td>124</td>\n",
       "      <td>Connect Command</td>\n",
       "      <td>1883</td>\n",
       "      <td>46271</td>\n",
       "      <td>NaN</td>\n",
       "      <td>NaN</td>\n",
       "      <td>Connect Command</td>\n",
       "    </tr>\n",
       "    <tr>\n",
       "      <th>3</th>\n",
       "      <td>497</td>\n",
       "      <td>52.153784</td>\n",
       "      <td>192.168.15.2</td>\n",
       "      <td>45.179.91.194</td>\n",
       "      <td>MQTT</td>\n",
       "      <td>124</td>\n",
       "      <td>Connect Command</td>\n",
       "      <td>1883</td>\n",
       "      <td>36573</td>\n",
       "      <td>NaN</td>\n",
       "      <td>NaN</td>\n",
       "      <td>Connect Command</td>\n",
       "    </tr>\n",
       "    <tr>\n",
       "      <th>4</th>\n",
       "      <td>498</td>\n",
       "      <td>52.154365</td>\n",
       "      <td>45.179.91.194</td>\n",
       "      <td>192.168.15.2</td>\n",
       "      <td>MQTT</td>\n",
       "      <td>70</td>\n",
       "      <td>Connect Ack</td>\n",
       "      <td>58875</td>\n",
       "      <td>1883</td>\n",
       "      <td>NaN</td>\n",
       "      <td>NaN</td>\n",
       "      <td>Connect Ack</td>\n",
       "    </tr>\n",
       "    <tr>\n",
       "      <th>...</th>\n",
       "      <td>...</td>\n",
       "      <td>...</td>\n",
       "      <td>...</td>\n",
       "      <td>...</td>\n",
       "      <td>...</td>\n",
       "      <td>...</td>\n",
       "      <td>...</td>\n",
       "      <td>...</td>\n",
       "      <td>...</td>\n",
       "      <td>...</td>\n",
       "      <td>...</td>\n",
       "      <td>...</td>\n",
       "    </tr>\n",
       "    <tr>\n",
       "      <th>3115</th>\n",
       "      <td>16485</td>\n",
       "      <td>784.333373</td>\n",
       "      <td>45.179.91.194</td>\n",
       "      <td>192.168.15.2</td>\n",
       "      <td>MQTT</td>\n",
       "      <td>70</td>\n",
       "      <td>Publish Ack</td>\n",
       "      <td>46271</td>\n",
       "      <td>1883</td>\n",
       "      <td>NaN</td>\n",
       "      <td>199.0</td>\n",
       "      <td>Publish Ack (id=199)</td>\n",
       "    </tr>\n",
       "    <tr>\n",
       "      <th>3116</th>\n",
       "      <td>16661</td>\n",
       "      <td>789.162577</td>\n",
       "      <td>192.168.15.2</td>\n",
       "      <td>45.179.91.194</td>\n",
       "      <td>MQTT</td>\n",
       "      <td>373</td>\n",
       "      <td>Publish Message</td>\n",
       "      <td>1883</td>\n",
       "      <td>46271</td>\n",
       "      <td>7b276d657373616765273a20277076717666757a6e3974...</td>\n",
       "      <td>200.0</td>\n",
       "      <td>Publish Message (id=200) [devices-48af521d-efc...</td>\n",
       "    </tr>\n",
       "    <tr>\n",
       "      <th>3117</th>\n",
       "      <td>16662</td>\n",
       "      <td>789.173790</td>\n",
       "      <td>45.179.91.194</td>\n",
       "      <td>192.168.15.2</td>\n",
       "      <td>MQTT</td>\n",
       "      <td>371</td>\n",
       "      <td>Publish Message</td>\n",
       "      <td>46271</td>\n",
       "      <td>1883</td>\n",
       "      <td>7b276d657373616765273a20277076717666757a6e3974...</td>\n",
       "      <td>NaN</td>\n",
       "      <td>Publish Message [devices-48af521d-efc1-405c-bf...</td>\n",
       "    </tr>\n",
       "    <tr>\n",
       "      <th>3118</th>\n",
       "      <td>16664</td>\n",
       "      <td>789.185476</td>\n",
       "      <td>45.179.91.194</td>\n",
       "      <td>192.168.15.2</td>\n",
       "      <td>MQTT</td>\n",
       "      <td>70</td>\n",
       "      <td>Publish Ack</td>\n",
       "      <td>46271</td>\n",
       "      <td>1883</td>\n",
       "      <td>NaN</td>\n",
       "      <td>200.0</td>\n",
       "      <td>Publish Ack (id=200)</td>\n",
       "    </tr>\n",
       "    <tr>\n",
       "      <th>3119</th>\n",
       "      <td>16728</td>\n",
       "      <td>790.187110</td>\n",
       "      <td>192.168.15.2</td>\n",
       "      <td>45.179.91.194</td>\n",
       "      <td>MQTT</td>\n",
       "      <td>68</td>\n",
       "      <td>Disconnect Req</td>\n",
       "      <td>1883</td>\n",
       "      <td>46271</td>\n",
       "      <td>NaN</td>\n",
       "      <td>NaN</td>\n",
       "      <td>Disconnect Req</td>\n",
       "    </tr>\n",
       "  </tbody>\n",
       "</table>\n",
       "<p>3120 rows × 12 columns</p>\n",
       "</div>"
      ],
      "text/plain": [
       "        No.        Time         Source    Destination Protocol  Length  \\\n",
       "0       484   52.137958   192.168.15.2  45.179.91.194     MQTT     124   \n",
       "1       487   52.138260   192.168.15.2  45.179.91.194     MQTT     124   \n",
       "2       492   52.145216   192.168.15.2  45.179.91.194     MQTT     124   \n",
       "3       497   52.153784   192.168.15.2  45.179.91.194     MQTT     124   \n",
       "4       498   52.154365  45.179.91.194   192.168.15.2     MQTT      70   \n",
       "...     ...         ...            ...            ...      ...     ...   \n",
       "3115  16485  784.333373  45.179.91.194   192.168.15.2     MQTT      70   \n",
       "3116  16661  789.162577   192.168.15.2  45.179.91.194     MQTT     373   \n",
       "3117  16662  789.173790  45.179.91.194   192.168.15.2     MQTT     371   \n",
       "3118  16664  789.185476  45.179.91.194   192.168.15.2     MQTT      70   \n",
       "3119  16728  790.187110   192.168.15.2  45.179.91.194     MQTT      68   \n",
       "\n",
       "         Message Type  Destination Port  Source Port  \\\n",
       "0     Connect Command              1883        58875   \n",
       "1     Connect Command              1883        57975   \n",
       "2     Connect Command              1883        46271   \n",
       "3     Connect Command              1883        36573   \n",
       "4         Connect Ack             58875         1883   \n",
       "...               ...               ...          ...   \n",
       "3115      Publish Ack             46271         1883   \n",
       "3116  Publish Message              1883        46271   \n",
       "3117  Publish Message             46271         1883   \n",
       "3118      Publish Ack             46271         1883   \n",
       "3119   Disconnect Req              1883        46271   \n",
       "\n",
       "                                                Message  Message Identifier  \\\n",
       "0                                                   NaN                 NaN   \n",
       "1                                                   NaN                 NaN   \n",
       "2                                                   NaN                 NaN   \n",
       "3                                                   NaN                 NaN   \n",
       "4                                                   NaN                 NaN   \n",
       "...                                                 ...                 ...   \n",
       "3115                                                NaN               199.0   \n",
       "3116  7b276d657373616765273a20277076717666757a6e3974...               200.0   \n",
       "3117  7b276d657373616765273a20277076717666757a6e3974...                 NaN   \n",
       "3118                                                NaN               200.0   \n",
       "3119                                                NaN                 NaN   \n",
       "\n",
       "                                                   Info  \n",
       "0                                       Connect Command  \n",
       "1                                       Connect Command  \n",
       "2                                       Connect Command  \n",
       "3                                       Connect Command  \n",
       "4                                           Connect Ack  \n",
       "...                                                 ...  \n",
       "3115                               Publish Ack (id=199)  \n",
       "3116  Publish Message (id=200) [devices-48af521d-efc...  \n",
       "3117  Publish Message [devices-48af521d-efc1-405c-bf...  \n",
       "3118                               Publish Ack (id=200)  \n",
       "3119                                     Disconnect Req  \n",
       "\n",
       "[3120 rows x 12 columns]"
      ]
     },
     "execution_count": 79,
     "metadata": {},
     "output_type": "execute_result"
    }
   ],
   "source": [
    "data = pd.read_csv(\"./data.csv\", encoding=\"latin\")\n",
    "ports = data[\"Source Port\"].unique()\n",
    "ports = ports[ports !=1883]\n",
    "data"
   ]
  },
  {
   "cell_type": "code",
   "execution_count": 80,
   "id": "68b8dfc9",
   "metadata": {},
   "outputs": [],
   "source": [
    "#  - Separar publicações e confirmação de entrega por dispositivo simulado.\n",
    "devices = {}\n",
    "#  : devices será um dicionario que irá ter uma chave referente ao device e o valor será um dataframe referente aos respectivos devices \n",
    "for port in ports:  \n",
    "  data = data.loc[ ~(data[\"Message Identifier\"] == \"1,2\")]\n",
    "  # data[\"Message Identifier\"].dropna(replace=True)\n",
    "  array_publish = data.loc[data[\"Source Port\"] == port].dropna(subset=['Message Identifier'])\n",
    "  array_publish_ack = data.loc[data[\"Destination Port\"] == port].dropna(subset=['Message Identifier'])\n",
    "  device = {\"publish\":array_publish, \"publish_ack\" : array_publish_ack}\n",
    "  devices[port] = device"
   ]
  },
  {
   "cell_type": "code",
   "execution_count": 81,
   "id": "9cce969d",
   "metadata": {},
   "outputs": [],
   "source": [
    "devicesNew = devices.copy()\n",
    "for index in devices:\n",
    "    if len(devices[index][\"publish\"]) <= 0:\n",
    "        ports = ports[ports !=index]\n",
    "\n"
   ]
  },
  {
   "cell_type": "code",
   "execution_count": 82,
   "id": "40fdeb08",
   "metadata": {},
   "outputs": [],
   "source": [
    "# - Criação de um dataframe com informações capturadas acima. \n",
    "data = {}\n",
    "for port in ports:\n",
    "    RTT = pd.DataFrame(columns=[\"Time_publish\", \"Time_ack\"])\n",
    "    for index, row in devices[port][\"publish\"].iterrows():\n",
    "        id = int(row[\"Message Identifier\"])\n",
    "        time_publish = row[\"Time\"]\n",
    "        RTT.loc[id, \"Time_publish\"] = time_publish \n",
    "\n",
    "    for index, row in devices[port][\"publish_ack\"].iterrows():\n",
    "        id = int(row[\"Message Identifier\"])\n",
    "        time_publish = row[\"Time\"]\n",
    "        RTT.loc[id, \"Time_ack\"] = time_publish\n",
    "    RTT.loc[id, \"Time_ack\"] = time_publish\n",
    "    RTT[\"RTT\"]  =(RTT[\"Time_ack\"] - RTT[\"Time_publish\"] )* 1000\n",
    "    data[port] = RTT[1:]\n"
   ]
  },
  {
   "cell_type": "code",
   "execution_count": 83,
   "id": "623d9d7a",
   "metadata": {},
   "outputs": [
    {
     "data": {
      "text/html": [
       "<div>\n",
       "<style scoped>\n",
       "    .dataframe tbody tr th:only-of-type {\n",
       "        vertical-align: middle;\n",
       "    }\n",
       "\n",
       "    .dataframe tbody tr th {\n",
       "        vertical-align: top;\n",
       "    }\n",
       "\n",
       "    .dataframe thead th {\n",
       "        text-align: right;\n",
       "    }\n",
       "</style>\n",
       "<table border=\"1\" class=\"dataframe\">\n",
       "  <thead>\n",
       "    <tr style=\"text-align: right;\">\n",
       "      <th></th>\n",
       "      <th>Time_publish</th>\n",
       "      <th>Time_ack</th>\n",
       "      <th>RTT</th>\n",
       "    </tr>\n",
       "  </thead>\n",
       "  <tbody>\n",
       "    <tr>\n",
       "      <th>2</th>\n",
       "      <td>54.168579</td>\n",
       "      <td>54.192491</td>\n",
       "      <td>23.911693</td>\n",
       "    </tr>\n",
       "    <tr>\n",
       "      <th>3</th>\n",
       "      <td>58.938389</td>\n",
       "      <td>58.960553</td>\n",
       "      <td>22.164613</td>\n",
       "    </tr>\n",
       "    <tr>\n",
       "      <th>4</th>\n",
       "      <td>61.622947</td>\n",
       "      <td>61.64457</td>\n",
       "      <td>21.622755</td>\n",
       "    </tr>\n",
       "    <tr>\n",
       "      <th>5</th>\n",
       "      <td>63.490794</td>\n",
       "      <td>63.512541</td>\n",
       "      <td>21.747132</td>\n",
       "    </tr>\n",
       "    <tr>\n",
       "      <th>6</th>\n",
       "      <td>67.437356</td>\n",
       "      <td>67.460653</td>\n",
       "      <td>23.297338</td>\n",
       "    </tr>\n",
       "    <tr>\n",
       "      <th>...</th>\n",
       "      <td>...</td>\n",
       "      <td>...</td>\n",
       "      <td>...</td>\n",
       "    </tr>\n",
       "    <tr>\n",
       "      <th>196</th>\n",
       "      <td>714.023459</td>\n",
       "      <td>714.044407</td>\n",
       "      <td>20.947111</td>\n",
       "    </tr>\n",
       "    <tr>\n",
       "      <th>197</th>\n",
       "      <td>719.05352</td>\n",
       "      <td>719.076584</td>\n",
       "      <td>23.063999</td>\n",
       "    </tr>\n",
       "    <tr>\n",
       "      <th>198</th>\n",
       "      <td>721.075415</td>\n",
       "      <td>721.096552</td>\n",
       "      <td>21.137283</td>\n",
       "    </tr>\n",
       "    <tr>\n",
       "      <th>199</th>\n",
       "      <td>724.96018</td>\n",
       "      <td>724.985298</td>\n",
       "      <td>25.117706</td>\n",
       "    </tr>\n",
       "    <tr>\n",
       "      <th>200</th>\n",
       "      <td>726.423266</td>\n",
       "      <td>726.444678</td>\n",
       "      <td>21.412237</td>\n",
       "    </tr>\n",
       "  </tbody>\n",
       "</table>\n",
       "<p>199 rows × 3 columns</p>\n",
       "</div>"
      ],
      "text/plain": [
       "    Time_publish    Time_ack        RTT\n",
       "2      54.168579   54.192491  23.911693\n",
       "3      58.938389   58.960553  22.164613\n",
       "4      61.622947    61.64457  21.622755\n",
       "5      63.490794   63.512541  21.747132\n",
       "6      67.437356   67.460653  23.297338\n",
       "..           ...         ...        ...\n",
       "196   714.023459  714.044407  20.947111\n",
       "197    719.05352  719.076584  23.063999\n",
       "198   721.075415  721.096552  21.137283\n",
       "199    724.96018  724.985298  25.117706\n",
       "200   726.423266  726.444678  21.412237\n",
       "\n",
       "[199 rows x 3 columns]"
      ]
     },
     "execution_count": 83,
     "metadata": {},
     "output_type": "execute_result"
    }
   ],
   "source": [
    "data[36573]"
   ]
  },
  {
   "attachments": {},
   "cell_type": "markdown",
   "id": "c3c46f2a",
   "metadata": {},
   "source": [
    "## Medidas de Tendência Central Por Device"
   ]
  },
  {
   "cell_type": "code",
   "execution_count": 84,
   "id": "fab98b67",
   "metadata": {},
   "outputs": [
    {
     "name": "stdout",
     "output_type": "stream",
     "text": [
      "(Device-1)Mean Round Trip Time = 22.78147064823969\n",
      "(Device-1)Median Round Trip Time = 22.66221399997903\n",
      "(Device-1)Standard deviation  Round Trip Time = 1.2150373061780233\n",
      "(Device-1)Min Round Trip Time = 19.96980900003109\n",
      "(Device-1)Max Round Trip Time = 25.15297599995847\n",
      "---------------------------------------------------------------\n",
      "(Device-2)Mean Round Trip Time = 23.275317035172744\n",
      "(Device-2)Median Round Trip Time = 23.22569000000385\n",
      "(Device-2)Standard deviation  Round Trip Time = 1.1691345267573472\n",
      "(Device-2)Min Round Trip Time = 20.801675000029718\n",
      "(Device-2)Max Round Trip Time = 26.880611000009935\n",
      "---------------------------------------------------------------\n",
      "(Device-3)Mean Round Trip Time = 22.866770100503313\n",
      "(Device-3)Median Round Trip Time = 22.89876700001514\n",
      "(Device-3)Standard deviation  Round Trip Time = 1.1478912306710116\n",
      "(Device-3)Min Round Trip Time = 20.656957000028342\n",
      "(Device-3)Max Round Trip Time = 25.010675999993737\n",
      "---------------------------------------------------------------\n",
      "(Device-4)Mean Round Trip Time = 23.024349206028397\n",
      "(Device-4)Median Round Trip Time = 23.108767999929114\n",
      "(Device-4)Standard deviation  Round Trip Time = 1.2173422163451662\n",
      "(Device-4)Min Round Trip Time = 20.535264000045572\n",
      "(Device-4)Max Round Trip Time = 25.32097099992825\n",
      "---------------------------------------------------------------\n",
      "(Device-5)Mean Round Trip Time = 23.594701879394854\n",
      "(Device-5)Median Round Trip Time = 23.527450000017325\n",
      "(Device-5)Standard deviation  Round Trip Time = 1.1686815081544226\n",
      "(Device-5)Min Round Trip Time = 21.138479000001098\n",
      "(Device-5)Max Round Trip Time = 29.783641999983956\n",
      "---------------------------------------------------------------\n"
     ]
    }
   ],
   "source": [
    "i=1\n",
    "data_mean = []\n",
    "data_median = []\n",
    "data_std = []\n",
    "data_min = []\n",
    "data_max = []\n",
    "\n",
    "for port in ports:\n",
    "  data_mean.append(data[port][\"RTT\"].mean())\n",
    "  data_median.append(data[port][\"RTT\"].mean())\n",
    "  data_std.append(data[port][\"RTT\"].mean())\n",
    "  data_min.append(data[port][\"RTT\"].mean())\n",
    "  data_max.append(data[port][\"RTT\"].mean())\n",
    "\n",
    "  print(\"(Device-{})Mean Round Trip Time = {}\".format(i ,data[port][\"RTT\"].mean()))\n",
    "  print(\"(Device-{})Median Round Trip Time = {}\".format(i ,data[port][\"RTT\"].median()))\n",
    "  print(\"(Device-{})Standard deviation  Round Trip Time = {}\".format(i ,data[port][\"RTT\"].std()))\n",
    "  print(\"(Device-{})Min Round Trip Time = {}\".format(i ,data[port][\"RTT\"].min()))\n",
    "  print(\"(Device-{})Max Round Trip Time = {}\".format(i ,data[port][\"RTT\"].max()))\n",
    "  print(\"---------------------------------------------------------------\")\n",
    "\n",
    "  i+=1"
   ]
  },
  {
   "attachments": {},
   "cell_type": "markdown",
   "id": "834aa520",
   "metadata": {},
   "source": [
    "# CÁLCULO DO TAMANHO DA AMOSTRA"
   ]
  },
  {
   "cell_type": "code",
   "execution_count": 69,
   "id": "f4d34346",
   "metadata": {},
   "outputs": [],
   "source": [
    "nivel_de_significancia = 0.05"
   ]
  },
  {
   "cell_type": "code",
   "execution_count": 70,
   "id": "7b90fe59",
   "metadata": {},
   "outputs": [
    {
     "data": {
      "text/plain": [
       "0.95"
      ]
     },
     "execution_count": 70,
     "metadata": {},
     "output_type": "execute_result"
    }
   ],
   "source": [
    "nivel_de_confiança = 1 - nivel_de_significancia\n",
    "nivel_de_confiança"
   ]
  },
  {
   "cell_type": "code",
   "execution_count": 71,
   "id": "d1513a87",
   "metadata": {},
   "outputs": [
    {
     "data": {
      "text/plain": [
       "1.959963984540054"
      ]
     },
     "execution_count": 71,
     "metadata": {},
     "output_type": "execute_result"
    }
   ],
   "source": [
    "#Calculando o z com scipy\n",
    "z = scipy.stats.norm.ppf(0.975)\n",
    "z"
   ]
  },
  {
   "attachments": {},
   "cell_type": "markdown",
   "id": "036a09cd",
   "metadata": {},
   "source": [
    "Com nosso z calculado podemos seguir adiante\n",
    "\n",
    "### $$z = 1.959963984540054 $$\n",
    "\n",
    "Abaixo segue algumas formulas que iremos utilizar para calcular o numero de amostra\n",
    "\n"
   ]
  },
  {
   "attachments": {},
   "cell_type": "markdown",
   "id": "5fbb9cf5",
   "metadata": {},
   "source": [
    "### Calculando o tamanho da nossa amostra"
   ]
  },
  {
   "cell_type": "code",
   "execution_count": 72,
   "id": "fda1c58f",
   "metadata": {},
   "outputs": [
    {
     "data": {
      "text/plain": [
       "4.268738602441274"
      ]
     },
     "execution_count": 72,
     "metadata": {},
     "output_type": "execute_result"
    }
   ],
   "source": [
    "df_concatenado = pd.concat(data.values())\n",
    "desvio_padrao_amostral = df_concatenado[\"RTT\"].std()\n",
    "media = df_concatenado[\"RTT\"].mean()\n",
    "e = 0.05 * media\n",
    "n = (z * ( desvio_padrao_amostral/e) )**2\n",
    "n"
   ]
  },
  {
   "cell_type": "code",
   "execution_count": 73,
   "id": "23faa149",
   "metadata": {},
   "outputs": [],
   "source": [
    "e = df_concatenado[\"RTT\"].mean() * 0.05"
   ]
  },
  {
   "cell_type": "code",
   "execution_count": 74,
   "id": "424d31ab",
   "metadata": {},
   "outputs": [
    {
     "data": {
      "text/plain": [
       "1.2179903826418776"
      ]
     },
     "execution_count": 74,
     "metadata": {},
     "output_type": "execute_result"
    }
   ],
   "source": [
    "desvio_padrao_amostral"
   ]
  },
  {
   "cell_type": "code",
   "execution_count": 75,
   "id": "c8e4fd9b",
   "metadata": {},
   "outputs": [
    {
     "data": {
      "image/png": "[encoded data removed]",
      "text/plain": [
       "<Figure size 720x360 with 1 Axes>"
      ]
     },
     "metadata": {},
     "output_type": "display_data"
    }
   ],
   "source": [
    "import matplotlib \n",
    "i=1\n",
    "fig, ax = plt.subplots(figsize=(10,5),dpi=72)\n",
    "for port in ports:\n",
    "  ax.scatter(data[port][\"RTT\"].index,data[port][\"RTT\"], label='Dispositivo-{}'.format(i))\n",
    "  ax.set_ylabel('Round Trip Time (ms)')\n",
    "  ax.set_xlabel('Quantidade de Publicação')\n",
    "  ax.set_title('Gráfico de dispersão (Round Trip Time)')\n",
    "#   ax.hlines(data[port][\"RTT\"].max(),  xmin=0, xmax=620, colors=\"red\", linestyles=\"dashed\", label=\"Maior Medição\")\n",
    "#   ax.hlines(data[port][\"RTT\"].min(),  xmin=0, xmax=620, colors=\"green\", linestyles=\"dashed\", label=\"Menor Medição\")\n",
    "  ax.legend()\n",
    "  i+=1"
   ]
  },
  {
   "cell_type": "code",
   "execution_count": 76,
   "id": "62640c8b",
   "metadata": {},
   "outputs": [
    {
     "data": {
      "text/plain": [
       "23.108521773867817"
      ]
     },
     "execution_count": 76,
     "metadata": {},
     "output_type": "execute_result"
    }
   ],
   "source": [
    "df_concatenado[\"RTT\"].mean()"
   ]
  },
  {
   "cell_type": "code",
   "execution_count": 77,
   "id": "82bc1c10",
   "metadata": {},
   "outputs": [],
   "source": [
    "df_concatenado[\"RTT\"].to_csv(\"dados.csv\", index=False)"
   ]
  },
  {
   "cell_type": "code",
   "execution_count": null,
   "metadata": {},
   "outputs": [],
   "source": []
  }
 ],
 "metadata": {
  "kernelspec": {
   "display_name": "Python 3 (ipykernel)",
   "language": "python",
   "name": "python3"
  },
  "language_info": {
   "codemirror_mode": {
    "name": "ipython",
    "version": 3
   },
   "file_extension": ".py",
   "mimetype": "text/x-python",
   "name": "python",
   "nbconvert_exporter": "python",
   "pygments_lexer": "ipython3",
   "version": "3.10.12"
  }
 },
 "nbformat": 4,
 "nbformat_minor": 5
}
