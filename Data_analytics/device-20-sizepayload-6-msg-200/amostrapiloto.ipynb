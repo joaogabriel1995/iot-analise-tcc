{
 "cells": [
  {
   "cell_type": "code",
   "execution_count": 1,
   "id": "134f65e3",
   "metadata": {},
   "outputs": [],
   "source": [
    "import pandas as pd\n",
    "import re\n",
    "import matplotlib.pyplot as plt\n",
    "import scipy\n",
    "import numpy as np\n",
    "import seaborn as sns"
   ]
  },
  {
   "attachments": {},
   "cell_type": "markdown",
   "id": "d098bd74",
   "metadata": {},
   "source": [
    "Objetivos do Script:\n",
    "\n",
    "Esse script tem como objetivo ler os dados que foram capturados da nossa amostra piloto e realizar alguns estudos em cima desses dados. \n",
    "\n",
    "Os 6 primeiros tópicos que eu separei abaixo são utilizados na grande maioria dos scripts de tratamento de dados desse estudo. \n",
    "Deixei padronizado para que seja possivel tratar simulações com um dispositivo ou vários.\n",
    "\n",
    "Sumário:\n",
    "  - Leitura dos dados\n",
    "  - Separar publicações e confirmação de entrega por dispositivo simulado.\n",
    "  - Criação de um dataframe com informações capturadas. \n",
    "  - Medidas de tendência centrar por dispositivo\n",
    "  - Medidas de tendência centrar de todos os dispositivos.\n",
    "  - Gráfico de dispersão da amostra.\n",
    "  - Calculo do tamanho da amostra.\n",
    "\n",
    "Como estamos trabalhando com uma amostra piloto temos como objetivo calcular o tamanho das amostras isso será realizado na ultima parte desse script.\n"
   ]
  },
  {
   "cell_type": "code",
   "execution_count": 2,
   "id": "f47c21fe",
   "metadata": {},
   "outputs": [
    {
     "data": {
      "text/html": [
       "<div>\n",
       "<style scoped>\n",
       "    .dataframe tbody tr th:only-of-type {\n",
       "        vertical-align: middle;\n",
       "    }\n",
       "\n",
       "    .dataframe tbody tr th {\n",
       "        vertical-align: top;\n",
       "    }\n",
       "\n",
       "    .dataframe thead th {\n",
       "        text-align: right;\n",
       "    }\n",
       "</style>\n",
       "<table border=\"1\" class=\"dataframe\">\n",
       "  <thead>\n",
       "    <tr style=\"text-align: right;\">\n",
       "      <th></th>\n",
       "      <th>No.</th>\n",
       "      <th>Time</th>\n",
       "      <th>Source</th>\n",
       "      <th>Destination</th>\n",
       "      <th>Protocol</th>\n",
       "      <th>Length</th>\n",
       "      <th>Source Port</th>\n",
       "      <th>Message Identifier</th>\n",
       "      <th>Destination Port</th>\n",
       "      <th>Info</th>\n",
       "    </tr>\n",
       "  </thead>\n",
       "  <tbody>\n",
       "    <tr>\n",
       "      <th>0</th>\n",
       "      <td>446</td>\n",
       "      <td>38.552638</td>\n",
       "      <td>192.168.15.8</td>\n",
       "      <td>130.185.238.170</td>\n",
       "      <td>MQTT</td>\n",
       "      <td>89</td>\n",
       "      <td>60295</td>\n",
       "      <td>NaN</td>\n",
       "      <td>1883</td>\n",
       "      <td>Connect Command</td>\n",
       "    </tr>\n",
       "    <tr>\n",
       "      <th>1</th>\n",
       "      <td>448</td>\n",
       "      <td>38.632291</td>\n",
       "      <td>192.168.15.8</td>\n",
       "      <td>130.185.238.170</td>\n",
       "      <td>MQTT</td>\n",
       "      <td>103</td>\n",
       "      <td>60295</td>\n",
       "      <td>1,2</td>\n",
       "      <td>1883</td>\n",
       "      <td>Subscribe Request (id=1) [devices-1], Publish ...</td>\n",
       "    </tr>\n",
       "    <tr>\n",
       "      <th>2</th>\n",
       "      <td>449</td>\n",
       "      <td>38.632258</td>\n",
       "      <td>130.185.238.170</td>\n",
       "      <td>192.168.15.8</td>\n",
       "      <td>MQTT</td>\n",
       "      <td>70</td>\n",
       "      <td>1883</td>\n",
       "      <td>NaN</td>\n",
       "      <td>60295</td>\n",
       "      <td>Connect Ack</td>\n",
       "    </tr>\n",
       "    <tr>\n",
       "      <th>3</th>\n",
       "      <td>452</td>\n",
       "      <td>38.709168</td>\n",
       "      <td>130.185.238.170</td>\n",
       "      <td>192.168.15.8</td>\n",
       "      <td>MQTT</td>\n",
       "      <td>71</td>\n",
       "      <td>1883</td>\n",
       "      <td>1</td>\n",
       "      <td>60295</td>\n",
       "      <td>Subscribe Ack (id=1)</td>\n",
       "    </tr>\n",
       "    <tr>\n",
       "      <th>4</th>\n",
       "      <td>456</td>\n",
       "      <td>38.787790</td>\n",
       "      <td>130.185.238.170</td>\n",
       "      <td>192.168.15.8</td>\n",
       "      <td>MQTT</td>\n",
       "      <td>89</td>\n",
       "      <td>1883</td>\n",
       "      <td>2</td>\n",
       "      <td>60295</td>\n",
       "      <td>Publish Message [devices-1], Publish Ack (id=2)</td>\n",
       "    </tr>\n",
       "    <tr>\n",
       "      <th>...</th>\n",
       "      <td>...</td>\n",
       "      <td>...</td>\n",
       "      <td>...</td>\n",
       "      <td>...</td>\n",
       "      <td>...</td>\n",
       "      <td>...</td>\n",
       "      <td>...</td>\n",
       "      <td>...</td>\n",
       "      <td>...</td>\n",
       "      <td>...</td>\n",
       "    </tr>\n",
       "    <tr>\n",
       "      <th>12610</th>\n",
       "      <td>85740</td>\n",
       "      <td>949.778811</td>\n",
       "      <td>130.185.238.170</td>\n",
       "      <td>192.168.15.8</td>\n",
       "      <td>MQTT</td>\n",
       "      <td>68</td>\n",
       "      <td>1883</td>\n",
       "      <td>NaN</td>\n",
       "      <td>59573</td>\n",
       "      <td>Ping Response</td>\n",
       "    </tr>\n",
       "    <tr>\n",
       "      <th>12611</th>\n",
       "      <td>85748</td>\n",
       "      <td>950.844552</td>\n",
       "      <td>192.168.15.8</td>\n",
       "      <td>130.185.238.170</td>\n",
       "      <td>MQTT</td>\n",
       "      <td>68</td>\n",
       "      <td>46129</td>\n",
       "      <td>NaN</td>\n",
       "      <td>1883</td>\n",
       "      <td>Ping Request</td>\n",
       "    </tr>\n",
       "    <tr>\n",
       "      <th>12612</th>\n",
       "      <td>85749</td>\n",
       "      <td>950.844611</td>\n",
       "      <td>192.168.15.8</td>\n",
       "      <td>130.185.238.170</td>\n",
       "      <td>MQTT</td>\n",
       "      <td>68</td>\n",
       "      <td>40831</td>\n",
       "      <td>NaN</td>\n",
       "      <td>1883</td>\n",
       "      <td>Ping Request</td>\n",
       "    </tr>\n",
       "    <tr>\n",
       "      <th>12613</th>\n",
       "      <td>85750</td>\n",
       "      <td>950.920930</td>\n",
       "      <td>130.185.238.170</td>\n",
       "      <td>192.168.15.8</td>\n",
       "      <td>MQTT</td>\n",
       "      <td>68</td>\n",
       "      <td>1883</td>\n",
       "      <td>NaN</td>\n",
       "      <td>40831</td>\n",
       "      <td>Ping Response</td>\n",
       "    </tr>\n",
       "    <tr>\n",
       "      <th>12614</th>\n",
       "      <td>85752</td>\n",
       "      <td>950.922621</td>\n",
       "      <td>130.185.238.170</td>\n",
       "      <td>192.168.15.8</td>\n",
       "      <td>MQTT</td>\n",
       "      <td>68</td>\n",
       "      <td>1883</td>\n",
       "      <td>NaN</td>\n",
       "      <td>46129</td>\n",
       "      <td>Ping Response</td>\n",
       "    </tr>\n",
       "  </tbody>\n",
       "</table>\n",
       "<p>12615 rows × 10 columns</p>\n",
       "</div>"
      ],
      "text/plain": [
       "         No.        Time           Source      Destination Protocol  Length  \\\n",
       "0        446   38.552638     192.168.15.8  130.185.238.170     MQTT      89   \n",
       "1        448   38.632291     192.168.15.8  130.185.238.170     MQTT     103   \n",
       "2        449   38.632258  130.185.238.170     192.168.15.8     MQTT      70   \n",
       "3        452   38.709168  130.185.238.170     192.168.15.8     MQTT      71   \n",
       "4        456   38.787790  130.185.238.170     192.168.15.8     MQTT      89   \n",
       "...      ...         ...              ...              ...      ...     ...   \n",
       "12610  85740  949.778811  130.185.238.170     192.168.15.8     MQTT      68   \n",
       "12611  85748  950.844552     192.168.15.8  130.185.238.170     MQTT      68   \n",
       "12612  85749  950.844611     192.168.15.8  130.185.238.170     MQTT      68   \n",
       "12613  85750  950.920930  130.185.238.170     192.168.15.8     MQTT      68   \n",
       "12614  85752  950.922621  130.185.238.170     192.168.15.8     MQTT      68   \n",
       "\n",
       "       Source Port Message Identifier  Destination Port  \\\n",
       "0            60295                NaN              1883   \n",
       "1            60295                1,2              1883   \n",
       "2             1883                NaN             60295   \n",
       "3             1883                  1             60295   \n",
       "4             1883                  2             60295   \n",
       "...            ...                ...               ...   \n",
       "12610         1883                NaN             59573   \n",
       "12611        46129                NaN              1883   \n",
       "12612        40831                NaN              1883   \n",
       "12613         1883                NaN             40831   \n",
       "12614         1883                NaN             46129   \n",
       "\n",
       "                                                    Info  \n",
       "0                                        Connect Command  \n",
       "1      Subscribe Request (id=1) [devices-1], Publish ...  \n",
       "2                                            Connect Ack  \n",
       "3                                   Subscribe Ack (id=1)  \n",
       "4        Publish Message [devices-1], Publish Ack (id=2)  \n",
       "...                                                  ...  \n",
       "12610                                      Ping Response  \n",
       "12611                                       Ping Request  \n",
       "12612                                       Ping Request  \n",
       "12613                                      Ping Response  \n",
       "12614                                      Ping Response  \n",
       "\n",
       "[12615 rows x 10 columns]"
      ]
     },
     "execution_count": 2,
     "metadata": {},
     "output_type": "execute_result"
    }
   ],
   "source": [
    "data = pd.read_csv(\"./data.csv\")\n",
    "ports = data[\"Source Port\"].unique()\n",
    "ports = ports[ports !=1883]\n",
    "data"
   ]
  },
  {
   "cell_type": "code",
   "execution_count": 3,
   "id": "68b8dfc9",
   "metadata": {},
   "outputs": [],
   "source": [
    "#  - Separar publicações e confirmação de entrega por dispositivo simulado.\n",
    "devices = {}\n",
    "#  : devices será um dicionario que irá ter uma chave referente ao device e o valor será um dataframe referente aos respectivos devices \n",
    "for port in ports:  \n",
    "  data = data.loc[ ~(data[\"Message Identifier\"] == \"1,2\")]\n",
    "  # data[\"Message Identifier\"].dropna(replace=True)\n",
    "  array_publish = data.loc[data[\"Source Port\"] == port].dropna(subset=['Message Identifier'])\n",
    "  array_publish_ack = data.loc[data[\"Destination Port\"] == port].dropna(subset=['Message Identifier'])\n",
    "  device = {\"publish\":array_publish, \"publish_ack\" : array_publish_ack}\n",
    "  devices[port] = device"
   ]
  },
  {
   "cell_type": "code",
   "execution_count": 4,
   "id": "9cce969d",
   "metadata": {},
   "outputs": [],
   "source": [
    "devicesNew = devices.copy()\n",
    "for index in devices:\n",
    "    if len(devices[index][\"publish\"]) <= 0:\n",
    "        ports = ports[ports !=index]\n",
    "\n"
   ]
  },
  {
   "cell_type": "code",
   "execution_count": 5,
   "id": "40fdeb08",
   "metadata": {},
   "outputs": [],
   "source": [
    "# - Criação de um dataframe com informações capturadas acima. \n",
    "data = {}\n",
    "for port in ports:\n",
    "    RTT = pd.DataFrame(columns=[\"Time_publish\", \"Time_ack\"])\n",
    "    for index, row in devices[port][\"publish\"].iterrows():\n",
    "        id = int(row[\"Message Identifier\"])\n",
    "        time_publish = row[\"Time\"]\n",
    "        RTT.loc[id, \"Time_publish\"] = time_publish \n",
    "\n",
    "    for index, row in devices[port][\"publish_ack\"].iterrows():\n",
    "        id = int(row[\"Message Identifier\"])\n",
    "        time_publish = row[\"Time\"]\n",
    "        RTT.loc[id, \"Time_ack\"] = time_publish\n",
    "    RTT.loc[id, \"Time_ack\"] = time_publish\n",
    "    RTT[\"RTT\"]  =(RTT[\"Time_ack\"] - RTT[\"Time_publish\"] )* 1000\n",
    "    data[port] = RTT\n"
   ]
  },
  {
   "attachments": {},
   "cell_type": "markdown",
   "id": "c3c46f2a",
   "metadata": {},
   "source": [
    "## Medidas de Tendência Central Por Device"
   ]
  },
  {
   "cell_type": "code",
   "execution_count": 6,
   "id": "fab98b67",
   "metadata": {},
   "outputs": [
    {
     "name": "stdout",
     "output_type": "stream",
     "text": [
      "(Device-1)Mean Round Trip Time = 153.10601719598\n",
      "(Device-1)Median Round Trip Time = 152.86036599999875\n",
      "(Device-1)Standard deviation  Round Trip Time = 3.4941913738593975\n",
      "(Device-1)Min Round Trip Time = 150.66452999997182\n",
      "(Device-1)Max Round Trip Time = 198.6272660000168\n",
      "---------------------------------------------------------------\n",
      "(Device-2)Mean Round Trip Time = 160.81278743216563\n",
      "(Device-2)Median Round Trip Time = 160.23554800000284\n",
      "(Device-2)Standard deviation  Round Trip Time = 6.711815942657842\n",
      "(Device-2)Min Round Trip Time = 158.21226399998523\n",
      "(Device-2)Max Round Trip Time = 253.17035300000157\n",
      "---------------------------------------------------------------\n",
      "(Device-3)Mean Round Trip Time = 152.73830050251775\n",
      "(Device-3)Median Round Trip Time = 152.54601099999832\n",
      "(Device-3)Standard deviation  Round Trip Time = 1.7231956824114631\n",
      "(Device-3)Min Round Trip Time = 150.50012800000445\n",
      "(Device-3)Max Round Trip Time = 169.0731070000311\n",
      "---------------------------------------------------------------\n",
      "(Device-4)Mean Round Trip Time = 160.0509649497474\n",
      "(Device-4)Median Round Trip Time = 159.89095899999484\n",
      "(Device-4)Standard deviation  Round Trip Time = 3.445254631000802\n",
      "(Device-4)Min Round Trip Time = 157.59256900003038\n",
      "(Device-4)Max Round Trip Time = 205.51294300003065\n",
      "---------------------------------------------------------------\n",
      "(Device-5)Mean Round Trip Time = 150.67416952261658\n",
      "(Device-5)Median Round Trip Time = 150.15858699999285\n",
      "(Device-5)Standard deviation  Round Trip Time = 4.395167833466503\n",
      "(Device-5)Min Round Trip Time = 145.3346739999688\n",
      "(Device-5)Max Round Trip Time = 192.37478400000896\n",
      "---------------------------------------------------------------\n",
      "(Device-6)Mean Round Trip Time = 160.69139834673138\n",
      "(Device-6)Median Round Trip Time = 160.5404179999823\n",
      "(Device-6)Standard deviation  Round Trip Time = 3.1253912173377936\n",
      "(Device-6)Min Round Trip Time = 158.0408700000362\n",
      "(Device-6)Max Round Trip Time = 200.13526599996112\n",
      "---------------------------------------------------------------\n",
      "(Device-7)Mean Round Trip Time = 152.7949571256266\n",
      "(Device-7)Median Round Trip Time = 152.27177000008396\n",
      "(Device-7)Standard deviation  Round Trip Time = 3.888352079284895\n",
      "(Device-7)Min Round Trip Time = 150.19655500000795\n",
      "(Device-7)Max Round Trip Time = 196.21905299999298\n",
      "---------------------------------------------------------------\n",
      "(Device-8)Mean Round Trip Time = 152.69726641206015\n",
      "(Device-8)Median Round Trip Time = 152.50648599999295\n",
      "(Device-8)Standard deviation  Round Trip Time = 4.098390447009149\n",
      "(Device-8)Min Round Trip Time = 150.29871600006572\n",
      "(Device-8)Max Round Trip Time = 207.62576000004174\n",
      "---------------------------------------------------------------\n",
      "(Device-9)Mean Round Trip Time = 153.65432924120864\n",
      "(Device-9)Median Round Trip Time = 152.8043969999544\n",
      "(Device-9)Standard deviation  Round Trip Time = 7.003210254211142\n",
      "(Device-9)Min Round Trip Time = 150.31551599997783\n",
      "(Device-9)Max Round Trip Time = 226.19745100000443\n",
      "---------------------------------------------------------------\n",
      "(Device-10)Mean Round Trip Time = 152.1550519045229\n",
      "(Device-10)Median Round Trip Time = 151.80449399997542\n",
      "(Device-10)Standard deviation  Round Trip Time = 3.4019198740401824\n",
      "(Device-10)Min Round Trip Time = 149.58826800000224\n",
      "(Device-10)Max Round Trip Time = 195.91031099997736\n",
      "---------------------------------------------------------------\n",
      "(Device-11)Mean Round Trip Time = 161.59533762814223\n",
      "(Device-11)Median Round Trip Time = 161.0144360000163\n",
      "(Device-11)Standard deviation  Round Trip Time = 5.3671571193050305\n",
      "(Device-11)Min Round Trip Time = 159.02963899998213\n",
      "(Device-11)Max Round Trip Time = 233.9007140000149\n",
      "---------------------------------------------------------------\n",
      "(Device-12)Mean Round Trip Time = 160.59097962813692\n",
      "(Device-12)Median Round Trip Time = 160.0925750000215\n",
      "(Device-12)Standard deviation  Round Trip Time = 6.0954193097146225\n",
      "(Device-12)Min Round Trip Time = 157.9969349999999\n",
      "(Device-12)Max Round Trip Time = 244.15327799999886\n",
      "---------------------------------------------------------------\n",
      "(Device-13)Mean Round Trip Time = 145.666909879399\n",
      "(Device-13)Median Round Trip Time = 145.02504100005353\n",
      "(Device-13)Standard deviation  Round Trip Time = 5.269858997622679\n",
      "(Device-13)Min Round Trip Time = 142.77489300002344\n",
      "(Device-13)Max Round Trip Time = 201.26683900002718\n",
      "---------------------------------------------------------------\n",
      "(Device-14)Mean Round Trip Time = 161.74082767838743\n",
      "(Device-14)Median Round Trip Time = 161.38401899991095\n",
      "(Device-14)Standard deviation  Round Trip Time = 2.589313439133442\n",
      "(Device-14)Min Round Trip Time = 159.20371900000418\n",
      "(Device-14)Max Round Trip Time = 182.00351199993747\n",
      "---------------------------------------------------------------\n",
      "(Device-15)Mean Round Trip Time = 145.35921292964844\n",
      "(Device-15)Median Round Trip Time = 145.17748599996594\n",
      "(Device-15)Standard deviation  Round Trip Time = 3.3244006167366207\n",
      "(Device-15)Min Round Trip Time = 142.69526100000007\n",
      "(Device-15)Max Round Trip Time = 188.01529099999925\n",
      "---------------------------------------------------------------\n",
      "(Device-16)Mean Round Trip Time = 153.0271713919565\n",
      "(Device-16)Median Round Trip Time = 152.46393000001035\n",
      "(Device-16)Standard deviation  Round Trip Time = 4.936220714122851\n",
      "(Device-16)Min Round Trip Time = 150.43809600000202\n",
      "(Device-16)Max Round Trip Time = 217.48636299992086\n",
      "---------------------------------------------------------------\n",
      "(Device-17)Mean Round Trip Time = 144.93651077387196\n",
      "(Device-17)Median Round Trip Time = 144.86737300001096\n",
      "(Device-17)Standard deviation  Round Trip Time = 1.6239434912803814\n",
      "(Device-17)Min Round Trip Time = 142.54953800002568\n",
      "(Device-17)Max Round Trip Time = 155.37620800000695\n",
      "---------------------------------------------------------------\n",
      "(Device-18)Mean Round Trip Time = 160.25706056783656\n",
      "(Device-18)Median Round Trip Time = 159.56549999998515\n",
      "(Device-18)Standard deviation  Round Trip Time = 5.067107446261342\n",
      "(Device-18)Min Round Trip Time = 157.65756999996938\n",
      "(Device-18)Max Round Trip Time = 209.38977999998087\n",
      "---------------------------------------------------------------\n",
      "(Device-19)Mean Round Trip Time = 161.2211182512553\n",
      "(Device-19)Median Round Trip Time = 160.79443300003504\n",
      "(Device-19)Standard deviation  Round Trip Time = 5.8226360264932415\n",
      "(Device-19)Min Round Trip Time = 158.04375699997308\n",
      "(Device-19)Max Round Trip Time = 227.9786359999889\n",
      "---------------------------------------------------------------\n",
      "(Device-20)Mean Round Trip Time = 153.53627932160742\n",
      "(Device-20)Median Round Trip Time = 152.9329470000107\n",
      "(Device-20)Standard deviation  Round Trip Time = 5.5510798858733175\n",
      "(Device-20)Min Round Trip Time = 150.72907000001123\n",
      "(Device-20)Max Round Trip Time = 221.58616799998754\n",
      "---------------------------------------------------------------\n"
     ]
    }
   ],
   "source": [
    "i=1\n",
    "data_mean = []\n",
    "data_median = []\n",
    "data_std = []\n",
    "data_min = []\n",
    "data_max = []\n",
    "\n",
    "for port in ports:\n",
    "  data_mean.append(data[port][\"RTT\"].mean())\n",
    "  data_median.append(data[port][\"RTT\"].mean())\n",
    "  data_std.append(data[port][\"RTT\"].mean())\n",
    "  data_min.append(data[port][\"RTT\"].mean())\n",
    "  data_max.append(data[port][\"RTT\"].mean())\n",
    "\n",
    "  print(\"(Device-{})Mean Round Trip Time = {}\".format(i ,data[port][\"RTT\"].mean()))\n",
    "  print(\"(Device-{})Median Round Trip Time = {}\".format(i ,data[port][\"RTT\"].median()))\n",
    "  print(\"(Device-{})Standard deviation  Round Trip Time = {}\".format(i ,data[port][\"RTT\"].std()))\n",
    "  print(\"(Device-{})Min Round Trip Time = {}\".format(i ,data[port][\"RTT\"].min()))\n",
    "  print(\"(Device-{})Max Round Trip Time = {}\".format(i ,data[port][\"RTT\"].max()))\n",
    "  print(\"---------------------------------------------------------------\")\n",
    "\n",
    "  i+=1"
   ]
  },
  {
   "attachments": {},
   "cell_type": "markdown",
   "id": "834aa520",
   "metadata": {},
   "source": [
    "# CÁLCULO DO TAMANHO DA AMOSTRA"
   ]
  },
  {
   "cell_type": "code",
   "execution_count": 7,
   "id": "f4d34346",
   "metadata": {},
   "outputs": [],
   "source": [
    "nivel_de_significancia = 0.05"
   ]
  },
  {
   "cell_type": "code",
   "execution_count": 8,
   "id": "7b90fe59",
   "metadata": {},
   "outputs": [
    {
     "data": {
      "text/plain": [
       "0.95"
      ]
     },
     "execution_count": 8,
     "metadata": {},
     "output_type": "execute_result"
    }
   ],
   "source": [
    "nivel_de_confiança = 1 - nivel_de_significancia\n",
    "nivel_de_confiança"
   ]
  },
  {
   "cell_type": "code",
   "execution_count": 9,
   "id": "d1513a87",
   "metadata": {},
   "outputs": [
    {
     "data": {
      "text/plain": [
       "1.959963984540054"
      ]
     },
     "execution_count": 9,
     "metadata": {},
     "output_type": "execute_result"
    }
   ],
   "source": [
    "#Calculando o z com scipy\n",
    "z = scipy.stats.norm.ppf(0.975)\n",
    "z"
   ]
  },
  {
   "attachments": {},
   "cell_type": "markdown",
   "id": "036a09cd",
   "metadata": {},
   "source": [
    "Com nosso z calculado podemos seguir adiante\n",
    "\n",
    "### $$z = 1.959963984540054 $$\n",
    "\n",
    "Abaixo segue algumas formulas que iremos utilizar para calcular o numero de amostra\n",
    "\n"
   ]
  },
  {
   "attachments": {},
   "cell_type": "markdown",
   "id": "5fbb9cf5",
   "metadata": {},
   "source": [
    "### Calculando o tamanho da nossa amostra"
   ]
  },
  {
   "cell_type": "code",
   "execution_count": 10,
   "id": "fda1c58f",
   "metadata": {},
   "outputs": [
    {
     "data": {
      "text/plain": [
       "3.3105947229079353"
      ]
     },
     "execution_count": 10,
     "metadata": {},
     "output_type": "execute_result"
    }
   ],
   "source": [
    "df_concatenado = pd.concat(data.values())\n",
    "desvio_padrao_amostral = df_concatenado[\"RTT\"].std()\n",
    "media = df_concatenado[\"RTT\"].mean()\n",
    "e = 0.05 * media\n",
    "n = (z * ( desvio_padrao_amostral/e) )**2\n",
    "n"
   ]
  },
  {
   "cell_type": "code",
   "execution_count": 11,
   "id": "23faa149",
   "metadata": {},
   "outputs": [],
   "source": [
    "e = df_concatenado[\"RTT\"].mean() * 0.05"
   ]
  },
  {
   "cell_type": "code",
   "execution_count": 12,
   "id": "424d31ab",
   "metadata": {},
   "outputs": [
    {
     "data": {
      "text/plain": [
       "7.188348630205773"
      ]
     },
     "execution_count": 12,
     "metadata": {},
     "output_type": "execute_result"
    }
   ],
   "source": [
    "desvio_padrao_amostral"
   ]
  },
  {
   "cell_type": "code",
   "execution_count": 13,
   "id": "c8e4fd9b",
   "metadata": {},
   "outputs": [
    {
     "data": {
      "image/png": "[encoded data removed]",
      "text/plain": [
       "<Figure size 720x360 with 1 Axes>"
      ]
     },
     "metadata": {},
     "output_type": "display_data"
    }
   ],
   "source": [
    "import matplotlib \n",
    "i=1\n",
    "fig, ax = plt.subplots(figsize=(10,5),dpi=72)\n",
    "for port in ports:\n",
    "  ax.scatter(data[port][\"RTT\"].index,data[port][\"RTT\"], label='Dispositivo-{}'.format(i))\n",
    "  ax.set_ylabel('Round Trip Time (ms)')\n",
    "  ax.set_xlabel('Quantidade de Publicação')\n",
    "  ax.set_title('Gráfico de dispersão (Round Trip Time)')\n",
    "#   ax.hlines(data[port][\"RTT\"].max(),  xmin=0, xmax=620, colors=\"red\", linestyles=\"dashed\", label=\"Maior Medição\")\n",
    "#   ax.hlines(data[port][\"RTT\"].min(),  xmin=0, xmax=620, colors=\"green\", linestyles=\"dashed\", label=\"Menor Medição\")\n",
    "  ax.legend()\n",
    "  i+=1"
   ]
  },
  {
   "cell_type": "code",
   "execution_count": 14,
   "id": "62640c8b",
   "metadata": {},
   "outputs": [
    {
     "data": {
      "text/plain": [
       "154.8653325341711"
      ]
     },
     "execution_count": 14,
     "metadata": {},
     "output_type": "execute_result"
    }
   ],
   "source": [
    "df_concatenado[\"RTT\"].mean()"
   ]
  },
  {
   "cell_type": "code",
   "execution_count": 15,
   "id": "82bc1c10",
   "metadata": {},
   "outputs": [],
   "source": [
    "df_concatenado[\"RTT\"].to_csv(\"dados.csv\", index=False)"
   ]
  }
 ],
 "metadata": {
  "kernelspec": {
   "display_name": "Python 3 (ipykernel)",
   "language": "python",
   "name": "python3"
  },
  "language_info": {
   "codemirror_mode": {
    "name": "ipython",
    "version": 3
   },
   "file_extension": ".py",
   "mimetype": "text/x-python",
   "name": "python",
   "nbconvert_exporter": "python",
   "pygments_lexer": "ipython3",
   "version": "3.10.6"
  }
 },
 "nbformat": 4,
 "nbformat_minor": 5
}
