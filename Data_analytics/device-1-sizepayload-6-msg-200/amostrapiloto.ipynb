{
 "cells": [
  {
   "cell_type": "code",
   "execution_count": 35,
   "id": "134f65e3",
   "metadata": {},
   "outputs": [],
   "source": [
    "import pandas as pd\n",
    "import re\n",
    "import matplotlib.pyplot as plt\n",
    "import scipy\n",
    "import numpy as np\n",
    "import seaborn as sns"
   ]
  },
  {
   "attachments": {},
   "cell_type": "markdown",
   "id": "d098bd74",
   "metadata": {},
   "source": [
    "Objetivos do Script:\n",
    "\n",
    "Esse script tem como objetivo ler os dados que foram capturados da nossa amostra piloto e realizar alguns estudos em cima desses dados. \n",
    "\n",
    "Os 6 primeiros tópicos que eu separei abaixo são utilizados na grande maioria dos scripts de tratamento de dados desse estudo. \n",
    "Deixei padronizado para que seja possivel tratar simulações com um dispositivo ou vários.\n",
    "\n",
    "Sumário:\n",
    "  - Leitura dos dados\n",
    "  - Separar publicações e confirmação de entrega por dispositivo simulado.\n",
    "  - Criação de um dataframe com informações capturadas. \n",
    "  - Medidas de tendência centrar por dispositivo\n",
    "  - Medidas de tendência centrar de todos os dispositivos.\n",
    "  - Gráfico de dispersão da amostra.\n",
    "  - Calculo do tamanho da amostra.\n",
    "\n",
    "Como estamos trabalhando com uma amostra piloto temos como objetivo calcular o tamanho das amostras isso será realizado na ultima parte desse script.\n"
   ]
  },
  {
   "cell_type": "code",
   "execution_count": 36,
   "id": "f47c21fe",
   "metadata": {},
   "outputs": [
    {
     "data": {
      "text/html": [
       "<div>\n",
       "<style scoped>\n",
       "    .dataframe tbody tr th:only-of-type {\n",
       "        vertical-align: middle;\n",
       "    }\n",
       "\n",
       "    .dataframe tbody tr th {\n",
       "        vertical-align: top;\n",
       "    }\n",
       "\n",
       "    .dataframe thead th {\n",
       "        text-align: right;\n",
       "    }\n",
       "</style>\n",
       "<table border=\"1\" class=\"dataframe\">\n",
       "  <thead>\n",
       "    <tr style=\"text-align: right;\">\n",
       "      <th></th>\n",
       "      <th>No.</th>\n",
       "      <th>Time</th>\n",
       "      <th>Source</th>\n",
       "      <th>Destination</th>\n",
       "      <th>Protocol</th>\n",
       "      <th>Length</th>\n",
       "      <th>Source Port</th>\n",
       "      <th>Message Identifier</th>\n",
       "      <th>Destination Port</th>\n",
       "      <th>Info</th>\n",
       "    </tr>\n",
       "  </thead>\n",
       "  <tbody>\n",
       "    <tr>\n",
       "      <th>0</th>\n",
       "      <td>256399</td>\n",
       "      <td>2303.411357</td>\n",
       "      <td>192.168.15.8</td>\n",
       "      <td>130.185.238.170</td>\n",
       "      <td>MQTT</td>\n",
       "      <td>89</td>\n",
       "      <td>37665</td>\n",
       "      <td>NaN</td>\n",
       "      <td>1883</td>\n",
       "      <td>Connect Command</td>\n",
       "    </tr>\n",
       "    <tr>\n",
       "      <th>1</th>\n",
       "      <td>256401</td>\n",
       "      <td>2303.491092</td>\n",
       "      <td>192.168.15.8</td>\n",
       "      <td>130.185.238.170</td>\n",
       "      <td>MQTT</td>\n",
       "      <td>103</td>\n",
       "      <td>37665</td>\n",
       "      <td>1,2</td>\n",
       "      <td>1883</td>\n",
       "      <td>Subscribe Request (id=1) [devices-1], Publish ...</td>\n",
       "    </tr>\n",
       "    <tr>\n",
       "      <th>2</th>\n",
       "      <td>256402</td>\n",
       "      <td>2303.491058</td>\n",
       "      <td>130.185.238.170</td>\n",
       "      <td>192.168.15.8</td>\n",
       "      <td>MQTT</td>\n",
       "      <td>70</td>\n",
       "      <td>1883</td>\n",
       "      <td>NaN</td>\n",
       "      <td>37665</td>\n",
       "      <td>Connect Ack</td>\n",
       "    </tr>\n",
       "    <tr>\n",
       "      <th>3</th>\n",
       "      <td>256405</td>\n",
       "      <td>2303.570351</td>\n",
       "      <td>130.185.238.170</td>\n",
       "      <td>192.168.15.8</td>\n",
       "      <td>MQTT</td>\n",
       "      <td>71</td>\n",
       "      <td>1883</td>\n",
       "      <td>1</td>\n",
       "      <td>37665</td>\n",
       "      <td>Subscribe Ack (id=1)</td>\n",
       "    </tr>\n",
       "    <tr>\n",
       "      <th>4</th>\n",
       "      <td>256407</td>\n",
       "      <td>2303.650380</td>\n",
       "      <td>130.185.238.170</td>\n",
       "      <td>192.168.15.8</td>\n",
       "      <td>MQTT</td>\n",
       "      <td>89</td>\n",
       "      <td>1883</td>\n",
       "      <td>2</td>\n",
       "      <td>37665</td>\n",
       "      <td>Publish Message [devices-1], Publish Ack (id=2)</td>\n",
       "    </tr>\n",
       "    <tr>\n",
       "      <th>...</th>\n",
       "      <td>...</td>\n",
       "      <td>...</td>\n",
       "      <td>...</td>\n",
       "      <td>...</td>\n",
       "      <td>...</td>\n",
       "      <td>...</td>\n",
       "      <td>...</td>\n",
       "      <td>...</td>\n",
       "      <td>...</td>\n",
       "      <td>...</td>\n",
       "    </tr>\n",
       "    <tr>\n",
       "      <th>649</th>\n",
       "      <td>411311</td>\n",
       "      <td>3749.580639</td>\n",
       "      <td>130.185.238.170</td>\n",
       "      <td>192.168.15.8</td>\n",
       "      <td>MQTT</td>\n",
       "      <td>68</td>\n",
       "      <td>1883</td>\n",
       "      <td>NaN</td>\n",
       "      <td>37665</td>\n",
       "      <td>Ping Response</td>\n",
       "    </tr>\n",
       "    <tr>\n",
       "      <th>650</th>\n",
       "      <td>414192</td>\n",
       "      <td>3809.634070</td>\n",
       "      <td>192.168.15.8</td>\n",
       "      <td>130.185.238.170</td>\n",
       "      <td>MQTT</td>\n",
       "      <td>68</td>\n",
       "      <td>37665</td>\n",
       "      <td>NaN</td>\n",
       "      <td>1883</td>\n",
       "      <td>Ping Request</td>\n",
       "    </tr>\n",
       "    <tr>\n",
       "      <th>651</th>\n",
       "      <td>414193</td>\n",
       "      <td>3809.714767</td>\n",
       "      <td>130.185.238.170</td>\n",
       "      <td>192.168.15.8</td>\n",
       "      <td>MQTT</td>\n",
       "      <td>68</td>\n",
       "      <td>1883</td>\n",
       "      <td>NaN</td>\n",
       "      <td>37665</td>\n",
       "      <td>Ping Response</td>\n",
       "    </tr>\n",
       "    <tr>\n",
       "      <th>652</th>\n",
       "      <td>416216</td>\n",
       "      <td>3869.766259</td>\n",
       "      <td>192.168.15.8</td>\n",
       "      <td>130.185.238.170</td>\n",
       "      <td>MQTT</td>\n",
       "      <td>68</td>\n",
       "      <td>37665</td>\n",
       "      <td>NaN</td>\n",
       "      <td>1883</td>\n",
       "      <td>Ping Request</td>\n",
       "    </tr>\n",
       "    <tr>\n",
       "      <th>653</th>\n",
       "      <td>416222</td>\n",
       "      <td>3869.847789</td>\n",
       "      <td>130.185.238.170</td>\n",
       "      <td>192.168.15.8</td>\n",
       "      <td>MQTT</td>\n",
       "      <td>68</td>\n",
       "      <td>1883</td>\n",
       "      <td>NaN</td>\n",
       "      <td>37665</td>\n",
       "      <td>Ping Response</td>\n",
       "    </tr>\n",
       "  </tbody>\n",
       "</table>\n",
       "<p>654 rows × 10 columns</p>\n",
       "</div>"
      ],
      "text/plain": [
       "        No.         Time           Source      Destination Protocol  Length  \\\n",
       "0    256399  2303.411357     192.168.15.8  130.185.238.170     MQTT      89   \n",
       "1    256401  2303.491092     192.168.15.8  130.185.238.170     MQTT     103   \n",
       "2    256402  2303.491058  130.185.238.170     192.168.15.8     MQTT      70   \n",
       "3    256405  2303.570351  130.185.238.170     192.168.15.8     MQTT      71   \n",
       "4    256407  2303.650380  130.185.238.170     192.168.15.8     MQTT      89   \n",
       "..      ...          ...              ...              ...      ...     ...   \n",
       "649  411311  3749.580639  130.185.238.170     192.168.15.8     MQTT      68   \n",
       "650  414192  3809.634070     192.168.15.8  130.185.238.170     MQTT      68   \n",
       "651  414193  3809.714767  130.185.238.170     192.168.15.8     MQTT      68   \n",
       "652  416216  3869.766259     192.168.15.8  130.185.238.170     MQTT      68   \n",
       "653  416222  3869.847789  130.185.238.170     192.168.15.8     MQTT      68   \n",
       "\n",
       "     Source Port Message Identifier  Destination Port  \\\n",
       "0          37665                NaN              1883   \n",
       "1          37665                1,2              1883   \n",
       "2           1883                NaN             37665   \n",
       "3           1883                  1             37665   \n",
       "4           1883                  2             37665   \n",
       "..           ...                ...               ...   \n",
       "649         1883                NaN             37665   \n",
       "650        37665                NaN              1883   \n",
       "651         1883                NaN             37665   \n",
       "652        37665                NaN              1883   \n",
       "653         1883                NaN             37665   \n",
       "\n",
       "                                                  Info  \n",
       "0                                      Connect Command  \n",
       "1    Subscribe Request (id=1) [devices-1], Publish ...  \n",
       "2                                          Connect Ack  \n",
       "3                                 Subscribe Ack (id=1)  \n",
       "4      Publish Message [devices-1], Publish Ack (id=2)  \n",
       "..                                                 ...  \n",
       "649                                      Ping Response  \n",
       "650                                       Ping Request  \n",
       "651                                      Ping Response  \n",
       "652                                       Ping Request  \n",
       "653                                      Ping Response  \n",
       "\n",
       "[654 rows x 10 columns]"
      ]
     },
     "execution_count": 36,
     "metadata": {},
     "output_type": "execute_result"
    }
   ],
   "source": [
    "data = pd.read_csv(\"./data.csv\")\n",
    "ports = data[\"Source Port\"].unique()\n",
    "ports = ports[ports !=1883]\n",
    "data"
   ]
  },
  {
   "cell_type": "code",
   "execution_count": 37,
   "id": "68b8dfc9",
   "metadata": {},
   "outputs": [],
   "source": [
    "#  - Separar publicações e confirmação de entrega por dispositivo simulado.\n",
    "devices = {}\n",
    "#  : devices será um dicionario que irá ter uma chave referente ao device e o valor será um dataframe referente aos respectivos devices \n",
    "for port in ports:  \n",
    "  data = data.loc[ ~(data[\"Message Identifier\"] == \"1,2\")]\n",
    "  # data[\"Message Identifier\"].dropna(replace=True)\n",
    "  array_publish = data.loc[data[\"Source Port\"] == port].dropna(subset=['Message Identifier'])\n",
    "  array_publish_ack = data.loc[data[\"Destination Port\"] == port].dropna(subset=['Message Identifier'])\n",
    "  device = {\"publish\":array_publish, \"publish_ack\" : array_publish_ack}\n",
    "  devices[port] = device"
   ]
  },
  {
   "cell_type": "code",
   "execution_count": 38,
   "id": "9cce969d",
   "metadata": {},
   "outputs": [],
   "source": [
    "devicesNew = devices.copy()\n",
    "for index in devices:\n",
    "    if len(devices[index][\"publish\"]) <= 0:\n",
    "        ports = ports.pop(index)\n",
    "\n"
   ]
  },
  {
   "cell_type": "code",
   "execution_count": 39,
   "id": "40fdeb08",
   "metadata": {},
   "outputs": [],
   "source": [
    "# - Criação de um dataframe com informações capturadas acima. \n",
    "data = {}\n",
    "for port in ports:\n",
    "    RTT = pd.DataFrame(columns=[\"Time_publish\", \"Time_ack\"])\n",
    "    for index, row in devices[port][\"publish\"].iterrows():\n",
    "        id = int(row[\"Message Identifier\"])\n",
    "        time_publish = row[\"Time\"]\n",
    "        RTT.loc[id, \"Time_publish\"] = time_publish \n",
    "\n",
    "    for index, row in devices[port][\"publish_ack\"].iterrows():\n",
    "        id = int(row[\"Message Identifier\"])\n",
    "        time_publish = row[\"Time\"]\n",
    "        RTT.loc[id, \"Time_ack\"] = time_publish\n",
    "    RTT.loc[id, \"Time_ack\"] = time_publish\n",
    "    RTT[\"RTT\"]  =(RTT[\"Time_ack\"] - RTT[\"Time_publish\"] )* 1000\n",
    "    data[port] = RTT\n"
   ]
  },
  {
   "attachments": {},
   "cell_type": "markdown",
   "id": "c3c46f2a",
   "metadata": {},
   "source": [
    "## Medidas de Tendência Central Por Device"
   ]
  },
  {
   "cell_type": "code",
   "execution_count": 40,
   "id": "fab98b67",
   "metadata": {},
   "outputs": [
    {
     "name": "stdout",
     "output_type": "stream",
     "text": [
      "(Device-1)Mean Round Trip Time = 159.53959044221088\n",
      "(Device-1)Median Round Trip Time = 159.59497599988026\n",
      "(Device-1)Standard deviation  Round Trip Time = 2.5566631885193867\n",
      "(Device-1)Min Round Trip Time = 150.28822900012528\n",
      "(Device-1)Max Round Trip Time = 177.89774799985025\n",
      "---------------------------------------------------------------\n"
     ]
    }
   ],
   "source": [
    "i=1\n",
    "data_mean = []\n",
    "data_median = []\n",
    "data_std = []\n",
    "data_min = []\n",
    "data_max = []\n",
    "\n",
    "for port in ports:\n",
    "  data_mean.append(data[port][\"RTT\"].mean())\n",
    "  data_median.append(data[port][\"RTT\"].mean())\n",
    "  data_std.append(data[port][\"RTT\"].mean())\n",
    "  data_min.append(data[port][\"RTT\"].mean())\n",
    "  data_max.append(data[port][\"RTT\"].mean())\n",
    "\n",
    "  print(\"(Device-{})Mean Round Trip Time = {}\".format(i ,data[port][\"RTT\"].mean()))\n",
    "  print(\"(Device-{})Median Round Trip Time = {}\".format(i ,data[port][\"RTT\"].median()))\n",
    "  print(\"(Device-{})Standard deviation  Round Trip Time = {}\".format(i ,data[port][\"RTT\"].std()))\n",
    "  print(\"(Device-{})Min Round Trip Time = {}\".format(i ,data[port][\"RTT\"].min()))\n",
    "  print(\"(Device-{})Max Round Trip Time = {}\".format(i ,data[port][\"RTT\"].max()))\n",
    "  print(\"---------------------------------------------------------------\")\n",
    "\n",
    "  i+=1"
   ]
  },
  {
   "attachments": {},
   "cell_type": "markdown",
   "id": "834aa520",
   "metadata": {},
   "source": [
    "# CÁLCULO DO TAMANHO DA AMOSTRA"
   ]
  },
  {
   "cell_type": "code",
   "execution_count": 41,
   "id": "f4d34346",
   "metadata": {},
   "outputs": [],
   "source": [
    "nivel_de_significancia = 0.05"
   ]
  },
  {
   "cell_type": "code",
   "execution_count": 42,
   "id": "7b90fe59",
   "metadata": {},
   "outputs": [
    {
     "data": {
      "text/plain": [
       "0.95"
      ]
     },
     "execution_count": 42,
     "metadata": {},
     "output_type": "execute_result"
    }
   ],
   "source": [
    "nivel_de_confiança = 1 - nivel_de_significancia\n",
    "nivel_de_confiança"
   ]
  },
  {
   "cell_type": "code",
   "execution_count": 43,
   "id": "d1513a87",
   "metadata": {},
   "outputs": [
    {
     "data": {
      "text/plain": [
       "1.959963984540054"
      ]
     },
     "execution_count": 43,
     "metadata": {},
     "output_type": "execute_result"
    }
   ],
   "source": [
    "#Calculando o z com scipy\n",
    "z = scipy.stats.norm.ppf(0.975)\n",
    "z"
   ]
  },
  {
   "attachments": {},
   "cell_type": "markdown",
   "id": "036a09cd",
   "metadata": {},
   "source": [
    "Com nosso z calculado podemos seguir adiante\n",
    "\n",
    "### $$z = 1.959963984540054 $$\n",
    "\n",
    "Abaixo segue algumas formulas que iremos utilizar para calcular o numero de amostra\n",
    "\n"
   ]
  },
  {
   "attachments": {},
   "cell_type": "markdown",
   "id": "e0241ecb",
   "metadata": {},
   "source": [
    "## $$n = \\left(z\\frac{s}{e}\\right)^2$$\n",
    "\n",
    "\n",
    "$$e = \\left(e *  \\right)^2$$\n",
    "\n",
    "\n",
    "\n",
    "Onde:\n",
    "\n",
    "$z$ = variável normal padronizada\n",
    "\n",
    "$s$ = desvio padrão amostral\n",
    "\n",
    "$e$ = erro inferencial\n",
    "\n",
    "\n",
    "### Calculando a desvio padrão $s$"
   ]
  },
  {
   "cell_type": "code",
   "execution_count": 44,
   "id": "72a3dc03",
   "metadata": {},
   "outputs": [
    {
     "data": {
      "text/plain": [
       "2.5566631885193867"
      ]
     },
     "execution_count": 44,
     "metadata": {},
     "output_type": "execute_result"
    }
   ],
   "source": [
    "desvio_padrao_amostral = RTT[\"RTT\"].std()\n",
    "desvio_padrao_amostral"
   ]
  },
  {
   "attachments": {},
   "cell_type": "markdown",
   "id": "32d9b985",
   "metadata": {},
   "source": [
    "### Calculando o Erro"
   ]
  },
  {
   "cell_type": "code",
   "execution_count": 45,
   "id": "11e29c37",
   "metadata": {},
   "outputs": [
    {
     "data": {
      "text/plain": [
       "7.976979522110544"
      ]
     },
     "execution_count": 45,
     "metadata": {},
     "output_type": "execute_result"
    }
   ],
   "source": [
    "media = RTT[\"RTT\"][:-2].mean()\n",
    "e = 0.05 * media\n",
    "e"
   ]
  },
  {
   "attachments": {},
   "cell_type": "markdown",
   "id": "5fbb9cf5",
   "metadata": {},
   "source": [
    "### Calculando o tamanho da nossa amostra"
   ]
  },
  {
   "cell_type": "code",
   "execution_count": 46,
   "id": "daf7f1ab",
   "metadata": {},
   "outputs": [
    {
     "data": {
      "text/plain": [
       "0.39460834431099434"
      ]
     },
     "execution_count": 46,
     "metadata": {},
     "output_type": "execute_result"
    }
   ],
   "source": [
    "n = (z * (desvio_padrao_amostral/e))**2\n",
    "n"
   ]
  },
  {
   "cell_type": "code",
   "execution_count": 47,
   "id": "3f362c56",
   "metadata": {},
   "outputs": [],
   "source": [
    "n = (z * (desvio_padrao_amostral/e))**2"
   ]
  },
  {
   "cell_type": "code",
   "execution_count": 48,
   "id": "77f020ab",
   "metadata": {},
   "outputs": [
    {
     "data": {
      "text/plain": [
       "2.5566631885193867"
      ]
     },
     "execution_count": 48,
     "metadata": {},
     "output_type": "execute_result"
    }
   ],
   "source": [
    "desvio_padrao_amostral "
   ]
  },
  {
   "cell_type": "code",
   "execution_count": null,
   "id": "67238465",
   "metadata": {},
   "outputs": [],
   "source": []
  },
  {
   "cell_type": "code",
   "execution_count": 49,
   "id": "66e79ffa",
   "metadata": {},
   "outputs": [
    {
     "data": {
      "text/html": [
       "<div>\n",
       "<style scoped>\n",
       "    .dataframe tbody tr th:only-of-type {\n",
       "        vertical-align: middle;\n",
       "    }\n",
       "\n",
       "    .dataframe tbody tr th {\n",
       "        vertical-align: top;\n",
       "    }\n",
       "\n",
       "    .dataframe thead th {\n",
       "        text-align: right;\n",
       "    }\n",
       "</style>\n",
       "<table border=\"1\" class=\"dataframe\">\n",
       "  <thead>\n",
       "    <tr style=\"text-align: right;\">\n",
       "      <th></th>\n",
       "      <th>Time_publish</th>\n",
       "      <th>Time_ack</th>\n",
       "      <th>RTT</th>\n",
       "    </tr>\n",
       "  </thead>\n",
       "  <tbody>\n",
       "    <tr>\n",
       "      <th>3</th>\n",
       "      <td>2307.359166</td>\n",
       "      <td>2307.518452</td>\n",
       "      <td>159.286203</td>\n",
       "    </tr>\n",
       "    <tr>\n",
       "      <th>4</th>\n",
       "      <td>2312.077159</td>\n",
       "      <td>2312.238383</td>\n",
       "      <td>161.224181</td>\n",
       "    </tr>\n",
       "    <tr>\n",
       "      <th>5</th>\n",
       "      <td>2317.926067</td>\n",
       "      <td>2318.08651</td>\n",
       "      <td>160.443781</td>\n",
       "    </tr>\n",
       "    <tr>\n",
       "      <th>6</th>\n",
       "      <td>2323.049268</td>\n",
       "      <td>2323.21055</td>\n",
       "      <td>161.281924</td>\n",
       "    </tr>\n",
       "    <tr>\n",
       "      <th>7</th>\n",
       "      <td>2326.961367</td>\n",
       "      <td>2327.122621</td>\n",
       "      <td>161.253469</td>\n",
       "    </tr>\n",
       "    <tr>\n",
       "      <th>...</th>\n",
       "      <td>...</td>\n",
       "      <td>...</td>\n",
       "      <td>...</td>\n",
       "    </tr>\n",
       "    <tr>\n",
       "      <th>199</th>\n",
       "      <td>3047.067165</td>\n",
       "      <td>3047.226274</td>\n",
       "      <td>159.109616</td>\n",
       "    </tr>\n",
       "    <tr>\n",
       "      <th>200</th>\n",
       "      <td>3052.704503</td>\n",
       "      <td>3052.862299</td>\n",
       "      <td>157.796541</td>\n",
       "    </tr>\n",
       "    <tr>\n",
       "      <th>201</th>\n",
       "      <td>3056.850746</td>\n",
       "      <td>3057.009593</td>\n",
       "      <td>158.847402</td>\n",
       "    </tr>\n",
       "    <tr>\n",
       "      <th>1</th>\n",
       "      <td>NaN</td>\n",
       "      <td>2303.570351</td>\n",
       "      <td>NaN</td>\n",
       "    </tr>\n",
       "    <tr>\n",
       "      <th>2</th>\n",
       "      <td>NaN</td>\n",
       "      <td>2303.65038</td>\n",
       "      <td>NaN</td>\n",
       "    </tr>\n",
       "  </tbody>\n",
       "</table>\n",
       "<p>201 rows × 3 columns</p>\n",
       "</div>"
      ],
      "text/plain": [
       "    Time_publish     Time_ack         RTT\n",
       "3    2307.359166  2307.518452  159.286203\n",
       "4    2312.077159  2312.238383  161.224181\n",
       "5    2317.926067   2318.08651  160.443781\n",
       "6    2323.049268   2323.21055  161.281924\n",
       "7    2326.961367  2327.122621  161.253469\n",
       "..           ...          ...         ...\n",
       "199  3047.067165  3047.226274  159.109616\n",
       "200  3052.704503  3052.862299  157.796541\n",
       "201  3056.850746  3057.009593  158.847402\n",
       "1            NaN  2303.570351         NaN\n",
       "2            NaN   2303.65038         NaN\n",
       "\n",
       "[201 rows x 3 columns]"
      ]
     },
     "execution_count": 49,
     "metadata": {},
     "output_type": "execute_result"
    }
   ],
   "source": [
    "RTT"
   ]
  },
  {
   "cell_type": "code",
   "execution_count": 50,
   "id": "2e2f4009",
   "metadata": {},
   "outputs": [
    {
     "data": {
      "text/html": [
       "<div>\n",
       "<style scoped>\n",
       "    .dataframe tbody tr th:only-of-type {\n",
       "        vertical-align: middle;\n",
       "    }\n",
       "\n",
       "    .dataframe tbody tr th {\n",
       "        vertical-align: top;\n",
       "    }\n",
       "\n",
       "    .dataframe thead th {\n",
       "        text-align: right;\n",
       "    }\n",
       "</style>\n",
       "<table border=\"1\" class=\"dataframe\">\n",
       "  <thead>\n",
       "    <tr style=\"text-align: right;\">\n",
       "      <th></th>\n",
       "      <th>Time_publish</th>\n",
       "      <th>Time_ack</th>\n",
       "      <th>RTT</th>\n",
       "    </tr>\n",
       "  </thead>\n",
       "  <tbody>\n",
       "    <tr>\n",
       "      <th>3</th>\n",
       "      <td>2307.359166</td>\n",
       "      <td>2307.518452</td>\n",
       "      <td>159.286203</td>\n",
       "    </tr>\n",
       "    <tr>\n",
       "      <th>4</th>\n",
       "      <td>2312.077159</td>\n",
       "      <td>2312.238383</td>\n",
       "      <td>161.224181</td>\n",
       "    </tr>\n",
       "    <tr>\n",
       "      <th>5</th>\n",
       "      <td>2317.926067</td>\n",
       "      <td>2318.08651</td>\n",
       "      <td>160.443781</td>\n",
       "    </tr>\n",
       "    <tr>\n",
       "      <th>6</th>\n",
       "      <td>2323.049268</td>\n",
       "      <td>2323.21055</td>\n",
       "      <td>161.281924</td>\n",
       "    </tr>\n",
       "    <tr>\n",
       "      <th>7</th>\n",
       "      <td>2326.961367</td>\n",
       "      <td>2327.122621</td>\n",
       "      <td>161.253469</td>\n",
       "    </tr>\n",
       "    <tr>\n",
       "      <th>...</th>\n",
       "      <td>...</td>\n",
       "      <td>...</td>\n",
       "      <td>...</td>\n",
       "    </tr>\n",
       "    <tr>\n",
       "      <th>197</th>\n",
       "      <td>3040.939875</td>\n",
       "      <td>3041.100178</td>\n",
       "      <td>160.302985</td>\n",
       "    </tr>\n",
       "    <tr>\n",
       "      <th>198</th>\n",
       "      <td>3042.448657</td>\n",
       "      <td>3042.60658</td>\n",
       "      <td>157.922825</td>\n",
       "    </tr>\n",
       "    <tr>\n",
       "      <th>199</th>\n",
       "      <td>3047.067165</td>\n",
       "      <td>3047.226274</td>\n",
       "      <td>159.109616</td>\n",
       "    </tr>\n",
       "    <tr>\n",
       "      <th>200</th>\n",
       "      <td>3052.704503</td>\n",
       "      <td>3052.862299</td>\n",
       "      <td>157.796541</td>\n",
       "    </tr>\n",
       "    <tr>\n",
       "      <th>201</th>\n",
       "      <td>3056.850746</td>\n",
       "      <td>3057.009593</td>\n",
       "      <td>158.847402</td>\n",
       "    </tr>\n",
       "  </tbody>\n",
       "</table>\n",
       "<p>199 rows × 3 columns</p>\n",
       "</div>"
      ],
      "text/plain": [
       "    Time_publish     Time_ack         RTT\n",
       "3    2307.359166  2307.518452  159.286203\n",
       "4    2312.077159  2312.238383  161.224181\n",
       "5    2317.926067   2318.08651  160.443781\n",
       "6    2323.049268   2323.21055  161.281924\n",
       "7    2326.961367  2327.122621  161.253469\n",
       "..           ...          ...         ...\n",
       "197  3040.939875  3041.100178  160.302985\n",
       "198  3042.448657   3042.60658  157.922825\n",
       "199  3047.067165  3047.226274  159.109616\n",
       "200  3052.704503  3052.862299  157.796541\n",
       "201  3056.850746  3057.009593  158.847402\n",
       "\n",
       "[199 rows x 3 columns]"
      ]
     },
     "execution_count": 50,
     "metadata": {},
     "output_type": "execute_result"
    }
   ],
   "source": [
    "data[37665][:-2]"
   ]
  },
  {
   "cell_type": "code",
   "execution_count": 51,
   "id": "51ba1df8",
   "metadata": {},
   "outputs": [
    {
     "data": {
      "image/png": "[encoded data removed]",
      "text/plain": [
       "<Figure size 720x360 with 1 Axes>"
      ]
     },
     "metadata": {},
     "output_type": "display_data"
    }
   ],
   "source": [
    "import matplotlib \n",
    "i=1\n",
    "fig, ax = plt.subplots(figsize=(10,5),dpi=72)\n",
    "for port in ports:\n",
    "  ax.scatter(data[port][\"RTT\"].index,data[port][\"RTT\"], label='Dispositivo-{}'.format(i))\n",
    "  ax.set_ylabel('Round Trip Time (ms)')\n",
    "  ax.set_xlabel('Quantidade de Publicação')\n",
    "  ax.set_title('Gráfico de dispersão (Round Trip Time)')\n",
    "#   ax.hlines(data[port][\"RTT\"].max(),  xmin=0, xmax=620, colors=\"red\", linestyles=\"dashed\", label=\"Maior Medição\")\n",
    "#   ax.hlines(data[port][\"RTT\"].min(),  xmin=0, xmax=620, colors=\"green\", linestyles=\"dashed\", label=\"Menor Medição\")\n",
    "  ax.legend()\n",
    "  i+=1"
   ]
  }
 ],
 "metadata": {
  "kernelspec": {
   "display_name": "Python 3 (ipykernel)",
   "language": "python",
   "name": "python3"
  },
  "language_info": {
   "codemirror_mode": {
    "name": "ipython",
    "version": 3
   },
   "file_extension": ".py",
   "mimetype": "text/x-python",
   "name": "python",
   "nbconvert_exporter": "python",
   "pygments_lexer": "ipython3",
   "version": "3.10.6"
  }
 },
 "nbformat": 4,
 "nbformat_minor": 5
}
