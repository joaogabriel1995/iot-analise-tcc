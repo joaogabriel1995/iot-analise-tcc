{
 "cells": [
  {
   "cell_type": "code",
   "execution_count": 1,
   "id": "134f65e3",
   "metadata": {},
   "outputs": [],
   "source": [
    "import pandas as pd\n",
    "import re\n",
    "import matplotlib.pyplot as plt\n",
    "import scipy\n",
    "import numpy as np\n",
    "import scipy\n"
   ]
  },
  {
   "cell_type": "code",
   "execution_count": 2,
   "id": "f47c21fe",
   "metadata": {},
   "outputs": [
    {
     "data": {
      "text/html": [
       "<div>\n",
       "<style scoped>\n",
       "    .dataframe tbody tr th:only-of-type {\n",
       "        vertical-align: middle;\n",
       "    }\n",
       "\n",
       "    .dataframe tbody tr th {\n",
       "        vertical-align: top;\n",
       "    }\n",
       "\n",
       "    .dataframe thead th {\n",
       "        text-align: right;\n",
       "    }\n",
       "</style>\n",
       "<table border=\"1\" class=\"dataframe\">\n",
       "  <thead>\n",
       "    <tr style=\"text-align: right;\">\n",
       "      <th></th>\n",
       "      <th>No.</th>\n",
       "      <th>Time</th>\n",
       "      <th>Source</th>\n",
       "      <th>Destination</th>\n",
       "      <th>Protocol</th>\n",
       "      <th>Length</th>\n",
       "      <th>Source Port</th>\n",
       "      <th>Message Identifier</th>\n",
       "      <th>Destination Port</th>\n",
       "      <th>Info</th>\n",
       "    </tr>\n",
       "  </thead>\n",
       "  <tbody>\n",
       "    <tr>\n",
       "      <th>0</th>\n",
       "      <td>1</td>\n",
       "      <td>0.000000</td>\n",
       "      <td>192.168.15.6</td>\n",
       "      <td>45.179.91.66</td>\n",
       "      <td>MQTT</td>\n",
       "      <td>68</td>\n",
       "      <td>34366</td>\n",
       "      <td>NaN</td>\n",
       "      <td>1883</td>\n",
       "      <td>Ping Request</td>\n",
       "    </tr>\n",
       "    <tr>\n",
       "      <th>1</th>\n",
       "      <td>2</td>\n",
       "      <td>0.015587</td>\n",
       "      <td>45.179.91.66</td>\n",
       "      <td>192.168.15.6</td>\n",
       "      <td>MQTT</td>\n",
       "      <td>68</td>\n",
       "      <td>1883</td>\n",
       "      <td>NaN</td>\n",
       "      <td>34366</td>\n",
       "      <td>Ping Response</td>\n",
       "    </tr>\n",
       "    <tr>\n",
       "      <th>2</th>\n",
       "      <td>27</td>\n",
       "      <td>6.268177</td>\n",
       "      <td>192.168.15.6</td>\n",
       "      <td>45.179.91.66</td>\n",
       "      <td>MQTT</td>\n",
       "      <td>89</td>\n",
       "      <td>41067</td>\n",
       "      <td>NaN</td>\n",
       "      <td>1883</td>\n",
       "      <td>Connect Command</td>\n",
       "    </tr>\n",
       "    <tr>\n",
       "      <th>3</th>\n",
       "      <td>29</td>\n",
       "      <td>6.283990</td>\n",
       "      <td>192.168.15.6</td>\n",
       "      <td>45.179.91.66</td>\n",
       "      <td>MQTT</td>\n",
       "      <td>103</td>\n",
       "      <td>41067</td>\n",
       "      <td>1,2</td>\n",
       "      <td>1883</td>\n",
       "      <td>Subscribe Request (id=1) [devices-1], Publish ...</td>\n",
       "    </tr>\n",
       "    <tr>\n",
       "      <th>4</th>\n",
       "      <td>30</td>\n",
       "      <td>6.284439</td>\n",
       "      <td>45.179.91.66</td>\n",
       "      <td>192.168.15.6</td>\n",
       "      <td>MQTT</td>\n",
       "      <td>70</td>\n",
       "      <td>1883</td>\n",
       "      <td>NaN</td>\n",
       "      <td>41067</td>\n",
       "      <td>Connect Ack</td>\n",
       "    </tr>\n",
       "    <tr>\n",
       "      <th>...</th>\n",
       "      <td>...</td>\n",
       "      <td>...</td>\n",
       "      <td>...</td>\n",
       "      <td>...</td>\n",
       "      <td>...</td>\n",
       "      <td>...</td>\n",
       "      <td>...</td>\n",
       "      <td>...</td>\n",
       "      <td>...</td>\n",
       "      <td>...</td>\n",
       "    </tr>\n",
       "    <tr>\n",
       "      <th>649</th>\n",
       "      <td>6100</td>\n",
       "      <td>720.040427</td>\n",
       "      <td>45.179.91.66</td>\n",
       "      <td>192.168.15.6</td>\n",
       "      <td>MQTT</td>\n",
       "      <td>68</td>\n",
       "      <td>1883</td>\n",
       "      <td>NaN</td>\n",
       "      <td>34366</td>\n",
       "      <td>Ping Response</td>\n",
       "    </tr>\n",
       "    <tr>\n",
       "      <th>650</th>\n",
       "      <td>6201</td>\n",
       "      <td>732.726933</td>\n",
       "      <td>192.168.15.6</td>\n",
       "      <td>45.179.91.66</td>\n",
       "      <td>MQTT</td>\n",
       "      <td>68</td>\n",
       "      <td>41067</td>\n",
       "      <td>NaN</td>\n",
       "      <td>1883</td>\n",
       "      <td>Ping Request</td>\n",
       "    </tr>\n",
       "    <tr>\n",
       "      <th>651</th>\n",
       "      <td>6202</td>\n",
       "      <td>732.744751</td>\n",
       "      <td>45.179.91.66</td>\n",
       "      <td>192.168.15.6</td>\n",
       "      <td>MQTT</td>\n",
       "      <td>68</td>\n",
       "      <td>1883</td>\n",
       "      <td>NaN</td>\n",
       "      <td>41067</td>\n",
       "      <td>Ping Response</td>\n",
       "    </tr>\n",
       "    <tr>\n",
       "      <th>652</th>\n",
       "      <td>6479</td>\n",
       "      <td>780.027078</td>\n",
       "      <td>192.168.15.6</td>\n",
       "      <td>45.179.91.66</td>\n",
       "      <td>MQTT</td>\n",
       "      <td>68</td>\n",
       "      <td>34366</td>\n",
       "      <td>NaN</td>\n",
       "      <td>1883</td>\n",
       "      <td>Ping Request</td>\n",
       "    </tr>\n",
       "    <tr>\n",
       "      <th>653</th>\n",
       "      <td>6480</td>\n",
       "      <td>780.044400</td>\n",
       "      <td>45.179.91.66</td>\n",
       "      <td>192.168.15.6</td>\n",
       "      <td>MQTT</td>\n",
       "      <td>68</td>\n",
       "      <td>1883</td>\n",
       "      <td>NaN</td>\n",
       "      <td>34366</td>\n",
       "      <td>Ping Response</td>\n",
       "    </tr>\n",
       "  </tbody>\n",
       "</table>\n",
       "<p>654 rows × 10 columns</p>\n",
       "</div>"
      ],
      "text/plain": [
       "      No.        Time        Source   Destination Protocol  Length   \n",
       "0       1    0.000000  192.168.15.6  45.179.91.66     MQTT      68  \\\n",
       "1       2    0.015587  45.179.91.66  192.168.15.6     MQTT      68   \n",
       "2      27    6.268177  192.168.15.6  45.179.91.66     MQTT      89   \n",
       "3      29    6.283990  192.168.15.6  45.179.91.66     MQTT     103   \n",
       "4      30    6.284439  45.179.91.66  192.168.15.6     MQTT      70   \n",
       "..    ...         ...           ...           ...      ...     ...   \n",
       "649  6100  720.040427  45.179.91.66  192.168.15.6     MQTT      68   \n",
       "650  6201  732.726933  192.168.15.6  45.179.91.66     MQTT      68   \n",
       "651  6202  732.744751  45.179.91.66  192.168.15.6     MQTT      68   \n",
       "652  6479  780.027078  192.168.15.6  45.179.91.66     MQTT      68   \n",
       "653  6480  780.044400  45.179.91.66  192.168.15.6     MQTT      68   \n",
       "\n",
       "     Source Port Message Identifier  Destination Port   \n",
       "0          34366                NaN              1883  \\\n",
       "1           1883                NaN             34366   \n",
       "2          41067                NaN              1883   \n",
       "3          41067                1,2              1883   \n",
       "4           1883                NaN             41067   \n",
       "..           ...                ...               ...   \n",
       "649         1883                NaN             34366   \n",
       "650        41067                NaN              1883   \n",
       "651         1883                NaN             41067   \n",
       "652        34366                NaN              1883   \n",
       "653         1883                NaN             34366   \n",
       "\n",
       "                                                  Info  \n",
       "0                                         Ping Request  \n",
       "1                                        Ping Response  \n",
       "2                                      Connect Command  \n",
       "3    Subscribe Request (id=1) [devices-1], Publish ...  \n",
       "4                                          Connect Ack  \n",
       "..                                                 ...  \n",
       "649                                      Ping Response  \n",
       "650                                       Ping Request  \n",
       "651                                      Ping Response  \n",
       "652                                       Ping Request  \n",
       "653                                      Ping Response  \n",
       "\n",
       "[654 rows x 10 columns]"
      ]
     },
     "execution_count": 2,
     "metadata": {},
     "output_type": "execute_result"
    }
   ],
   "source": [
    "data = pd.read_csv(\"./data.csv\")\n",
    "ports = data[\"Source Port\"].unique()\n",
    "ports = ports[ports !=1883]\n",
    "ports = ports[ports != 34366]\n",
    "\n",
    "data\n"
   ]
  },
  {
   "cell_type": "code",
   "execution_count": 3,
   "id": "68b8dfc9",
   "metadata": {},
   "outputs": [],
   "source": [
    "devices = {}\n",
    "#  : devices será um dicionario que irá ter uma chave referente ao device e o valor será um dataframe referente aos respectivos devices \n",
    "for port in ports: \n",
    "  data = data.loc[ ~(data[\"Message Identifier\"] == \"1,2\")]\n",
    "  array_publish = data.loc[data[\"Source Port\"] == port].dropna(subset=['Message Identifier'])\n",
    "  array_publish_ack = data.loc[data[\"Destination Port\"] == port].dropna(subset=['Message Identifier'])\n",
    "  device = {\"publish\":array_publish, \"publish_ack\" : array_publish_ack}\n",
    "  devices[port] = device"
   ]
  },
  {
   "cell_type": "code",
   "execution_count": 4,
   "id": "40fdeb08",
   "metadata": {},
   "outputs": [
    {
     "data": {
      "text/plain": [
       "2.3730580827711103"
      ]
     },
     "execution_count": 4,
     "metadata": {},
     "output_type": "execute_result"
    }
   ],
   "source": [
    "data = {}\n",
    "df_concatenado = pd.DataFrame()\n",
    "for port in ports:\n",
    "    RTT = pd.DataFrame(columns=[\"Time_publish\", \"Time_ack\"])\n",
    "    for index, row in devices[port][\"publish\"].iterrows():\n",
    "        id = int(row[\"Message Identifier\"])\n",
    "        time_publish = row[\"Time\"]\n",
    "        RTT.loc[id, \"Size_Payload\"] = 246 \n",
    "\n",
    "        RTT.loc[id, \"Time_publish\"] = time_publish \n",
    "\n",
    "    for index, row in devices[port][\"publish_ack\"].iterrows():\n",
    "        id = int(row[\"Message Identifier\"])\n",
    "        time_publish = row[\"Time\"]\n",
    "        RTT.loc[id, \"Time_ack\"] = time_publish\n",
    "    RTT.loc[id, \"Time_ack\"] = time_publish\n",
    "    RTT[\"RTT\"]  =(RTT[\"Time_ack\"] - RTT[\"Time_publish\"] )* 1000\n",
    "    data[port] = RTT\n",
    "    df_concatenado = pd.concat([data[port], df_concatenado])\n",
    "df_concatenado[\"RTT\"].std()\n",
    "media = df_concatenado[\"RTT\"].mean()\n",
    "e = 0.05 * media\n",
    "n = (1.96 * (df_concatenado[\"RTT\"].std()/e))**2\n",
    "n\n"
   ]
  },
  {
   "cell_type": "code",
   "execution_count": 5,
   "id": "c191bdf9",
   "metadata": {},
   "outputs": [
    {
     "data": {
      "text/plain": [
       "2.3730580827711103"
      ]
     },
     "execution_count": 5,
     "metadata": {},
     "output_type": "execute_result"
    }
   ],
   "source": [
    "\n",
    "media = df_concatenado[\"RTT\"].mean()\n",
    "e = 0.05 * media\n",
    "n = (1.96 * (df_concatenado[\"RTT\"].std()/e))**2\n",
    "n"
   ]
  },
  {
   "attachments": {},
   "cell_type": "markdown",
   "id": "4086cd3f",
   "metadata": {},
   "source": [
    "# CÁLCULO DO TAMANHO DA AMOSTRA\n",
    "***\n",
    "## Variáveis quantitativas e população infinita\n",
    "***\n",
    "## Nívéis de confiança e significância \n",
    "O **nível de confiança** ($1 - \\alpha$) representa a probabilidade de acerto da estimativa. De forma complementar o **nível de significância** ($\\alpha$) expressa a probabilidade de erro da estimativa.\n",
    "\n",
    "O **nível de confiança** representa o grau de confiabilidade do resultado da estimativa estar dentro de determinado intervalo. Quando fixamos em uma pesquisa um **nível de confiança** de 95%, por exemplo, estamos assumindo que existe uma probabilidade de 95% dos resultados da pesquisa representarem bem a realidade, ou seja, estarem corretos.\n",
    "\n",
    "O **nível de confiança** de uma estimativa pode ser obtido a partir da área sob a curva normal como ilustrado na figura abaixo.\n",
    "\n",
    "\n",
    "![alt text](https://caelum-online-public.s3.amazonaws.com/1178-estatistica-parte2/01/img007.png)\n",
    "\n",
    "Em nosso trabalho iremos utilizar um nivel de confiança de 95%, logo abaixo iremos calcular o Z.\n",
    "\n",
    "Esta variável $Z$ representa o afastamento em desvios padrões de um valor da variável original em relação à média."
   ]
  },
  {
   "cell_type": "code",
   "execution_count": 6,
   "id": "1a419631",
   "metadata": {},
   "outputs": [],
   "source": [
    "#variavel nível de significancia\n",
    "nivel_de_significancia = 0.05"
   ]
  },
  {
   "cell_type": "code",
   "execution_count": 7,
   "id": "e35183e9",
   "metadata": {},
   "outputs": [
    {
     "data": {
      "text/plain": [
       "0.95"
      ]
     },
     "execution_count": 7,
     "metadata": {},
     "output_type": "execute_result"
    }
   ],
   "source": [
    "#Calculando nivel de confiança\n",
    "nivel_de_confiança = 1 - nivel_de_significancia\n",
    "nivel_de_confiança"
   ]
  },
  {
   "cell_type": "code",
   "execution_count": 8,
   "id": "3131a7c4",
   "metadata": {},
   "outputs": [
    {
     "data": {
      "text/plain": [
       "1.959963984540054"
      ]
     },
     "execution_count": 8,
     "metadata": {},
     "output_type": "execute_result"
    }
   ],
   "source": [
    "#Calculando o z com scipy\n",
    "z = scipy.stats.norm.ppf(0.975)\n",
    "z"
   ]
  },
  {
   "attachments": {},
   "cell_type": "markdown",
   "id": "df9fb869",
   "metadata": {},
   "source": [
    "Com nosso z calculado podemos seguir adiante\n",
    "\n",
    "### $$z = 1.959963984540054 $$\n",
    "\n",
    "Abaixo segue algumas formulas que iremos utilizar para calcular o numero de amostra\n",
    "\n",
    "## $$n = \\left(z\\frac{s}{e}\\right)^2$$\n",
    "\n",
    "\n",
    "\n",
    "\n",
    "\n",
    "Onde:\n",
    "\n",
    "$z$ = variável normal padronizada\n",
    "\n",
    "$s$ = desvio padrão amostral\n",
    "\n",
    "$e$ = erro inferencial\n",
    "\n",
    "\n",
    "### Calculando a desvio padrão $s$"
   ]
  },
  {
   "cell_type": "code",
   "execution_count": 9,
   "id": "d5cbf577",
   "metadata": {},
   "outputs": [
    {
     "data": {
      "text/plain": [
       "1.2527895788052383"
      ]
     },
     "execution_count": 9,
     "metadata": {},
     "output_type": "execute_result"
    }
   ],
   "source": [
    "# Calculando o desvio padrão do nosso único dispositivo\n",
    "desvio_padrao_amostral = df_concatenado[\"RTT\"].std()\n",
    "desvio_padrao_amostral"
   ]
  },
  {
   "cell_type": "code",
   "execution_count": 10,
   "id": "72031ce9",
   "metadata": {},
   "outputs": [
    {
     "data": {
      "text/plain": [
       "1.5939695452260132"
      ]
     },
     "execution_count": 10,
     "metadata": {},
     "output_type": "execute_result"
    }
   ],
   "source": [
    "#Calculando o erro da nossa amostra equivalente a 5%\n",
    "\n",
    "media = df_concatenado[\"RTT\"].mean()\n",
    "e = 0.05 * media\n",
    "e"
   ]
  },
  {
   "attachments": {},
   "cell_type": "markdown",
   "id": "087d3380",
   "metadata": {},
   "source": [
    "### Calculando o tamanho da nossa amostra"
   ]
  },
  {
   "attachments": {},
   "cell_type": "markdown",
   "id": "2687944e",
   "metadata": {},
   "source": [
    "# Substituindo todos os valores na formula para calcular o numero de amostra."
   ]
  },
  {
   "cell_type": "code",
   "execution_count": 11,
   "id": "85813525",
   "metadata": {},
   "outputs": [
    {
     "data": {
      "text/plain": [
       "2.3729708725740766"
      ]
     },
     "execution_count": 11,
     "metadata": {},
     "output_type": "execute_result"
    }
   ],
   "source": [
    "n = (z * (desvio_padrao_amostral/e))**2\n",
    "n"
   ]
  }
 ],
 "metadata": {
  "kernelspec": {
   "display_name": "Python 3 (ipykernel)",
   "language": "python",
   "name": "python3"
  },
  "language_info": {
   "codemirror_mode": {
    "name": "ipython",
    "version": 3
   },
   "file_extension": ".py",
   "mimetype": "text/x-python",
   "name": "python",
   "nbconvert_exporter": "python",
   "pygments_lexer": "ipython3",
   "version": "3.10.6"
  }
 },
 "nbformat": 4,
 "nbformat_minor": 5
}
