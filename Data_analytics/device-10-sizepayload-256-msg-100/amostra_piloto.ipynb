{
 "cells": [
  {
   "cell_type": "code",
   "execution_count": 12,
   "id": "134f65e3",
   "metadata": {},
   "outputs": [],
   "source": [
    "import pandas as pd\n",
    "import re\n",
    "import matplotlib.pyplot as plt\n",
    "import scipy\n",
    "import numpy as np\n",
    "import scipy\n"
   ]
  },
  {
   "cell_type": "code",
   "execution_count": 13,
   "id": "f47c21fe",
   "metadata": {},
   "outputs": [
    {
     "data": {
      "text/html": [
       "<div>\n",
       "<style scoped>\n",
       "    .dataframe tbody tr th:only-of-type {\n",
       "        vertical-align: middle;\n",
       "    }\n",
       "\n",
       "    .dataframe tbody tr th {\n",
       "        vertical-align: top;\n",
       "    }\n",
       "\n",
       "    .dataframe thead th {\n",
       "        text-align: right;\n",
       "    }\n",
       "</style>\n",
       "<table border=\"1\" class=\"dataframe\">\n",
       "  <thead>\n",
       "    <tr style=\"text-align: right;\">\n",
       "      <th></th>\n",
       "      <th>No.</th>\n",
       "      <th>Time</th>\n",
       "      <th>Source</th>\n",
       "      <th>Destination</th>\n",
       "      <th>Protocol</th>\n",
       "      <th>Length</th>\n",
       "      <th>Source Port</th>\n",
       "      <th>Message Identifier</th>\n",
       "      <th>Destination Port</th>\n",
       "      <th>Info</th>\n",
       "    </tr>\n",
       "  </thead>\n",
       "  <tbody>\n",
       "    <tr>\n",
       "      <th>0</th>\n",
       "      <td>376</td>\n",
       "      <td>43.636973</td>\n",
       "      <td>192.168.15.6</td>\n",
       "      <td>45.179.91.66</td>\n",
       "      <td>MQTT</td>\n",
       "      <td>89</td>\n",
       "      <td>52623</td>\n",
       "      <td>NaN</td>\n",
       "      <td>1883</td>\n",
       "      <td>Connect Command</td>\n",
       "    </tr>\n",
       "    <tr>\n",
       "      <th>1</th>\n",
       "      <td>378</td>\n",
       "      <td>43.652859</td>\n",
       "      <td>192.168.15.6</td>\n",
       "      <td>45.179.91.66</td>\n",
       "      <td>MQTT</td>\n",
       "      <td>354</td>\n",
       "      <td>52623</td>\n",
       "      <td>1,2</td>\n",
       "      <td>1883</td>\n",
       "      <td>Subscribe Request (id=1) [devices-1], Publish ...</td>\n",
       "    </tr>\n",
       "    <tr>\n",
       "      <th>2</th>\n",
       "      <td>379</td>\n",
       "      <td>43.652835</td>\n",
       "      <td>45.179.91.66</td>\n",
       "      <td>192.168.15.6</td>\n",
       "      <td>MQTT</td>\n",
       "      <td>70</td>\n",
       "      <td>1883</td>\n",
       "      <td>NaN</td>\n",
       "      <td>52623</td>\n",
       "      <td>Connect Ack</td>\n",
       "    </tr>\n",
       "    <tr>\n",
       "      <th>3</th>\n",
       "      <td>381</td>\n",
       "      <td>43.668186</td>\n",
       "      <td>45.179.91.66</td>\n",
       "      <td>192.168.15.6</td>\n",
       "      <td>MQTT</td>\n",
       "      <td>71</td>\n",
       "      <td>1883</td>\n",
       "      <td>1</td>\n",
       "      <td>52623</td>\n",
       "      <td>Subscribe Ack (id=1)</td>\n",
       "    </tr>\n",
       "    <tr>\n",
       "      <th>4</th>\n",
       "      <td>383</td>\n",
       "      <td>43.684124</td>\n",
       "      <td>45.179.91.66</td>\n",
       "      <td>192.168.15.6</td>\n",
       "      <td>MQTT</td>\n",
       "      <td>340</td>\n",
       "      <td>1883</td>\n",
       "      <td>2</td>\n",
       "      <td>52623</td>\n",
       "      <td>Publish Message [devices-1], Publish Ack (id=2)</td>\n",
       "    </tr>\n",
       "    <tr>\n",
       "      <th>...</th>\n",
       "      <td>...</td>\n",
       "      <td>...</td>\n",
       "      <td>...</td>\n",
       "      <td>...</td>\n",
       "      <td>...</td>\n",
       "      <td>...</td>\n",
       "      <td>...</td>\n",
       "      <td>...</td>\n",
       "      <td>...</td>\n",
       "      <td>...</td>\n",
       "    </tr>\n",
       "    <tr>\n",
       "      <th>3162</th>\n",
       "      <td>41651</td>\n",
       "      <td>832.615490</td>\n",
       "      <td>45.179.91.66</td>\n",
       "      <td>192.168.15.6</td>\n",
       "      <td>MQTT</td>\n",
       "      <td>68</td>\n",
       "      <td>1883</td>\n",
       "      <td>NaN</td>\n",
       "      <td>60325</td>\n",
       "      <td>Ping Response</td>\n",
       "    </tr>\n",
       "    <tr>\n",
       "      <th>3163</th>\n",
       "      <td>41653</td>\n",
       "      <td>832.719069</td>\n",
       "      <td>192.168.15.6</td>\n",
       "      <td>45.179.91.66</td>\n",
       "      <td>MQTT</td>\n",
       "      <td>68</td>\n",
       "      <td>39517</td>\n",
       "      <td>NaN</td>\n",
       "      <td>1883</td>\n",
       "      <td>Ping Request</td>\n",
       "    </tr>\n",
       "    <tr>\n",
       "      <th>3164</th>\n",
       "      <td>41654</td>\n",
       "      <td>832.736009</td>\n",
       "      <td>45.179.91.66</td>\n",
       "      <td>192.168.15.6</td>\n",
       "      <td>MQTT</td>\n",
       "      <td>68</td>\n",
       "      <td>1883</td>\n",
       "      <td>NaN</td>\n",
       "      <td>39517</td>\n",
       "      <td>Ping Response</td>\n",
       "    </tr>\n",
       "    <tr>\n",
       "      <th>3165</th>\n",
       "      <td>41661</td>\n",
       "      <td>833.293009</td>\n",
       "      <td>192.168.15.6</td>\n",
       "      <td>45.179.91.66</td>\n",
       "      <td>MQTT</td>\n",
       "      <td>68</td>\n",
       "      <td>48589</td>\n",
       "      <td>NaN</td>\n",
       "      <td>1883</td>\n",
       "      <td>Ping Request</td>\n",
       "    </tr>\n",
       "    <tr>\n",
       "      <th>3166</th>\n",
       "      <td>41662</td>\n",
       "      <td>833.311955</td>\n",
       "      <td>45.179.91.66</td>\n",
       "      <td>192.168.15.6</td>\n",
       "      <td>MQTT</td>\n",
       "      <td>68</td>\n",
       "      <td>1883</td>\n",
       "      <td>NaN</td>\n",
       "      <td>48589</td>\n",
       "      <td>Ping Response</td>\n",
       "    </tr>\n",
       "  </tbody>\n",
       "</table>\n",
       "<p>3167 rows × 10 columns</p>\n",
       "</div>"
      ],
      "text/plain": [
       "        No.        Time        Source   Destination Protocol  Length   \n",
       "0       376   43.636973  192.168.15.6  45.179.91.66     MQTT      89  \\\n",
       "1       378   43.652859  192.168.15.6  45.179.91.66     MQTT     354   \n",
       "2       379   43.652835  45.179.91.66  192.168.15.6     MQTT      70   \n",
       "3       381   43.668186  45.179.91.66  192.168.15.6     MQTT      71   \n",
       "4       383   43.684124  45.179.91.66  192.168.15.6     MQTT     340   \n",
       "...     ...         ...           ...           ...      ...     ...   \n",
       "3162  41651  832.615490  45.179.91.66  192.168.15.6     MQTT      68   \n",
       "3163  41653  832.719069  192.168.15.6  45.179.91.66     MQTT      68   \n",
       "3164  41654  832.736009  45.179.91.66  192.168.15.6     MQTT      68   \n",
       "3165  41661  833.293009  192.168.15.6  45.179.91.66     MQTT      68   \n",
       "3166  41662  833.311955  45.179.91.66  192.168.15.6     MQTT      68   \n",
       "\n",
       "      Source Port Message Identifier  Destination Port   \n",
       "0           52623                NaN              1883  \\\n",
       "1           52623                1,2              1883   \n",
       "2            1883                NaN             52623   \n",
       "3            1883                  1             52623   \n",
       "4            1883                  2             52623   \n",
       "...           ...                ...               ...   \n",
       "3162         1883                NaN             60325   \n",
       "3163        39517                NaN              1883   \n",
       "3164         1883                NaN             39517   \n",
       "3165        48589                NaN              1883   \n",
       "3166         1883                NaN             48589   \n",
       "\n",
       "                                                   Info  \n",
       "0                                       Connect Command  \n",
       "1     Subscribe Request (id=1) [devices-1], Publish ...  \n",
       "2                                           Connect Ack  \n",
       "3                                  Subscribe Ack (id=1)  \n",
       "4       Publish Message [devices-1], Publish Ack (id=2)  \n",
       "...                                                 ...  \n",
       "3162                                      Ping Response  \n",
       "3163                                       Ping Request  \n",
       "3164                                      Ping Response  \n",
       "3165                                       Ping Request  \n",
       "3166                                      Ping Response  \n",
       "\n",
       "[3167 rows x 10 columns]"
      ]
     },
     "execution_count": 13,
     "metadata": {},
     "output_type": "execute_result"
    }
   ],
   "source": [
    "data = pd.read_csv(\"./data.csv\")\n",
    "ports = data[\"Source Port\"].unique()\n",
    "ports = ports[ports !=1883]\n",
    "ports = ports[ports != 34366]\n",
    "\n",
    "data\n"
   ]
  },
  {
   "cell_type": "code",
   "execution_count": 14,
   "id": "68b8dfc9",
   "metadata": {},
   "outputs": [],
   "source": [
    "devices = {}\n",
    "#  : devices será um dicionario que irá ter uma chave referente ao device e o valor será um dataframe referente aos respectivos devices \n",
    "for port in ports: \n",
    "  data = data.loc[ ~(data[\"Message Identifier\"] == \"1,2\")]\n",
    "  array_publish = data.loc[data[\"Source Port\"] == port].dropna(subset=['Message Identifier'])\n",
    "  array_publish_ack = data.loc[data[\"Destination Port\"] == port].dropna(subset=['Message Identifier'])\n",
    "  device = {\"publish\":array_publish, \"publish_ack\" : array_publish_ack}\n",
    "  devices[port] = device"
   ]
  },
  {
   "cell_type": "code",
   "execution_count": 15,
   "id": "40fdeb08",
   "metadata": {},
   "outputs": [
    {
     "data": {
      "text/plain": [
       "511.03394365609876"
      ]
     },
     "execution_count": 15,
     "metadata": {},
     "output_type": "execute_result"
    }
   ],
   "source": [
    "data = {}\n",
    "df_concatenado = pd.DataFrame()\n",
    "for port in ports:\n",
    "    RTT = pd.DataFrame(columns=[\"Time_publish\", \"Time_ack\"])\n",
    "    for index, row in devices[port][\"publish\"].iterrows():\n",
    "        id = int(row[\"Message Identifier\"])\n",
    "        time_publish = row[\"Time\"]\n",
    "        RTT.loc[id, \"Size_Payload\"] = 246 \n",
    "\n",
    "        RTT.loc[id, \"Time_publish\"] = time_publish \n",
    "\n",
    "    for index, row in devices[port][\"publish_ack\"].iterrows():\n",
    "        id = int(row[\"Message Identifier\"])\n",
    "        time_publish = row[\"Time\"]\n",
    "        RTT.loc[id, \"Time_ack\"] = time_publish\n",
    "    RTT.loc[id, \"Time_ack\"] = time_publish\n",
    "    RTT[\"RTT\"]  =(RTT[\"Time_ack\"] - RTT[\"Time_publish\"] )* 1000\n",
    "    data[port] = RTT\n",
    "    df_concatenado = pd.concat([data[port], df_concatenado])\n",
    "df_concatenado[\"RTT\"].std()\n",
    "media = df_concatenado[\"RTT\"].mean()\n",
    "e = 0.05 * media\n",
    "n = (1.96 * (df_concatenado[\"RTT\"].std()/e))**2\n",
    "n\n"
   ]
  },
  {
   "cell_type": "code",
   "execution_count": 16,
   "id": "c191bdf9",
   "metadata": {},
   "outputs": [
    {
     "data": {
      "text/plain": [
       "511.03394365609876"
      ]
     },
     "execution_count": 16,
     "metadata": {},
     "output_type": "execute_result"
    }
   ],
   "source": [
    "\n",
    "media = df_concatenado[\"RTT\"].mean()\n",
    "e = 0.05 * media\n",
    "n = (1.96 * (df_concatenado[\"RTT\"].std()/e))**2\n",
    "n"
   ]
  },
  {
   "attachments": {},
   "cell_type": "markdown",
   "id": "4086cd3f",
   "metadata": {},
   "source": [
    "# CÁLCULO DO TAMANHO DA AMOSTRA\n",
    "***\n",
    "## Variáveis quantitativas e população infinita\n",
    "***\n",
    "## Nívéis de confiança e significância \n",
    "O **nível de confiança** ($1 - \\alpha$) representa a probabilidade de acerto da estimativa. De forma complementar o **nível de significância** ($\\alpha$) expressa a probabilidade de erro da estimativa.\n",
    "\n",
    "O **nível de confiança** representa o grau de confiabilidade do resultado da estimativa estar dentro de determinado intervalo. Quando fixamos em uma pesquisa um **nível de confiança** de 95%, por exemplo, estamos assumindo que existe uma probabilidade de 95% dos resultados da pesquisa representarem bem a realidade, ou seja, estarem corretos.\n",
    "\n",
    "O **nível de confiança** de uma estimativa pode ser obtido a partir da área sob a curva normal como ilustrado na figura abaixo.\n",
    "\n",
    "\n",
    "![alt text](https://caelum-online-public.s3.amazonaws.com/1178-estatistica-parte2/01/img007.png)\n",
    "\n",
    "Em nosso trabalho iremos utilizar um nivel de confiança de 95%, logo abaixo iremos calcular o Z.\n",
    "\n",
    "Esta variável $Z$ representa o afastamento em desvios padrões de um valor da variável original em relação à média."
   ]
  },
  {
   "cell_type": "code",
   "execution_count": 17,
   "id": "1a419631",
   "metadata": {},
   "outputs": [],
   "source": [
    "#variavel nível de significancia\n",
    "nivel_de_significancia = 0.05"
   ]
  },
  {
   "cell_type": "code",
   "execution_count": 18,
   "id": "e35183e9",
   "metadata": {},
   "outputs": [
    {
     "data": {
      "text/plain": [
       "0.95"
      ]
     },
     "execution_count": 18,
     "metadata": {},
     "output_type": "execute_result"
    }
   ],
   "source": [
    "#Calculando nivel de confiança\n",
    "nivel_de_confiança = 1 - nivel_de_significancia\n",
    "nivel_de_confiança"
   ]
  },
  {
   "cell_type": "code",
   "execution_count": 19,
   "id": "3131a7c4",
   "metadata": {},
   "outputs": [
    {
     "data": {
      "text/plain": [
       "1.959963984540054"
      ]
     },
     "execution_count": 19,
     "metadata": {},
     "output_type": "execute_result"
    }
   ],
   "source": [
    "#Calculando o z com scipy\n",
    "z = scipy.stats.norm.ppf(0.975)\n",
    "z"
   ]
  },
  {
   "attachments": {},
   "cell_type": "markdown",
   "id": "df9fb869",
   "metadata": {},
   "source": [
    "Com nosso z calculado podemos seguir adiante\n",
    "\n",
    "### $$z = 1.959963984540054 $$\n",
    "\n",
    "Abaixo segue algumas formulas que iremos utilizar para calcular o numero de amostra\n",
    "\n",
    "## $$n = \\left(z\\frac{s}{e}\\right)^2$$\n",
    "\n",
    "\n",
    "\n",
    "\n",
    "\n",
    "Onde:\n",
    "\n",
    "$z$ = variável normal padronizada\n",
    "\n",
    "$s$ = desvio padrão amostral\n",
    "\n",
    "$e$ = erro inferencial\n",
    "\n",
    "\n",
    "### Calculando a desvio padrão $s$"
   ]
  },
  {
   "cell_type": "code",
   "execution_count": 20,
   "id": "d5cbf577",
   "metadata": {},
   "outputs": [
    {
     "data": {
      "text/plain": [
       "19.878979734084925"
      ]
     },
     "execution_count": 20,
     "metadata": {},
     "output_type": "execute_result"
    }
   ],
   "source": [
    "# Calculando o desvio padrão do nosso único dispositivo\n",
    "desvio_padrao_amostral = df_concatenado[\"RTT\"].std()\n",
    "desvio_padrao_amostral"
   ]
  },
  {
   "cell_type": "code",
   "execution_count": 21,
   "id": "72031ce9",
   "metadata": {},
   "outputs": [
    {
     "data": {
      "text/plain": [
       "1.7235555630652752"
      ]
     },
     "execution_count": 21,
     "metadata": {},
     "output_type": "execute_result"
    }
   ],
   "source": [
    "#Calculando o erro da nossa amostra equivalente a 5%\n",
    "\n",
    "media = df_concatenado[\"RTT\"].mean()\n",
    "e = 0.05 * media\n",
    "e"
   ]
  },
  {
   "attachments": {},
   "cell_type": "markdown",
   "id": "087d3380",
   "metadata": {},
   "source": [
    "### Calculando o tamanho da nossa amostra"
   ]
  },
  {
   "attachments": {},
   "cell_type": "markdown",
   "id": "2687944e",
   "metadata": {},
   "source": [
    "# Substituindo todos os valores na formula para calcular o numero de amostra."
   ]
  },
  {
   "cell_type": "code",
   "execution_count": 22,
   "id": "85813525",
   "metadata": {},
   "outputs": [
    {
     "data": {
      "text/plain": [
       "511.01516309137475"
      ]
     },
     "execution_count": 22,
     "metadata": {},
     "output_type": "execute_result"
    }
   ],
   "source": [
    "n = (z * (desvio_padrao_amostral/e))**2\n",
    "n"
   ]
  }
 ],
 "metadata": {
  "kernelspec": {
   "display_name": "Python 3 (ipykernel)",
   "language": "python",
   "name": "python3"
  },
  "language_info": {
   "codemirror_mode": {
    "name": "ipython",
    "version": 3
   },
   "file_extension": ".py",
   "mimetype": "text/x-python",
   "name": "python",
   "nbconvert_exporter": "python",
   "pygments_lexer": "ipython3",
   "version": "3.10.6"
  }
 },
 "nbformat": 4,
 "nbformat_minor": 5
}
