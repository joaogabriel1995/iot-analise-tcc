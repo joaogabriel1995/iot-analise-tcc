{
 "cells": [
  {
   "cell_type": "code",
   "execution_count": 13,
   "id": "134f65e3",
   "metadata": {},
   "outputs": [],
   "source": [
    "import pandas as pd\n",
    "import re\n",
    "import matplotlib.pyplot as plt\n",
    "import scipy\n",
    "import numpy as np\n",
    "import scipy\n"
   ]
  },
  {
   "cell_type": "code",
   "execution_count": 16,
   "id": "f47c21fe",
   "metadata": {},
   "outputs": [
    {
     "data": {
      "text/html": [
       "<div>\n",
       "<style scoped>\n",
       "    .dataframe tbody tr th:only-of-type {\n",
       "        vertical-align: middle;\n",
       "    }\n",
       "\n",
       "    .dataframe tbody tr th {\n",
       "        vertical-align: top;\n",
       "    }\n",
       "\n",
       "    .dataframe thead th {\n",
       "        text-align: right;\n",
       "    }\n",
       "</style>\n",
       "<table border=\"1\" class=\"dataframe\">\n",
       "  <thead>\n",
       "    <tr style=\"text-align: right;\">\n",
       "      <th></th>\n",
       "      <th>No.</th>\n",
       "      <th>Time</th>\n",
       "      <th>Source</th>\n",
       "      <th>Destination</th>\n",
       "      <th>Protocol</th>\n",
       "      <th>Length</th>\n",
       "      <th>Source Port</th>\n",
       "      <th>Message Identifier</th>\n",
       "      <th>Destination Port</th>\n",
       "      <th>Info</th>\n",
       "    </tr>\n",
       "  </thead>\n",
       "  <tbody>\n",
       "    <tr>\n",
       "      <th>0</th>\n",
       "      <td>169</td>\n",
       "      <td>16.982250</td>\n",
       "      <td>192.168.15.6</td>\n",
       "      <td>45.179.91.66</td>\n",
       "      <td>MQTT</td>\n",
       "      <td>68</td>\n",
       "      <td>34366</td>\n",
       "      <td>NaN</td>\n",
       "      <td>1883</td>\n",
       "      <td>Ping Request</td>\n",
       "    </tr>\n",
       "    <tr>\n",
       "      <th>1</th>\n",
       "      <td>170</td>\n",
       "      <td>16.998925</td>\n",
       "      <td>45.179.91.66</td>\n",
       "      <td>192.168.15.6</td>\n",
       "      <td>MQTT</td>\n",
       "      <td>68</td>\n",
       "      <td>1883</td>\n",
       "      <td>NaN</td>\n",
       "      <td>34366</td>\n",
       "      <td>Ping Response</td>\n",
       "    </tr>\n",
       "    <tr>\n",
       "      <th>2</th>\n",
       "      <td>290</td>\n",
       "      <td>27.448019</td>\n",
       "      <td>192.168.15.6</td>\n",
       "      <td>45.179.91.66</td>\n",
       "      <td>MQTT</td>\n",
       "      <td>89</td>\n",
       "      <td>52269</td>\n",
       "      <td>NaN</td>\n",
       "      <td>1883</td>\n",
       "      <td>Connect Command</td>\n",
       "    </tr>\n",
       "    <tr>\n",
       "      <th>3</th>\n",
       "      <td>292</td>\n",
       "      <td>27.464281</td>\n",
       "      <td>192.168.15.6</td>\n",
       "      <td>45.179.91.66</td>\n",
       "      <td>MQTT</td>\n",
       "      <td>354</td>\n",
       "      <td>52269</td>\n",
       "      <td>1,2</td>\n",
       "      <td>1883</td>\n",
       "      <td>Subscribe Request (id=1) [devices-1], Publish ...</td>\n",
       "    </tr>\n",
       "    <tr>\n",
       "      <th>4</th>\n",
       "      <td>293</td>\n",
       "      <td>27.464220</td>\n",
       "      <td>45.179.91.66</td>\n",
       "      <td>192.168.15.6</td>\n",
       "      <td>MQTT</td>\n",
       "      <td>70</td>\n",
       "      <td>1883</td>\n",
       "      <td>NaN</td>\n",
       "      <td>52269</td>\n",
       "      <td>Connect Ack</td>\n",
       "    </tr>\n",
       "    <tr>\n",
       "      <th>...</th>\n",
       "      <td>...</td>\n",
       "      <td>...</td>\n",
       "      <td>...</td>\n",
       "      <td>...</td>\n",
       "      <td>...</td>\n",
       "      <td>...</td>\n",
       "      <td>...</td>\n",
       "      <td>...</td>\n",
       "      <td>...</td>\n",
       "      <td>...</td>\n",
       "    </tr>\n",
       "    <tr>\n",
       "      <th>745</th>\n",
       "      <td>16715</td>\n",
       "      <td>2194.138607</td>\n",
       "      <td>45.179.91.66</td>\n",
       "      <td>192.168.15.6</td>\n",
       "      <td>MQTT</td>\n",
       "      <td>68</td>\n",
       "      <td>1883</td>\n",
       "      <td>NaN</td>\n",
       "      <td>52269</td>\n",
       "      <td>Ping Response</td>\n",
       "    </tr>\n",
       "    <tr>\n",
       "      <th>746</th>\n",
       "      <td>17279</td>\n",
       "      <td>2237.073993</td>\n",
       "      <td>192.168.15.6</td>\n",
       "      <td>45.179.91.66</td>\n",
       "      <td>MQTT</td>\n",
       "      <td>68</td>\n",
       "      <td>34366</td>\n",
       "      <td>NaN</td>\n",
       "      <td>1883</td>\n",
       "      <td>Ping Request</td>\n",
       "    </tr>\n",
       "    <tr>\n",
       "      <th>747</th>\n",
       "      <td>17280</td>\n",
       "      <td>2237.094071</td>\n",
       "      <td>45.179.91.66</td>\n",
       "      <td>192.168.15.6</td>\n",
       "      <td>MQTT</td>\n",
       "      <td>68</td>\n",
       "      <td>1883</td>\n",
       "      <td>NaN</td>\n",
       "      <td>34366</td>\n",
       "      <td>Ping Response</td>\n",
       "    </tr>\n",
       "    <tr>\n",
       "      <th>748</th>\n",
       "      <td>17430</td>\n",
       "      <td>2254.197672</td>\n",
       "      <td>192.168.15.6</td>\n",
       "      <td>45.179.91.66</td>\n",
       "      <td>MQTT</td>\n",
       "      <td>68</td>\n",
       "      <td>52269</td>\n",
       "      <td>NaN</td>\n",
       "      <td>1883</td>\n",
       "      <td>Ping Request</td>\n",
       "    </tr>\n",
       "    <tr>\n",
       "      <th>749</th>\n",
       "      <td>17431</td>\n",
       "      <td>2254.214742</td>\n",
       "      <td>45.179.91.66</td>\n",
       "      <td>192.168.15.6</td>\n",
       "      <td>MQTT</td>\n",
       "      <td>68</td>\n",
       "      <td>1883</td>\n",
       "      <td>NaN</td>\n",
       "      <td>52269</td>\n",
       "      <td>Ping Response</td>\n",
       "    </tr>\n",
       "  </tbody>\n",
       "</table>\n",
       "<p>750 rows × 10 columns</p>\n",
       "</div>"
      ],
      "text/plain": [
       "       No.         Time        Source   Destination Protocol  Length   \n",
       "0      169    16.982250  192.168.15.6  45.179.91.66     MQTT      68  \\\n",
       "1      170    16.998925  45.179.91.66  192.168.15.6     MQTT      68   \n",
       "2      290    27.448019  192.168.15.6  45.179.91.66     MQTT      89   \n",
       "3      292    27.464281  192.168.15.6  45.179.91.66     MQTT     354   \n",
       "4      293    27.464220  45.179.91.66  192.168.15.6     MQTT      70   \n",
       "..     ...          ...           ...           ...      ...     ...   \n",
       "745  16715  2194.138607  45.179.91.66  192.168.15.6     MQTT      68   \n",
       "746  17279  2237.073993  192.168.15.6  45.179.91.66     MQTT      68   \n",
       "747  17280  2237.094071  45.179.91.66  192.168.15.6     MQTT      68   \n",
       "748  17430  2254.197672  192.168.15.6  45.179.91.66     MQTT      68   \n",
       "749  17431  2254.214742  45.179.91.66  192.168.15.6     MQTT      68   \n",
       "\n",
       "     Source Port Message Identifier  Destination Port   \n",
       "0          34366                NaN              1883  \\\n",
       "1           1883                NaN             34366   \n",
       "2          52269                NaN              1883   \n",
       "3          52269                1,2              1883   \n",
       "4           1883                NaN             52269   \n",
       "..           ...                ...               ...   \n",
       "745         1883                NaN             52269   \n",
       "746        34366                NaN              1883   \n",
       "747         1883                NaN             34366   \n",
       "748        52269                NaN              1883   \n",
       "749         1883                NaN             52269   \n",
       "\n",
       "                                                  Info  \n",
       "0                                         Ping Request  \n",
       "1                                        Ping Response  \n",
       "2                                      Connect Command  \n",
       "3    Subscribe Request (id=1) [devices-1], Publish ...  \n",
       "4                                          Connect Ack  \n",
       "..                                                 ...  \n",
       "745                                      Ping Response  \n",
       "746                                       Ping Request  \n",
       "747                                      Ping Response  \n",
       "748                                       Ping Request  \n",
       "749                                      Ping Response  \n",
       "\n",
       "[750 rows x 10 columns]"
      ]
     },
     "execution_count": 16,
     "metadata": {},
     "output_type": "execute_result"
    }
   ],
   "source": [
    "data = pd.read_csv(\"./data.csv\")\n",
    "ports = data[\"Source Port\"].unique()\n",
    "ports = ports[ports !=1883]\n",
    "ports = ports[ports != 34366]\n",
    "ports\n",
    "data\n"
   ]
  },
  {
   "cell_type": "code",
   "execution_count": 17,
   "id": "68b8dfc9",
   "metadata": {},
   "outputs": [],
   "source": [
    "devices = {}\n",
    "#  : devices será um dicionario que irá ter uma chave referente ao device e o valor será um dataframe referente aos respectivos devices \n",
    "for port in ports: \n",
    "  data = data.loc[ ~(data[\"Message Identifier\"] == \"1,2\")]\n",
    "  array_publish = data.loc[data[\"Source Port\"] == port].dropna(subset=['Message Identifier'])\n",
    "  array_publish_ack = data.loc[data[\"Destination Port\"] == port].dropna(subset=['Message Identifier'])\n",
    "  device = {\"publish\":array_publish, \"publish_ack\" : array_publish_ack}\n",
    "  devices[port] = device"
   ]
  },
  {
   "cell_type": "code",
   "execution_count": 18,
   "id": "40fdeb08",
   "metadata": {},
   "outputs": [
    {
     "data": {
      "text/plain": [
       "16.835468205094074"
      ]
     },
     "execution_count": 18,
     "metadata": {},
     "output_type": "execute_result"
    }
   ],
   "source": [
    "data = {}\n",
    "df_concatenado = pd.DataFrame()\n",
    "for port in ports:\n",
    "    RTT = pd.DataFrame(columns=[\"Time_publish\", \"Time_ack\"])\n",
    "    for index, row in devices[port][\"publish\"].iterrows():\n",
    "        id = int(row[\"Message Identifier\"])\n",
    "        time_publish = row[\"Time\"]\n",
    "        RTT.loc[id, \"Size_Payload\"] = 246 \n",
    "\n",
    "        RTT.loc[id, \"Time_publish\"] = time_publish \n",
    "\n",
    "    for index, row in devices[port][\"publish_ack\"].iterrows():\n",
    "        id = int(row[\"Message Identifier\"])\n",
    "        time_publish = row[\"Time\"]\n",
    "        RTT.loc[id, \"Time_ack\"] = time_publish\n",
    "    RTT.loc[id, \"Time_ack\"] = time_publish\n",
    "    RTT[\"RTT\"]  =(RTT[\"Time_ack\"] - RTT[\"Time_publish\"] )* 1000\n",
    "    data[port] = RTT\n",
    "    df_concatenado = pd.concat([data[port], df_concatenado])\n",
    "df_concatenado[\"RTT\"].std()\n",
    "media = df_concatenado[\"RTT\"].mean()\n",
    "e = 0.05 * media\n",
    "n = (1.96 * (df_concatenado[\"RTT\"].std()/e))**2\n",
    "n\n"
   ]
  },
  {
   "cell_type": "code",
   "execution_count": 19,
   "id": "c191bdf9",
   "metadata": {},
   "outputs": [
    {
     "data": {
      "text/plain": [
       "16.835468205094074"
      ]
     },
     "execution_count": 19,
     "metadata": {},
     "output_type": "execute_result"
    }
   ],
   "source": [
    "\n",
    "media = df_concatenado[\"RTT\"].mean()\n",
    "e = 0.05 * media\n",
    "n = (1.96 * (df_concatenado[\"RTT\"].std()/e))**2\n",
    "n"
   ]
  },
  {
   "attachments": {},
   "cell_type": "markdown",
   "id": "4086cd3f",
   "metadata": {},
   "source": [
    "# CÁLCULO DO TAMANHO DA AMOSTRA\n",
    "***\n",
    "## Variáveis quantitativas e população infinita\n",
    "***\n",
    "## Nívéis de confiança e significância \n",
    "O **nível de confiança** ($1 - \\alpha$) representa a probabilidade de acerto da estimativa. De forma complementar o **nível de significância** ($\\alpha$) expressa a probabilidade de erro da estimativa.\n",
    "\n",
    "O **nível de confiança** representa o grau de confiabilidade do resultado da estimativa estar dentro de determinado intervalo. Quando fixamos em uma pesquisa um **nível de confiança** de 95%, por exemplo, estamos assumindo que existe uma probabilidade de 95% dos resultados da pesquisa representarem bem a realidade, ou seja, estarem corretos.\n",
    "\n",
    "O **nível de confiança** de uma estimativa pode ser obtido a partir da área sob a curva normal como ilustrado na figura abaixo.\n",
    "\n",
    "\n",
    "![alt text](https://caelum-online-public.s3.amazonaws.com/1178-estatistica-parte2/01/img007.png)\n",
    "\n",
    "Em nosso trabalho iremos utilizar um nivel de confiança de 95%, logo abaixo iremos calcular o Z.\n",
    "\n",
    "Esta variável $Z$ representa o afastamento em desvios padrões de um valor da variável original em relação à média."
   ]
  },
  {
   "cell_type": "code",
   "execution_count": 20,
   "id": "1a419631",
   "metadata": {},
   "outputs": [],
   "source": [
    "#variavel nível de significancia\n",
    "nivel_de_significancia = 0.05"
   ]
  },
  {
   "cell_type": "code",
   "execution_count": 21,
   "id": "e35183e9",
   "metadata": {},
   "outputs": [
    {
     "data": {
      "text/plain": [
       "0.95"
      ]
     },
     "execution_count": 21,
     "metadata": {},
     "output_type": "execute_result"
    }
   ],
   "source": [
    "#Calculando nivel de confiança\n",
    "nivel_de_confiança = 1 - nivel_de_significancia\n",
    "nivel_de_confiança"
   ]
  },
  {
   "cell_type": "code",
   "execution_count": 22,
   "id": "3131a7c4",
   "metadata": {},
   "outputs": [
    {
     "data": {
      "text/plain": [
       "1.959963984540054"
      ]
     },
     "execution_count": 22,
     "metadata": {},
     "output_type": "execute_result"
    }
   ],
   "source": [
    "#Calculando o z com scipy\n",
    "z = scipy.stats.norm.ppf(0.975)\n",
    "z"
   ]
  },
  {
   "attachments": {},
   "cell_type": "markdown",
   "id": "df9fb869",
   "metadata": {},
   "source": [
    "Com nosso z calculado podemos seguir adiante\n",
    "\n",
    "### $$z = 1.959963984540054 $$\n",
    "\n",
    "Abaixo segue algumas formulas que iremos utilizar para calcular o numero de amostra\n",
    "\n",
    "## $$n = \\left(z\\frac{s}{e}\\right)^2$$\n",
    "\n",
    "\n",
    "\n",
    "\n",
    "\n",
    "Onde:\n",
    "\n",
    "$z$ = variável normal padronizada\n",
    "\n",
    "$s$ = desvio padrão amostral\n",
    "\n",
    "$e$ = erro inferencial\n",
    "\n",
    "\n",
    "### Calculando a desvio padrão $s$"
   ]
  },
  {
   "cell_type": "code",
   "execution_count": 23,
   "id": "d5cbf577",
   "metadata": {},
   "outputs": [
    {
     "data": {
      "text/plain": [
       "3.357909471699747"
      ]
     },
     "execution_count": 23,
     "metadata": {},
     "output_type": "execute_result"
    }
   ],
   "source": [
    "# Calculando o desvio padrão do nosso único dispositivo\n",
    "desvio_padrao_amostral = df_concatenado[\"RTT\"].std()\n",
    "desvio_padrao_amostral"
   ]
  },
  {
   "cell_type": "code",
   "execution_count": 24,
   "id": "72031ce9",
   "metadata": {},
   "outputs": [
    {
     "data": {
      "text/plain": [
       "1.6040298848485879"
      ]
     },
     "execution_count": 24,
     "metadata": {},
     "output_type": "execute_result"
    }
   ],
   "source": [
    "#Calculando o erro da nossa amostra equivalente a 5%\n",
    "\n",
    "media = df_concatenado[\"RTT\"].mean()\n",
    "e = 0.05 * media\n",
    "e"
   ]
  },
  {
   "attachments": {},
   "cell_type": "markdown",
   "id": "087d3380",
   "metadata": {},
   "source": [
    "### Calculando o tamanho da nossa amostra"
   ]
  },
  {
   "attachments": {},
   "cell_type": "markdown",
   "id": "2687944e",
   "metadata": {},
   "source": [
    "# Substituindo todos os valores na formula para calcular o numero de amostra."
   ]
  },
  {
   "cell_type": "code",
   "execution_count": 25,
   "id": "85813525",
   "metadata": {},
   "outputs": [
    {
     "data": {
      "text/plain": [
       "16.83484949942058"
      ]
     },
     "execution_count": 25,
     "metadata": {},
     "output_type": "execute_result"
    }
   ],
   "source": [
    "n = (z * (desvio_padrao_amostral/e))**2\n",
    "n"
   ]
  }
 ],
 "metadata": {
  "kernelspec": {
   "display_name": "Python 3 (ipykernel)",
   "language": "python",
   "name": "python3"
  },
  "language_info": {
   "codemirror_mode": {
    "name": "ipython",
    "version": 3
   },
   "file_extension": ".py",
   "mimetype": "text/x-python",
   "name": "python",
   "nbconvert_exporter": "python",
   "pygments_lexer": "ipython3",
   "version": "3.10.6"
  }
 },
 "nbformat": 4,
 "nbformat_minor": 5
}
